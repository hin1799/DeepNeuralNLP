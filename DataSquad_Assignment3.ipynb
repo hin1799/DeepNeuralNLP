{
  "nbformat": 4,
  "nbformat_minor": 0,
  "metadata": {
    "colab": {
      "provenance": [],
      "toc_visible": true,
      "authorship_tag": "ABX9TyOpYxtrGlG7GdUymkQkSMyV",
      "include_colab_link": true
    },
    "kernelspec": {
      "name": "python3",
      "display_name": "Python 3"
    },
    "language_info": {
      "name": "python"
    },
    "widgets": {
      "application/vnd.jupyter.widget-state+json": {
        "9c8e1da383314179b574ee609c6212eb": {
          "model_module": "@jupyter-widgets/controls",
          "model_name": "HBoxModel",
          "model_module_version": "1.5.0",
          "state": {
            "_dom_classes": [],
            "_model_module": "@jupyter-widgets/controls",
            "_model_module_version": "1.5.0",
            "_model_name": "HBoxModel",
            "_view_count": null,
            "_view_module": "@jupyter-widgets/controls",
            "_view_module_version": "1.5.0",
            "_view_name": "HBoxView",
            "box_style": "",
            "children": [
              "IPY_MODEL_20b79ca2691d4617b731161f42147665",
              "IPY_MODEL_dfa397943f764151ae5d06a4453737fd",
              "IPY_MODEL_cb95a14df2ab47049d17b334d0f6a462"
            ],
            "layout": "IPY_MODEL_7b72b74562af4f16bd59b1ffba4b5113"
          }
        },
        "20b79ca2691d4617b731161f42147665": {
          "model_module": "@jupyter-widgets/controls",
          "model_name": "HTMLModel",
          "model_module_version": "1.5.0",
          "state": {
            "_dom_classes": [],
            "_model_module": "@jupyter-widgets/controls",
            "_model_module_version": "1.5.0",
            "_model_name": "HTMLModel",
            "_view_count": null,
            "_view_module": "@jupyter-widgets/controls",
            "_view_module_version": "1.5.0",
            "_view_name": "HTMLView",
            "description": "",
            "description_tooltip": null,
            "layout": "IPY_MODEL_b408630d55494508b566f0fbc85f8507",
            "placeholder": "​",
            "style": "IPY_MODEL_e8d7993a11be4f40a4d9cd672a14f5ba",
            "value": "tokenizer_config.json: 100%"
          }
        },
        "dfa397943f764151ae5d06a4453737fd": {
          "model_module": "@jupyter-widgets/controls",
          "model_name": "FloatProgressModel",
          "model_module_version": "1.5.0",
          "state": {
            "_dom_classes": [],
            "_model_module": "@jupyter-widgets/controls",
            "_model_module_version": "1.5.0",
            "_model_name": "FloatProgressModel",
            "_view_count": null,
            "_view_module": "@jupyter-widgets/controls",
            "_view_module_version": "1.5.0",
            "_view_name": "ProgressView",
            "bar_style": "success",
            "description": "",
            "description_tooltip": null,
            "layout": "IPY_MODEL_c4ec282d0c8346c699573cefb08a8ef1",
            "max": 28,
            "min": 0,
            "orientation": "horizontal",
            "style": "IPY_MODEL_8a811a572aed47879fe74044028871f6",
            "value": 28
          }
        },
        "cb95a14df2ab47049d17b334d0f6a462": {
          "model_module": "@jupyter-widgets/controls",
          "model_name": "HTMLModel",
          "model_module_version": "1.5.0",
          "state": {
            "_dom_classes": [],
            "_model_module": "@jupyter-widgets/controls",
            "_model_module_version": "1.5.0",
            "_model_name": "HTMLModel",
            "_view_count": null,
            "_view_module": "@jupyter-widgets/controls",
            "_view_module_version": "1.5.0",
            "_view_name": "HTMLView",
            "description": "",
            "description_tooltip": null,
            "layout": "IPY_MODEL_cb2feffd227a4b1d845f48a503b30098",
            "placeholder": "​",
            "style": "IPY_MODEL_99fb54d01cfa483ea91fa33ba10d4b71",
            "value": " 28.0/28.0 [00:00&lt;00:00, 1.40kB/s]"
          }
        },
        "7b72b74562af4f16bd59b1ffba4b5113": {
          "model_module": "@jupyter-widgets/base",
          "model_name": "LayoutModel",
          "model_module_version": "1.2.0",
          "state": {
            "_model_module": "@jupyter-widgets/base",
            "_model_module_version": "1.2.0",
            "_model_name": "LayoutModel",
            "_view_count": null,
            "_view_module": "@jupyter-widgets/base",
            "_view_module_version": "1.2.0",
            "_view_name": "LayoutView",
            "align_content": null,
            "align_items": null,
            "align_self": null,
            "border": null,
            "bottom": null,
            "display": null,
            "flex": null,
            "flex_flow": null,
            "grid_area": null,
            "grid_auto_columns": null,
            "grid_auto_flow": null,
            "grid_auto_rows": null,
            "grid_column": null,
            "grid_gap": null,
            "grid_row": null,
            "grid_template_areas": null,
            "grid_template_columns": null,
            "grid_template_rows": null,
            "height": null,
            "justify_content": null,
            "justify_items": null,
            "left": null,
            "margin": null,
            "max_height": null,
            "max_width": null,
            "min_height": null,
            "min_width": null,
            "object_fit": null,
            "object_position": null,
            "order": null,
            "overflow": null,
            "overflow_x": null,
            "overflow_y": null,
            "padding": null,
            "right": null,
            "top": null,
            "visibility": null,
            "width": null
          }
        },
        "b408630d55494508b566f0fbc85f8507": {
          "model_module": "@jupyter-widgets/base",
          "model_name": "LayoutModel",
          "model_module_version": "1.2.0",
          "state": {
            "_model_module": "@jupyter-widgets/base",
            "_model_module_version": "1.2.0",
            "_model_name": "LayoutModel",
            "_view_count": null,
            "_view_module": "@jupyter-widgets/base",
            "_view_module_version": "1.2.0",
            "_view_name": "LayoutView",
            "align_content": null,
            "align_items": null,
            "align_self": null,
            "border": null,
            "bottom": null,
            "display": null,
            "flex": null,
            "flex_flow": null,
            "grid_area": null,
            "grid_auto_columns": null,
            "grid_auto_flow": null,
            "grid_auto_rows": null,
            "grid_column": null,
            "grid_gap": null,
            "grid_row": null,
            "grid_template_areas": null,
            "grid_template_columns": null,
            "grid_template_rows": null,
            "height": null,
            "justify_content": null,
            "justify_items": null,
            "left": null,
            "margin": null,
            "max_height": null,
            "max_width": null,
            "min_height": null,
            "min_width": null,
            "object_fit": null,
            "object_position": null,
            "order": null,
            "overflow": null,
            "overflow_x": null,
            "overflow_y": null,
            "padding": null,
            "right": null,
            "top": null,
            "visibility": null,
            "width": null
          }
        },
        "e8d7993a11be4f40a4d9cd672a14f5ba": {
          "model_module": "@jupyter-widgets/controls",
          "model_name": "DescriptionStyleModel",
          "model_module_version": "1.5.0",
          "state": {
            "_model_module": "@jupyter-widgets/controls",
            "_model_module_version": "1.5.0",
            "_model_name": "DescriptionStyleModel",
            "_view_count": null,
            "_view_module": "@jupyter-widgets/base",
            "_view_module_version": "1.2.0",
            "_view_name": "StyleView",
            "description_width": ""
          }
        },
        "c4ec282d0c8346c699573cefb08a8ef1": {
          "model_module": "@jupyter-widgets/base",
          "model_name": "LayoutModel",
          "model_module_version": "1.2.0",
          "state": {
            "_model_module": "@jupyter-widgets/base",
            "_model_module_version": "1.2.0",
            "_model_name": "LayoutModel",
            "_view_count": null,
            "_view_module": "@jupyter-widgets/base",
            "_view_module_version": "1.2.0",
            "_view_name": "LayoutView",
            "align_content": null,
            "align_items": null,
            "align_self": null,
            "border": null,
            "bottom": null,
            "display": null,
            "flex": null,
            "flex_flow": null,
            "grid_area": null,
            "grid_auto_columns": null,
            "grid_auto_flow": null,
            "grid_auto_rows": null,
            "grid_column": null,
            "grid_gap": null,
            "grid_row": null,
            "grid_template_areas": null,
            "grid_template_columns": null,
            "grid_template_rows": null,
            "height": null,
            "justify_content": null,
            "justify_items": null,
            "left": null,
            "margin": null,
            "max_height": null,
            "max_width": null,
            "min_height": null,
            "min_width": null,
            "object_fit": null,
            "object_position": null,
            "order": null,
            "overflow": null,
            "overflow_x": null,
            "overflow_y": null,
            "padding": null,
            "right": null,
            "top": null,
            "visibility": null,
            "width": null
          }
        },
        "8a811a572aed47879fe74044028871f6": {
          "model_module": "@jupyter-widgets/controls",
          "model_name": "ProgressStyleModel",
          "model_module_version": "1.5.0",
          "state": {
            "_model_module": "@jupyter-widgets/controls",
            "_model_module_version": "1.5.0",
            "_model_name": "ProgressStyleModel",
            "_view_count": null,
            "_view_module": "@jupyter-widgets/base",
            "_view_module_version": "1.2.0",
            "_view_name": "StyleView",
            "bar_color": null,
            "description_width": ""
          }
        },
        "cb2feffd227a4b1d845f48a503b30098": {
          "model_module": "@jupyter-widgets/base",
          "model_name": "LayoutModel",
          "model_module_version": "1.2.0",
          "state": {
            "_model_module": "@jupyter-widgets/base",
            "_model_module_version": "1.2.0",
            "_model_name": "LayoutModel",
            "_view_count": null,
            "_view_module": "@jupyter-widgets/base",
            "_view_module_version": "1.2.0",
            "_view_name": "LayoutView",
            "align_content": null,
            "align_items": null,
            "align_self": null,
            "border": null,
            "bottom": null,
            "display": null,
            "flex": null,
            "flex_flow": null,
            "grid_area": null,
            "grid_auto_columns": null,
            "grid_auto_flow": null,
            "grid_auto_rows": null,
            "grid_column": null,
            "grid_gap": null,
            "grid_row": null,
            "grid_template_areas": null,
            "grid_template_columns": null,
            "grid_template_rows": null,
            "height": null,
            "justify_content": null,
            "justify_items": null,
            "left": null,
            "margin": null,
            "max_height": null,
            "max_width": null,
            "min_height": null,
            "min_width": null,
            "object_fit": null,
            "object_position": null,
            "order": null,
            "overflow": null,
            "overflow_x": null,
            "overflow_y": null,
            "padding": null,
            "right": null,
            "top": null,
            "visibility": null,
            "width": null
          }
        },
        "99fb54d01cfa483ea91fa33ba10d4b71": {
          "model_module": "@jupyter-widgets/controls",
          "model_name": "DescriptionStyleModel",
          "model_module_version": "1.5.0",
          "state": {
            "_model_module": "@jupyter-widgets/controls",
            "_model_module_version": "1.5.0",
            "_model_name": "DescriptionStyleModel",
            "_view_count": null,
            "_view_module": "@jupyter-widgets/base",
            "_view_module_version": "1.2.0",
            "_view_name": "StyleView",
            "description_width": ""
          }
        },
        "ca4c80b94c7143ec9512fa879a14cad2": {
          "model_module": "@jupyter-widgets/controls",
          "model_name": "HBoxModel",
          "model_module_version": "1.5.0",
          "state": {
            "_dom_classes": [],
            "_model_module": "@jupyter-widgets/controls",
            "_model_module_version": "1.5.0",
            "_model_name": "HBoxModel",
            "_view_count": null,
            "_view_module": "@jupyter-widgets/controls",
            "_view_module_version": "1.5.0",
            "_view_name": "HBoxView",
            "box_style": "",
            "children": [
              "IPY_MODEL_77acda22d7e14256abf7b34763f944a0",
              "IPY_MODEL_58f08769440d4d2d8e13055355b8b83c",
              "IPY_MODEL_cee4ead31b3c46eaa62379ffaf3be00d"
            ],
            "layout": "IPY_MODEL_53e5de3950f1485a9ac7bc390bf437aa"
          }
        },
        "77acda22d7e14256abf7b34763f944a0": {
          "model_module": "@jupyter-widgets/controls",
          "model_name": "HTMLModel",
          "model_module_version": "1.5.0",
          "state": {
            "_dom_classes": [],
            "_model_module": "@jupyter-widgets/controls",
            "_model_module_version": "1.5.0",
            "_model_name": "HTMLModel",
            "_view_count": null,
            "_view_module": "@jupyter-widgets/controls",
            "_view_module_version": "1.5.0",
            "_view_name": "HTMLView",
            "description": "",
            "description_tooltip": null,
            "layout": "IPY_MODEL_1024cd05bdcc4015947a29c35d6c199e",
            "placeholder": "​",
            "style": "IPY_MODEL_7f6ac5874a4d46ba846eb19314ff5d4e",
            "value": "vocab.txt: 100%"
          }
        },
        "58f08769440d4d2d8e13055355b8b83c": {
          "model_module": "@jupyter-widgets/controls",
          "model_name": "FloatProgressModel",
          "model_module_version": "1.5.0",
          "state": {
            "_dom_classes": [],
            "_model_module": "@jupyter-widgets/controls",
            "_model_module_version": "1.5.0",
            "_model_name": "FloatProgressModel",
            "_view_count": null,
            "_view_module": "@jupyter-widgets/controls",
            "_view_module_version": "1.5.0",
            "_view_name": "ProgressView",
            "bar_style": "success",
            "description": "",
            "description_tooltip": null,
            "layout": "IPY_MODEL_fde4f6c064e64d66bd292ec989f035af",
            "max": 231508,
            "min": 0,
            "orientation": "horizontal",
            "style": "IPY_MODEL_0a4a2c25b2f64b479afc8faa8fd674a3",
            "value": 231508
          }
        },
        "cee4ead31b3c46eaa62379ffaf3be00d": {
          "model_module": "@jupyter-widgets/controls",
          "model_name": "HTMLModel",
          "model_module_version": "1.5.0",
          "state": {
            "_dom_classes": [],
            "_model_module": "@jupyter-widgets/controls",
            "_model_module_version": "1.5.0",
            "_model_name": "HTMLModel",
            "_view_count": null,
            "_view_module": "@jupyter-widgets/controls",
            "_view_module_version": "1.5.0",
            "_view_name": "HTMLView",
            "description": "",
            "description_tooltip": null,
            "layout": "IPY_MODEL_b62fc0b3b1024315b721df1f260bc620",
            "placeholder": "​",
            "style": "IPY_MODEL_ecd42ea07c4a416f8f461ca6c2be0b47",
            "value": " 232k/232k [00:00&lt;00:00, 2.81MB/s]"
          }
        },
        "53e5de3950f1485a9ac7bc390bf437aa": {
          "model_module": "@jupyter-widgets/base",
          "model_name": "LayoutModel",
          "model_module_version": "1.2.0",
          "state": {
            "_model_module": "@jupyter-widgets/base",
            "_model_module_version": "1.2.0",
            "_model_name": "LayoutModel",
            "_view_count": null,
            "_view_module": "@jupyter-widgets/base",
            "_view_module_version": "1.2.0",
            "_view_name": "LayoutView",
            "align_content": null,
            "align_items": null,
            "align_self": null,
            "border": null,
            "bottom": null,
            "display": null,
            "flex": null,
            "flex_flow": null,
            "grid_area": null,
            "grid_auto_columns": null,
            "grid_auto_flow": null,
            "grid_auto_rows": null,
            "grid_column": null,
            "grid_gap": null,
            "grid_row": null,
            "grid_template_areas": null,
            "grid_template_columns": null,
            "grid_template_rows": null,
            "height": null,
            "justify_content": null,
            "justify_items": null,
            "left": null,
            "margin": null,
            "max_height": null,
            "max_width": null,
            "min_height": null,
            "min_width": null,
            "object_fit": null,
            "object_position": null,
            "order": null,
            "overflow": null,
            "overflow_x": null,
            "overflow_y": null,
            "padding": null,
            "right": null,
            "top": null,
            "visibility": null,
            "width": null
          }
        },
        "1024cd05bdcc4015947a29c35d6c199e": {
          "model_module": "@jupyter-widgets/base",
          "model_name": "LayoutModel",
          "model_module_version": "1.2.0",
          "state": {
            "_model_module": "@jupyter-widgets/base",
            "_model_module_version": "1.2.0",
            "_model_name": "LayoutModel",
            "_view_count": null,
            "_view_module": "@jupyter-widgets/base",
            "_view_module_version": "1.2.0",
            "_view_name": "LayoutView",
            "align_content": null,
            "align_items": null,
            "align_self": null,
            "border": null,
            "bottom": null,
            "display": null,
            "flex": null,
            "flex_flow": null,
            "grid_area": null,
            "grid_auto_columns": null,
            "grid_auto_flow": null,
            "grid_auto_rows": null,
            "grid_column": null,
            "grid_gap": null,
            "grid_row": null,
            "grid_template_areas": null,
            "grid_template_columns": null,
            "grid_template_rows": null,
            "height": null,
            "justify_content": null,
            "justify_items": null,
            "left": null,
            "margin": null,
            "max_height": null,
            "max_width": null,
            "min_height": null,
            "min_width": null,
            "object_fit": null,
            "object_position": null,
            "order": null,
            "overflow": null,
            "overflow_x": null,
            "overflow_y": null,
            "padding": null,
            "right": null,
            "top": null,
            "visibility": null,
            "width": null
          }
        },
        "7f6ac5874a4d46ba846eb19314ff5d4e": {
          "model_module": "@jupyter-widgets/controls",
          "model_name": "DescriptionStyleModel",
          "model_module_version": "1.5.0",
          "state": {
            "_model_module": "@jupyter-widgets/controls",
            "_model_module_version": "1.5.0",
            "_model_name": "DescriptionStyleModel",
            "_view_count": null,
            "_view_module": "@jupyter-widgets/base",
            "_view_module_version": "1.2.0",
            "_view_name": "StyleView",
            "description_width": ""
          }
        },
        "fde4f6c064e64d66bd292ec989f035af": {
          "model_module": "@jupyter-widgets/base",
          "model_name": "LayoutModel",
          "model_module_version": "1.2.0",
          "state": {
            "_model_module": "@jupyter-widgets/base",
            "_model_module_version": "1.2.0",
            "_model_name": "LayoutModel",
            "_view_count": null,
            "_view_module": "@jupyter-widgets/base",
            "_view_module_version": "1.2.0",
            "_view_name": "LayoutView",
            "align_content": null,
            "align_items": null,
            "align_self": null,
            "border": null,
            "bottom": null,
            "display": null,
            "flex": null,
            "flex_flow": null,
            "grid_area": null,
            "grid_auto_columns": null,
            "grid_auto_flow": null,
            "grid_auto_rows": null,
            "grid_column": null,
            "grid_gap": null,
            "grid_row": null,
            "grid_template_areas": null,
            "grid_template_columns": null,
            "grid_template_rows": null,
            "height": null,
            "justify_content": null,
            "justify_items": null,
            "left": null,
            "margin": null,
            "max_height": null,
            "max_width": null,
            "min_height": null,
            "min_width": null,
            "object_fit": null,
            "object_position": null,
            "order": null,
            "overflow": null,
            "overflow_x": null,
            "overflow_y": null,
            "padding": null,
            "right": null,
            "top": null,
            "visibility": null,
            "width": null
          }
        },
        "0a4a2c25b2f64b479afc8faa8fd674a3": {
          "model_module": "@jupyter-widgets/controls",
          "model_name": "ProgressStyleModel",
          "model_module_version": "1.5.0",
          "state": {
            "_model_module": "@jupyter-widgets/controls",
            "_model_module_version": "1.5.0",
            "_model_name": "ProgressStyleModel",
            "_view_count": null,
            "_view_module": "@jupyter-widgets/base",
            "_view_module_version": "1.2.0",
            "_view_name": "StyleView",
            "bar_color": null,
            "description_width": ""
          }
        },
        "b62fc0b3b1024315b721df1f260bc620": {
          "model_module": "@jupyter-widgets/base",
          "model_name": "LayoutModel",
          "model_module_version": "1.2.0",
          "state": {
            "_model_module": "@jupyter-widgets/base",
            "_model_module_version": "1.2.0",
            "_model_name": "LayoutModel",
            "_view_count": null,
            "_view_module": "@jupyter-widgets/base",
            "_view_module_version": "1.2.0",
            "_view_name": "LayoutView",
            "align_content": null,
            "align_items": null,
            "align_self": null,
            "border": null,
            "bottom": null,
            "display": null,
            "flex": null,
            "flex_flow": null,
            "grid_area": null,
            "grid_auto_columns": null,
            "grid_auto_flow": null,
            "grid_auto_rows": null,
            "grid_column": null,
            "grid_gap": null,
            "grid_row": null,
            "grid_template_areas": null,
            "grid_template_columns": null,
            "grid_template_rows": null,
            "height": null,
            "justify_content": null,
            "justify_items": null,
            "left": null,
            "margin": null,
            "max_height": null,
            "max_width": null,
            "min_height": null,
            "min_width": null,
            "object_fit": null,
            "object_position": null,
            "order": null,
            "overflow": null,
            "overflow_x": null,
            "overflow_y": null,
            "padding": null,
            "right": null,
            "top": null,
            "visibility": null,
            "width": null
          }
        },
        "ecd42ea07c4a416f8f461ca6c2be0b47": {
          "model_module": "@jupyter-widgets/controls",
          "model_name": "DescriptionStyleModel",
          "model_module_version": "1.5.0",
          "state": {
            "_model_module": "@jupyter-widgets/controls",
            "_model_module_version": "1.5.0",
            "_model_name": "DescriptionStyleModel",
            "_view_count": null,
            "_view_module": "@jupyter-widgets/base",
            "_view_module_version": "1.2.0",
            "_view_name": "StyleView",
            "description_width": ""
          }
        },
        "fe8e2be050874a07836645fa792aedf2": {
          "model_module": "@jupyter-widgets/controls",
          "model_name": "HBoxModel",
          "model_module_version": "1.5.0",
          "state": {
            "_dom_classes": [],
            "_model_module": "@jupyter-widgets/controls",
            "_model_module_version": "1.5.0",
            "_model_name": "HBoxModel",
            "_view_count": null,
            "_view_module": "@jupyter-widgets/controls",
            "_view_module_version": "1.5.0",
            "_view_name": "HBoxView",
            "box_style": "",
            "children": [
              "IPY_MODEL_f692a3a555c747769caffdd59e62af40",
              "IPY_MODEL_1d3238ec98c5467ba4997f3fd35cf59c",
              "IPY_MODEL_759de13deb134255a06b2b7f93f2fb05"
            ],
            "layout": "IPY_MODEL_d6974059c9eb4068950b8a2cfae686a2"
          }
        },
        "f692a3a555c747769caffdd59e62af40": {
          "model_module": "@jupyter-widgets/controls",
          "model_name": "HTMLModel",
          "model_module_version": "1.5.0",
          "state": {
            "_dom_classes": [],
            "_model_module": "@jupyter-widgets/controls",
            "_model_module_version": "1.5.0",
            "_model_name": "HTMLModel",
            "_view_count": null,
            "_view_module": "@jupyter-widgets/controls",
            "_view_module_version": "1.5.0",
            "_view_name": "HTMLView",
            "description": "",
            "description_tooltip": null,
            "layout": "IPY_MODEL_253cbc60d2bd41978c707e924e80bdfc",
            "placeholder": "​",
            "style": "IPY_MODEL_cf5b979f3e3c4ab5a787b5dcd55eba55",
            "value": "tokenizer.json: 100%"
          }
        },
        "1d3238ec98c5467ba4997f3fd35cf59c": {
          "model_module": "@jupyter-widgets/controls",
          "model_name": "FloatProgressModel",
          "model_module_version": "1.5.0",
          "state": {
            "_dom_classes": [],
            "_model_module": "@jupyter-widgets/controls",
            "_model_module_version": "1.5.0",
            "_model_name": "FloatProgressModel",
            "_view_count": null,
            "_view_module": "@jupyter-widgets/controls",
            "_view_module_version": "1.5.0",
            "_view_name": "ProgressView",
            "bar_style": "success",
            "description": "",
            "description_tooltip": null,
            "layout": "IPY_MODEL_266be88655824212bba92d13914ff2d1",
            "max": 466062,
            "min": 0,
            "orientation": "horizontal",
            "style": "IPY_MODEL_66f53d18797f44df8943da026d509950",
            "value": 466062
          }
        },
        "759de13deb134255a06b2b7f93f2fb05": {
          "model_module": "@jupyter-widgets/controls",
          "model_name": "HTMLModel",
          "model_module_version": "1.5.0",
          "state": {
            "_dom_classes": [],
            "_model_module": "@jupyter-widgets/controls",
            "_model_module_version": "1.5.0",
            "_model_name": "HTMLModel",
            "_view_count": null,
            "_view_module": "@jupyter-widgets/controls",
            "_view_module_version": "1.5.0",
            "_view_name": "HTMLView",
            "description": "",
            "description_tooltip": null,
            "layout": "IPY_MODEL_d31f3f1db1fb4813be792bde7410a1c9",
            "placeholder": "​",
            "style": "IPY_MODEL_2b03c2754962466ab26dde51dba3e11b",
            "value": " 466k/466k [00:00&lt;00:00, 9.12MB/s]"
          }
        },
        "d6974059c9eb4068950b8a2cfae686a2": {
          "model_module": "@jupyter-widgets/base",
          "model_name": "LayoutModel",
          "model_module_version": "1.2.0",
          "state": {
            "_model_module": "@jupyter-widgets/base",
            "_model_module_version": "1.2.0",
            "_model_name": "LayoutModel",
            "_view_count": null,
            "_view_module": "@jupyter-widgets/base",
            "_view_module_version": "1.2.0",
            "_view_name": "LayoutView",
            "align_content": null,
            "align_items": null,
            "align_self": null,
            "border": null,
            "bottom": null,
            "display": null,
            "flex": null,
            "flex_flow": null,
            "grid_area": null,
            "grid_auto_columns": null,
            "grid_auto_flow": null,
            "grid_auto_rows": null,
            "grid_column": null,
            "grid_gap": null,
            "grid_row": null,
            "grid_template_areas": null,
            "grid_template_columns": null,
            "grid_template_rows": null,
            "height": null,
            "justify_content": null,
            "justify_items": null,
            "left": null,
            "margin": null,
            "max_height": null,
            "max_width": null,
            "min_height": null,
            "min_width": null,
            "object_fit": null,
            "object_position": null,
            "order": null,
            "overflow": null,
            "overflow_x": null,
            "overflow_y": null,
            "padding": null,
            "right": null,
            "top": null,
            "visibility": null,
            "width": null
          }
        },
        "253cbc60d2bd41978c707e924e80bdfc": {
          "model_module": "@jupyter-widgets/base",
          "model_name": "LayoutModel",
          "model_module_version": "1.2.0",
          "state": {
            "_model_module": "@jupyter-widgets/base",
            "_model_module_version": "1.2.0",
            "_model_name": "LayoutModel",
            "_view_count": null,
            "_view_module": "@jupyter-widgets/base",
            "_view_module_version": "1.2.0",
            "_view_name": "LayoutView",
            "align_content": null,
            "align_items": null,
            "align_self": null,
            "border": null,
            "bottom": null,
            "display": null,
            "flex": null,
            "flex_flow": null,
            "grid_area": null,
            "grid_auto_columns": null,
            "grid_auto_flow": null,
            "grid_auto_rows": null,
            "grid_column": null,
            "grid_gap": null,
            "grid_row": null,
            "grid_template_areas": null,
            "grid_template_columns": null,
            "grid_template_rows": null,
            "height": null,
            "justify_content": null,
            "justify_items": null,
            "left": null,
            "margin": null,
            "max_height": null,
            "max_width": null,
            "min_height": null,
            "min_width": null,
            "object_fit": null,
            "object_position": null,
            "order": null,
            "overflow": null,
            "overflow_x": null,
            "overflow_y": null,
            "padding": null,
            "right": null,
            "top": null,
            "visibility": null,
            "width": null
          }
        },
        "cf5b979f3e3c4ab5a787b5dcd55eba55": {
          "model_module": "@jupyter-widgets/controls",
          "model_name": "DescriptionStyleModel",
          "model_module_version": "1.5.0",
          "state": {
            "_model_module": "@jupyter-widgets/controls",
            "_model_module_version": "1.5.0",
            "_model_name": "DescriptionStyleModel",
            "_view_count": null,
            "_view_module": "@jupyter-widgets/base",
            "_view_module_version": "1.2.0",
            "_view_name": "StyleView",
            "description_width": ""
          }
        },
        "266be88655824212bba92d13914ff2d1": {
          "model_module": "@jupyter-widgets/base",
          "model_name": "LayoutModel",
          "model_module_version": "1.2.0",
          "state": {
            "_model_module": "@jupyter-widgets/base",
            "_model_module_version": "1.2.0",
            "_model_name": "LayoutModel",
            "_view_count": null,
            "_view_module": "@jupyter-widgets/base",
            "_view_module_version": "1.2.0",
            "_view_name": "LayoutView",
            "align_content": null,
            "align_items": null,
            "align_self": null,
            "border": null,
            "bottom": null,
            "display": null,
            "flex": null,
            "flex_flow": null,
            "grid_area": null,
            "grid_auto_columns": null,
            "grid_auto_flow": null,
            "grid_auto_rows": null,
            "grid_column": null,
            "grid_gap": null,
            "grid_row": null,
            "grid_template_areas": null,
            "grid_template_columns": null,
            "grid_template_rows": null,
            "height": null,
            "justify_content": null,
            "justify_items": null,
            "left": null,
            "margin": null,
            "max_height": null,
            "max_width": null,
            "min_height": null,
            "min_width": null,
            "object_fit": null,
            "object_position": null,
            "order": null,
            "overflow": null,
            "overflow_x": null,
            "overflow_y": null,
            "padding": null,
            "right": null,
            "top": null,
            "visibility": null,
            "width": null
          }
        },
        "66f53d18797f44df8943da026d509950": {
          "model_module": "@jupyter-widgets/controls",
          "model_name": "ProgressStyleModel",
          "model_module_version": "1.5.0",
          "state": {
            "_model_module": "@jupyter-widgets/controls",
            "_model_module_version": "1.5.0",
            "_model_name": "ProgressStyleModel",
            "_view_count": null,
            "_view_module": "@jupyter-widgets/base",
            "_view_module_version": "1.2.0",
            "_view_name": "StyleView",
            "bar_color": null,
            "description_width": ""
          }
        },
        "d31f3f1db1fb4813be792bde7410a1c9": {
          "model_module": "@jupyter-widgets/base",
          "model_name": "LayoutModel",
          "model_module_version": "1.2.0",
          "state": {
            "_model_module": "@jupyter-widgets/base",
            "_model_module_version": "1.2.0",
            "_model_name": "LayoutModel",
            "_view_count": null,
            "_view_module": "@jupyter-widgets/base",
            "_view_module_version": "1.2.0",
            "_view_name": "LayoutView",
            "align_content": null,
            "align_items": null,
            "align_self": null,
            "border": null,
            "bottom": null,
            "display": null,
            "flex": null,
            "flex_flow": null,
            "grid_area": null,
            "grid_auto_columns": null,
            "grid_auto_flow": null,
            "grid_auto_rows": null,
            "grid_column": null,
            "grid_gap": null,
            "grid_row": null,
            "grid_template_areas": null,
            "grid_template_columns": null,
            "grid_template_rows": null,
            "height": null,
            "justify_content": null,
            "justify_items": null,
            "left": null,
            "margin": null,
            "max_height": null,
            "max_width": null,
            "min_height": null,
            "min_width": null,
            "object_fit": null,
            "object_position": null,
            "order": null,
            "overflow": null,
            "overflow_x": null,
            "overflow_y": null,
            "padding": null,
            "right": null,
            "top": null,
            "visibility": null,
            "width": null
          }
        },
        "2b03c2754962466ab26dde51dba3e11b": {
          "model_module": "@jupyter-widgets/controls",
          "model_name": "DescriptionStyleModel",
          "model_module_version": "1.5.0",
          "state": {
            "_model_module": "@jupyter-widgets/controls",
            "_model_module_version": "1.5.0",
            "_model_name": "DescriptionStyleModel",
            "_view_count": null,
            "_view_module": "@jupyter-widgets/base",
            "_view_module_version": "1.2.0",
            "_view_name": "StyleView",
            "description_width": ""
          }
        },
        "37a1096fa2b44ee98787280da96bdab7": {
          "model_module": "@jupyter-widgets/controls",
          "model_name": "HBoxModel",
          "model_module_version": "1.5.0",
          "state": {
            "_dom_classes": [],
            "_model_module": "@jupyter-widgets/controls",
            "_model_module_version": "1.5.0",
            "_model_name": "HBoxModel",
            "_view_count": null,
            "_view_module": "@jupyter-widgets/controls",
            "_view_module_version": "1.5.0",
            "_view_name": "HBoxView",
            "box_style": "",
            "children": [
              "IPY_MODEL_0454234aabd741a9a339b0dfbf14fbcc",
              "IPY_MODEL_9e8618cf24044cf6bc2737204f3715b8",
              "IPY_MODEL_331068e6434c410784f83ee67a011301"
            ],
            "layout": "IPY_MODEL_58553d5d45a4434495e9be0e6b42b088"
          }
        },
        "0454234aabd741a9a339b0dfbf14fbcc": {
          "model_module": "@jupyter-widgets/controls",
          "model_name": "HTMLModel",
          "model_module_version": "1.5.0",
          "state": {
            "_dom_classes": [],
            "_model_module": "@jupyter-widgets/controls",
            "_model_module_version": "1.5.0",
            "_model_name": "HTMLModel",
            "_view_count": null,
            "_view_module": "@jupyter-widgets/controls",
            "_view_module_version": "1.5.0",
            "_view_name": "HTMLView",
            "description": "",
            "description_tooltip": null,
            "layout": "IPY_MODEL_1d6658c51138461e897c9a005cb6b440",
            "placeholder": "​",
            "style": "IPY_MODEL_724e048270eb4820b94cf0294e37667e",
            "value": "config.json: 100%"
          }
        },
        "9e8618cf24044cf6bc2737204f3715b8": {
          "model_module": "@jupyter-widgets/controls",
          "model_name": "FloatProgressModel",
          "model_module_version": "1.5.0",
          "state": {
            "_dom_classes": [],
            "_model_module": "@jupyter-widgets/controls",
            "_model_module_version": "1.5.0",
            "_model_name": "FloatProgressModel",
            "_view_count": null,
            "_view_module": "@jupyter-widgets/controls",
            "_view_module_version": "1.5.0",
            "_view_name": "ProgressView",
            "bar_style": "success",
            "description": "",
            "description_tooltip": null,
            "layout": "IPY_MODEL_19cf9e6829394994afabb9270d35fcf5",
            "max": 571,
            "min": 0,
            "orientation": "horizontal",
            "style": "IPY_MODEL_68304cb90dd440f4bf8158d97d285e36",
            "value": 571
          }
        },
        "331068e6434c410784f83ee67a011301": {
          "model_module": "@jupyter-widgets/controls",
          "model_name": "HTMLModel",
          "model_module_version": "1.5.0",
          "state": {
            "_dom_classes": [],
            "_model_module": "@jupyter-widgets/controls",
            "_model_module_version": "1.5.0",
            "_model_name": "HTMLModel",
            "_view_count": null,
            "_view_module": "@jupyter-widgets/controls",
            "_view_module_version": "1.5.0",
            "_view_name": "HTMLView",
            "description": "",
            "description_tooltip": null,
            "layout": "IPY_MODEL_47357bcaa82d4c53843ea327abc5b93f",
            "placeholder": "​",
            "style": "IPY_MODEL_3e0152f523b340cb9eb039846b74884e",
            "value": " 571/571 [00:00&lt;00:00, 29.8kB/s]"
          }
        },
        "58553d5d45a4434495e9be0e6b42b088": {
          "model_module": "@jupyter-widgets/base",
          "model_name": "LayoutModel",
          "model_module_version": "1.2.0",
          "state": {
            "_model_module": "@jupyter-widgets/base",
            "_model_module_version": "1.2.0",
            "_model_name": "LayoutModel",
            "_view_count": null,
            "_view_module": "@jupyter-widgets/base",
            "_view_module_version": "1.2.0",
            "_view_name": "LayoutView",
            "align_content": null,
            "align_items": null,
            "align_self": null,
            "border": null,
            "bottom": null,
            "display": null,
            "flex": null,
            "flex_flow": null,
            "grid_area": null,
            "grid_auto_columns": null,
            "grid_auto_flow": null,
            "grid_auto_rows": null,
            "grid_column": null,
            "grid_gap": null,
            "grid_row": null,
            "grid_template_areas": null,
            "grid_template_columns": null,
            "grid_template_rows": null,
            "height": null,
            "justify_content": null,
            "justify_items": null,
            "left": null,
            "margin": null,
            "max_height": null,
            "max_width": null,
            "min_height": null,
            "min_width": null,
            "object_fit": null,
            "object_position": null,
            "order": null,
            "overflow": null,
            "overflow_x": null,
            "overflow_y": null,
            "padding": null,
            "right": null,
            "top": null,
            "visibility": null,
            "width": null
          }
        },
        "1d6658c51138461e897c9a005cb6b440": {
          "model_module": "@jupyter-widgets/base",
          "model_name": "LayoutModel",
          "model_module_version": "1.2.0",
          "state": {
            "_model_module": "@jupyter-widgets/base",
            "_model_module_version": "1.2.0",
            "_model_name": "LayoutModel",
            "_view_count": null,
            "_view_module": "@jupyter-widgets/base",
            "_view_module_version": "1.2.0",
            "_view_name": "LayoutView",
            "align_content": null,
            "align_items": null,
            "align_self": null,
            "border": null,
            "bottom": null,
            "display": null,
            "flex": null,
            "flex_flow": null,
            "grid_area": null,
            "grid_auto_columns": null,
            "grid_auto_flow": null,
            "grid_auto_rows": null,
            "grid_column": null,
            "grid_gap": null,
            "grid_row": null,
            "grid_template_areas": null,
            "grid_template_columns": null,
            "grid_template_rows": null,
            "height": null,
            "justify_content": null,
            "justify_items": null,
            "left": null,
            "margin": null,
            "max_height": null,
            "max_width": null,
            "min_height": null,
            "min_width": null,
            "object_fit": null,
            "object_position": null,
            "order": null,
            "overflow": null,
            "overflow_x": null,
            "overflow_y": null,
            "padding": null,
            "right": null,
            "top": null,
            "visibility": null,
            "width": null
          }
        },
        "724e048270eb4820b94cf0294e37667e": {
          "model_module": "@jupyter-widgets/controls",
          "model_name": "DescriptionStyleModel",
          "model_module_version": "1.5.0",
          "state": {
            "_model_module": "@jupyter-widgets/controls",
            "_model_module_version": "1.5.0",
            "_model_name": "DescriptionStyleModel",
            "_view_count": null,
            "_view_module": "@jupyter-widgets/base",
            "_view_module_version": "1.2.0",
            "_view_name": "StyleView",
            "description_width": ""
          }
        },
        "19cf9e6829394994afabb9270d35fcf5": {
          "model_module": "@jupyter-widgets/base",
          "model_name": "LayoutModel",
          "model_module_version": "1.2.0",
          "state": {
            "_model_module": "@jupyter-widgets/base",
            "_model_module_version": "1.2.0",
            "_model_name": "LayoutModel",
            "_view_count": null,
            "_view_module": "@jupyter-widgets/base",
            "_view_module_version": "1.2.0",
            "_view_name": "LayoutView",
            "align_content": null,
            "align_items": null,
            "align_self": null,
            "border": null,
            "bottom": null,
            "display": null,
            "flex": null,
            "flex_flow": null,
            "grid_area": null,
            "grid_auto_columns": null,
            "grid_auto_flow": null,
            "grid_auto_rows": null,
            "grid_column": null,
            "grid_gap": null,
            "grid_row": null,
            "grid_template_areas": null,
            "grid_template_columns": null,
            "grid_template_rows": null,
            "height": null,
            "justify_content": null,
            "justify_items": null,
            "left": null,
            "margin": null,
            "max_height": null,
            "max_width": null,
            "min_height": null,
            "min_width": null,
            "object_fit": null,
            "object_position": null,
            "order": null,
            "overflow": null,
            "overflow_x": null,
            "overflow_y": null,
            "padding": null,
            "right": null,
            "top": null,
            "visibility": null,
            "width": null
          }
        },
        "68304cb90dd440f4bf8158d97d285e36": {
          "model_module": "@jupyter-widgets/controls",
          "model_name": "ProgressStyleModel",
          "model_module_version": "1.5.0",
          "state": {
            "_model_module": "@jupyter-widgets/controls",
            "_model_module_version": "1.5.0",
            "_model_name": "ProgressStyleModel",
            "_view_count": null,
            "_view_module": "@jupyter-widgets/base",
            "_view_module_version": "1.2.0",
            "_view_name": "StyleView",
            "bar_color": null,
            "description_width": ""
          }
        },
        "47357bcaa82d4c53843ea327abc5b93f": {
          "model_module": "@jupyter-widgets/base",
          "model_name": "LayoutModel",
          "model_module_version": "1.2.0",
          "state": {
            "_model_module": "@jupyter-widgets/base",
            "_model_module_version": "1.2.0",
            "_model_name": "LayoutModel",
            "_view_count": null,
            "_view_module": "@jupyter-widgets/base",
            "_view_module_version": "1.2.0",
            "_view_name": "LayoutView",
            "align_content": null,
            "align_items": null,
            "align_self": null,
            "border": null,
            "bottom": null,
            "display": null,
            "flex": null,
            "flex_flow": null,
            "grid_area": null,
            "grid_auto_columns": null,
            "grid_auto_flow": null,
            "grid_auto_rows": null,
            "grid_column": null,
            "grid_gap": null,
            "grid_row": null,
            "grid_template_areas": null,
            "grid_template_columns": null,
            "grid_template_rows": null,
            "height": null,
            "justify_content": null,
            "justify_items": null,
            "left": null,
            "margin": null,
            "max_height": null,
            "max_width": null,
            "min_height": null,
            "min_width": null,
            "object_fit": null,
            "object_position": null,
            "order": null,
            "overflow": null,
            "overflow_x": null,
            "overflow_y": null,
            "padding": null,
            "right": null,
            "top": null,
            "visibility": null,
            "width": null
          }
        },
        "3e0152f523b340cb9eb039846b74884e": {
          "model_module": "@jupyter-widgets/controls",
          "model_name": "DescriptionStyleModel",
          "model_module_version": "1.5.0",
          "state": {
            "_model_module": "@jupyter-widgets/controls",
            "_model_module_version": "1.5.0",
            "_model_name": "DescriptionStyleModel",
            "_view_count": null,
            "_view_module": "@jupyter-widgets/base",
            "_view_module_version": "1.2.0",
            "_view_name": "StyleView",
            "description_width": ""
          }
        },
        "0bfb892117264b97ab91ead350d220b7": {
          "model_module": "@jupyter-widgets/controls",
          "model_name": "HBoxModel",
          "model_module_version": "1.5.0",
          "state": {
            "_dom_classes": [],
            "_model_module": "@jupyter-widgets/controls",
            "_model_module_version": "1.5.0",
            "_model_name": "HBoxModel",
            "_view_count": null,
            "_view_module": "@jupyter-widgets/controls",
            "_view_module_version": "1.5.0",
            "_view_name": "HBoxView",
            "box_style": "",
            "children": [
              "IPY_MODEL_06edf260cd714a9485d4f45325b1e8ae",
              "IPY_MODEL_c6491a81cc3241d7862858089b65d9f2",
              "IPY_MODEL_45ecef053aee465f8870e8d1e8c894c3"
            ],
            "layout": "IPY_MODEL_476f5912a924483f9def0a29637ed15f"
          }
        },
        "06edf260cd714a9485d4f45325b1e8ae": {
          "model_module": "@jupyter-widgets/controls",
          "model_name": "HTMLModel",
          "model_module_version": "1.5.0",
          "state": {
            "_dom_classes": [],
            "_model_module": "@jupyter-widgets/controls",
            "_model_module_version": "1.5.0",
            "_model_name": "HTMLModel",
            "_view_count": null,
            "_view_module": "@jupyter-widgets/controls",
            "_view_module_version": "1.5.0",
            "_view_name": "HTMLView",
            "description": "",
            "description_tooltip": null,
            "layout": "IPY_MODEL_5f60304372bc459ead0e41f70da5aa81",
            "placeholder": "​",
            "style": "IPY_MODEL_8d858b2beb5341c8894a7de9d1699167",
            "value": "model.safetensors: 100%"
          }
        },
        "c6491a81cc3241d7862858089b65d9f2": {
          "model_module": "@jupyter-widgets/controls",
          "model_name": "FloatProgressModel",
          "model_module_version": "1.5.0",
          "state": {
            "_dom_classes": [],
            "_model_module": "@jupyter-widgets/controls",
            "_model_module_version": "1.5.0",
            "_model_name": "FloatProgressModel",
            "_view_count": null,
            "_view_module": "@jupyter-widgets/controls",
            "_view_module_version": "1.5.0",
            "_view_name": "ProgressView",
            "bar_style": "success",
            "description": "",
            "description_tooltip": null,
            "layout": "IPY_MODEL_335596042f154373a8655f87eeb99a2d",
            "max": 1344951957,
            "min": 0,
            "orientation": "horizontal",
            "style": "IPY_MODEL_1676b0145a994501acb30dbc3887be88",
            "value": 1344951957
          }
        },
        "45ecef053aee465f8870e8d1e8c894c3": {
          "model_module": "@jupyter-widgets/controls",
          "model_name": "HTMLModel",
          "model_module_version": "1.5.0",
          "state": {
            "_dom_classes": [],
            "_model_module": "@jupyter-widgets/controls",
            "_model_module_version": "1.5.0",
            "_model_name": "HTMLModel",
            "_view_count": null,
            "_view_module": "@jupyter-widgets/controls",
            "_view_module_version": "1.5.0",
            "_view_name": "HTMLView",
            "description": "",
            "description_tooltip": null,
            "layout": "IPY_MODEL_4e495c82d8a84d18b132c573fc3efa20",
            "placeholder": "​",
            "style": "IPY_MODEL_2efea058b66747ab8151d9a64730d752",
            "value": " 1.34G/1.34G [00:18&lt;00:00, 79.2MB/s]"
          }
        },
        "476f5912a924483f9def0a29637ed15f": {
          "model_module": "@jupyter-widgets/base",
          "model_name": "LayoutModel",
          "model_module_version": "1.2.0",
          "state": {
            "_model_module": "@jupyter-widgets/base",
            "_model_module_version": "1.2.0",
            "_model_name": "LayoutModel",
            "_view_count": null,
            "_view_module": "@jupyter-widgets/base",
            "_view_module_version": "1.2.0",
            "_view_name": "LayoutView",
            "align_content": null,
            "align_items": null,
            "align_self": null,
            "border": null,
            "bottom": null,
            "display": null,
            "flex": null,
            "flex_flow": null,
            "grid_area": null,
            "grid_auto_columns": null,
            "grid_auto_flow": null,
            "grid_auto_rows": null,
            "grid_column": null,
            "grid_gap": null,
            "grid_row": null,
            "grid_template_areas": null,
            "grid_template_columns": null,
            "grid_template_rows": null,
            "height": null,
            "justify_content": null,
            "justify_items": null,
            "left": null,
            "margin": null,
            "max_height": null,
            "max_width": null,
            "min_height": null,
            "min_width": null,
            "object_fit": null,
            "object_position": null,
            "order": null,
            "overflow": null,
            "overflow_x": null,
            "overflow_y": null,
            "padding": null,
            "right": null,
            "top": null,
            "visibility": null,
            "width": null
          }
        },
        "5f60304372bc459ead0e41f70da5aa81": {
          "model_module": "@jupyter-widgets/base",
          "model_name": "LayoutModel",
          "model_module_version": "1.2.0",
          "state": {
            "_model_module": "@jupyter-widgets/base",
            "_model_module_version": "1.2.0",
            "_model_name": "LayoutModel",
            "_view_count": null,
            "_view_module": "@jupyter-widgets/base",
            "_view_module_version": "1.2.0",
            "_view_name": "LayoutView",
            "align_content": null,
            "align_items": null,
            "align_self": null,
            "border": null,
            "bottom": null,
            "display": null,
            "flex": null,
            "flex_flow": null,
            "grid_area": null,
            "grid_auto_columns": null,
            "grid_auto_flow": null,
            "grid_auto_rows": null,
            "grid_column": null,
            "grid_gap": null,
            "grid_row": null,
            "grid_template_areas": null,
            "grid_template_columns": null,
            "grid_template_rows": null,
            "height": null,
            "justify_content": null,
            "justify_items": null,
            "left": null,
            "margin": null,
            "max_height": null,
            "max_width": null,
            "min_height": null,
            "min_width": null,
            "object_fit": null,
            "object_position": null,
            "order": null,
            "overflow": null,
            "overflow_x": null,
            "overflow_y": null,
            "padding": null,
            "right": null,
            "top": null,
            "visibility": null,
            "width": null
          }
        },
        "8d858b2beb5341c8894a7de9d1699167": {
          "model_module": "@jupyter-widgets/controls",
          "model_name": "DescriptionStyleModel",
          "model_module_version": "1.5.0",
          "state": {
            "_model_module": "@jupyter-widgets/controls",
            "_model_module_version": "1.5.0",
            "_model_name": "DescriptionStyleModel",
            "_view_count": null,
            "_view_module": "@jupyter-widgets/base",
            "_view_module_version": "1.2.0",
            "_view_name": "StyleView",
            "description_width": ""
          }
        },
        "335596042f154373a8655f87eeb99a2d": {
          "model_module": "@jupyter-widgets/base",
          "model_name": "LayoutModel",
          "model_module_version": "1.2.0",
          "state": {
            "_model_module": "@jupyter-widgets/base",
            "_model_module_version": "1.2.0",
            "_model_name": "LayoutModel",
            "_view_count": null,
            "_view_module": "@jupyter-widgets/base",
            "_view_module_version": "1.2.0",
            "_view_name": "LayoutView",
            "align_content": null,
            "align_items": null,
            "align_self": null,
            "border": null,
            "bottom": null,
            "display": null,
            "flex": null,
            "flex_flow": null,
            "grid_area": null,
            "grid_auto_columns": null,
            "grid_auto_flow": null,
            "grid_auto_rows": null,
            "grid_column": null,
            "grid_gap": null,
            "grid_row": null,
            "grid_template_areas": null,
            "grid_template_columns": null,
            "grid_template_rows": null,
            "height": null,
            "justify_content": null,
            "justify_items": null,
            "left": null,
            "margin": null,
            "max_height": null,
            "max_width": null,
            "min_height": null,
            "min_width": null,
            "object_fit": null,
            "object_position": null,
            "order": null,
            "overflow": null,
            "overflow_x": null,
            "overflow_y": null,
            "padding": null,
            "right": null,
            "top": null,
            "visibility": null,
            "width": null
          }
        },
        "1676b0145a994501acb30dbc3887be88": {
          "model_module": "@jupyter-widgets/controls",
          "model_name": "ProgressStyleModel",
          "model_module_version": "1.5.0",
          "state": {
            "_model_module": "@jupyter-widgets/controls",
            "_model_module_version": "1.5.0",
            "_model_name": "ProgressStyleModel",
            "_view_count": null,
            "_view_module": "@jupyter-widgets/base",
            "_view_module_version": "1.2.0",
            "_view_name": "StyleView",
            "bar_color": null,
            "description_width": ""
          }
        },
        "4e495c82d8a84d18b132c573fc3efa20": {
          "model_module": "@jupyter-widgets/base",
          "model_name": "LayoutModel",
          "model_module_version": "1.2.0",
          "state": {
            "_model_module": "@jupyter-widgets/base",
            "_model_module_version": "1.2.0",
            "_model_name": "LayoutModel",
            "_view_count": null,
            "_view_module": "@jupyter-widgets/base",
            "_view_module_version": "1.2.0",
            "_view_name": "LayoutView",
            "align_content": null,
            "align_items": null,
            "align_self": null,
            "border": null,
            "bottom": null,
            "display": null,
            "flex": null,
            "flex_flow": null,
            "grid_area": null,
            "grid_auto_columns": null,
            "grid_auto_flow": null,
            "grid_auto_rows": null,
            "grid_column": null,
            "grid_gap": null,
            "grid_row": null,
            "grid_template_areas": null,
            "grid_template_columns": null,
            "grid_template_rows": null,
            "height": null,
            "justify_content": null,
            "justify_items": null,
            "left": null,
            "margin": null,
            "max_height": null,
            "max_width": null,
            "min_height": null,
            "min_width": null,
            "object_fit": null,
            "object_position": null,
            "order": null,
            "overflow": null,
            "overflow_x": null,
            "overflow_y": null,
            "padding": null,
            "right": null,
            "top": null,
            "visibility": null,
            "width": null
          }
        },
        "2efea058b66747ab8151d9a64730d752": {
          "model_module": "@jupyter-widgets/controls",
          "model_name": "DescriptionStyleModel",
          "model_module_version": "1.5.0",
          "state": {
            "_model_module": "@jupyter-widgets/controls",
            "_model_module_version": "1.5.0",
            "_model_name": "DescriptionStyleModel",
            "_view_count": null,
            "_view_module": "@jupyter-widgets/base",
            "_view_module_version": "1.2.0",
            "_view_name": "StyleView",
            "description_width": ""
          }
        }
      }
    }
  },
  "cells": [
    {
      "cell_type": "markdown",
      "metadata": {
        "id": "view-in-github",
        "colab_type": "text"
      },
      "source": [
        "<a href=\"https://colab.research.google.com/github/hin1799/DeepNeuralNLP/blob/main/DataSquad_Assignment3.ipynb\" target=\"_parent\"><img src=\"https://colab.research.google.com/assets/colab-badge.svg\" alt=\"Open In Colab\"/></a>"
      ]
    },
    {
      "cell_type": "markdown",
      "source": [
        "# RESEARCH PAPER SIMPLIFIER\n",
        "\n",
        "**Submitted by:**\n",
        "\n",
        "**Jainisha Choksi (202211019)**\n",
        "\n",
        "**Hinal Desai (202211035)**\n",
        "\n",
        "**Man Desai (202211040)**\n",
        "\n",
        "**Rutvik Prajapati (202211053)**"
      ],
      "metadata": {
        "id": "7u0PNUrI_NHq"
      }
    },
    {
      "cell_type": "markdown",
      "source": [
        "# Installing required libraries"
      ],
      "metadata": {
        "id": "2QVcGH7vwL3I"
      }
    },
    {
      "cell_type": "code",
      "source": [
        "!pip install num2words"
      ],
      "metadata": {
        "id": "pxG8FTWTAlud",
        "outputId": "d68cddd7-861f-4d23-e656-60c135430dc6",
        "colab": {
          "base_uri": "https://localhost:8080/"
        }
      },
      "execution_count": 1,
      "outputs": [
        {
          "output_type": "stream",
          "name": "stdout",
          "text": [
            "Collecting num2words\n",
            "  Downloading num2words-0.5.13-py3-none-any.whl (143 kB)\n",
            "\u001b[2K     \u001b[90m━━━━━━━━━━━━━━━━━━━━━━━━━━━━━━━━━━━━━━━━\u001b[0m \u001b[32m143.3/143.3 kB\u001b[0m \u001b[31m2.2 MB/s\u001b[0m eta \u001b[36m0:00:00\u001b[0m\n",
            "\u001b[?25hCollecting docopt>=0.6.2 (from num2words)\n",
            "  Downloading docopt-0.6.2.tar.gz (25 kB)\n",
            "  Preparing metadata (setup.py) ... \u001b[?25l\u001b[?25hdone\n",
            "Building wheels for collected packages: docopt\n",
            "  Building wheel for docopt (setup.py) ... \u001b[?25l\u001b[?25hdone\n",
            "  Created wheel for docopt: filename=docopt-0.6.2-py2.py3-none-any.whl size=13706 sha256=ef42a488c995cd204e9416c8fe03adc19b8933ca6fe9a4824300051f5eaccfa1\n",
            "  Stored in directory: /root/.cache/pip/wheels/fc/ab/d4/5da2067ac95b36618c629a5f93f809425700506f72c9732fac\n",
            "Successfully built docopt\n",
            "Installing collected packages: docopt, num2words\n",
            "Successfully installed docopt-0.6.2 num2words-0.5.13\n"
          ]
        }
      ]
    },
    {
      "cell_type": "code",
      "source": [
        "import pandas as pd\n",
        "import numpy as np\n",
        "import nltk\n",
        "import re\n",
        "from num2words import num2words\n",
        "from nltk.tokenize import word_tokenize"
      ],
      "metadata": {
        "id": "UcSTykqh_0Ne"
      },
      "execution_count": 2,
      "outputs": []
    },
    {
      "cell_type": "code",
      "source": [
        "nltk.download('all')"
      ],
      "metadata": {
        "colab": {
          "base_uri": "https://localhost:8080/"
        },
        "id": "49mFHM5JAvqK",
        "outputId": "ffdcd02e-f375-4f4a-d7f5-7b23fa952728"
      },
      "execution_count": 3,
      "outputs": [
        {
          "output_type": "stream",
          "name": "stderr",
          "text": [
            "[nltk_data] Downloading collection 'all'\n",
            "[nltk_data]    | \n",
            "[nltk_data]    | Downloading package abc to /root/nltk_data...\n",
            "[nltk_data]    |   Unzipping corpora/abc.zip.\n",
            "[nltk_data]    | Downloading package alpino to /root/nltk_data...\n",
            "[nltk_data]    |   Unzipping corpora/alpino.zip.\n",
            "[nltk_data]    | Downloading package averaged_perceptron_tagger to\n",
            "[nltk_data]    |     /root/nltk_data...\n",
            "[nltk_data]    |   Unzipping taggers/averaged_perceptron_tagger.zip.\n",
            "[nltk_data]    | Downloading package averaged_perceptron_tagger_ru to\n",
            "[nltk_data]    |     /root/nltk_data...\n",
            "[nltk_data]    |   Unzipping\n",
            "[nltk_data]    |       taggers/averaged_perceptron_tagger_ru.zip.\n",
            "[nltk_data]    | Downloading package basque_grammars to\n",
            "[nltk_data]    |     /root/nltk_data...\n",
            "[nltk_data]    |   Unzipping grammars/basque_grammars.zip.\n",
            "[nltk_data]    | Downloading package bcp47 to /root/nltk_data...\n",
            "[nltk_data]    | Downloading package biocreative_ppi to\n",
            "[nltk_data]    |     /root/nltk_data...\n",
            "[nltk_data]    |   Unzipping corpora/biocreative_ppi.zip.\n",
            "[nltk_data]    | Downloading package bllip_wsj_no_aux to\n",
            "[nltk_data]    |     /root/nltk_data...\n",
            "[nltk_data]    |   Unzipping models/bllip_wsj_no_aux.zip.\n",
            "[nltk_data]    | Downloading package book_grammars to\n",
            "[nltk_data]    |     /root/nltk_data...\n",
            "[nltk_data]    |   Unzipping grammars/book_grammars.zip.\n",
            "[nltk_data]    | Downloading package brown to /root/nltk_data...\n",
            "[nltk_data]    |   Unzipping corpora/brown.zip.\n",
            "[nltk_data]    | Downloading package brown_tei to /root/nltk_data...\n",
            "[nltk_data]    |   Unzipping corpora/brown_tei.zip.\n",
            "[nltk_data]    | Downloading package cess_cat to /root/nltk_data...\n",
            "[nltk_data]    |   Unzipping corpora/cess_cat.zip.\n",
            "[nltk_data]    | Downloading package cess_esp to /root/nltk_data...\n",
            "[nltk_data]    |   Unzipping corpora/cess_esp.zip.\n",
            "[nltk_data]    | Downloading package chat80 to /root/nltk_data...\n",
            "[nltk_data]    |   Unzipping corpora/chat80.zip.\n",
            "[nltk_data]    | Downloading package city_database to\n",
            "[nltk_data]    |     /root/nltk_data...\n",
            "[nltk_data]    |   Unzipping corpora/city_database.zip.\n",
            "[nltk_data]    | Downloading package cmudict to /root/nltk_data...\n",
            "[nltk_data]    |   Unzipping corpora/cmudict.zip.\n",
            "[nltk_data]    | Downloading package comparative_sentences to\n",
            "[nltk_data]    |     /root/nltk_data...\n",
            "[nltk_data]    |   Unzipping corpora/comparative_sentences.zip.\n",
            "[nltk_data]    | Downloading package comtrans to /root/nltk_data...\n",
            "[nltk_data]    | Downloading package conll2000 to /root/nltk_data...\n",
            "[nltk_data]    |   Unzipping corpora/conll2000.zip.\n",
            "[nltk_data]    | Downloading package conll2002 to /root/nltk_data...\n",
            "[nltk_data]    |   Unzipping corpora/conll2002.zip.\n",
            "[nltk_data]    | Downloading package conll2007 to /root/nltk_data...\n",
            "[nltk_data]    | Downloading package crubadan to /root/nltk_data...\n",
            "[nltk_data]    |   Unzipping corpora/crubadan.zip.\n",
            "[nltk_data]    | Downloading package dependency_treebank to\n",
            "[nltk_data]    |     /root/nltk_data...\n",
            "[nltk_data]    |   Unzipping corpora/dependency_treebank.zip.\n",
            "[nltk_data]    | Downloading package dolch to /root/nltk_data...\n",
            "[nltk_data]    |   Unzipping corpora/dolch.zip.\n",
            "[nltk_data]    | Downloading package europarl_raw to\n",
            "[nltk_data]    |     /root/nltk_data...\n",
            "[nltk_data]    |   Unzipping corpora/europarl_raw.zip.\n",
            "[nltk_data]    | Downloading package extended_omw to\n",
            "[nltk_data]    |     /root/nltk_data...\n",
            "[nltk_data]    | Downloading package floresta to /root/nltk_data...\n",
            "[nltk_data]    |   Unzipping corpora/floresta.zip.\n",
            "[nltk_data]    | Downloading package framenet_v15 to\n",
            "[nltk_data]    |     /root/nltk_data...\n",
            "[nltk_data]    |   Unzipping corpora/framenet_v15.zip.\n",
            "[nltk_data]    | Downloading package framenet_v17 to\n",
            "[nltk_data]    |     /root/nltk_data...\n",
            "[nltk_data]    |   Unzipping corpora/framenet_v17.zip.\n",
            "[nltk_data]    | Downloading package gazetteers to /root/nltk_data...\n",
            "[nltk_data]    |   Unzipping corpora/gazetteers.zip.\n",
            "[nltk_data]    | Downloading package genesis to /root/nltk_data...\n",
            "[nltk_data]    |   Unzipping corpora/genesis.zip.\n",
            "[nltk_data]    | Downloading package gutenberg to /root/nltk_data...\n",
            "[nltk_data]    |   Unzipping corpora/gutenberg.zip.\n",
            "[nltk_data]    | Downloading package ieer to /root/nltk_data...\n",
            "[nltk_data]    |   Unzipping corpora/ieer.zip.\n",
            "[nltk_data]    | Downloading package inaugural to /root/nltk_data...\n",
            "[nltk_data]    |   Unzipping corpora/inaugural.zip.\n",
            "[nltk_data]    | Downloading package indian to /root/nltk_data...\n",
            "[nltk_data]    |   Unzipping corpora/indian.zip.\n",
            "[nltk_data]    | Downloading package jeita to /root/nltk_data...\n",
            "[nltk_data]    | Downloading package kimmo to /root/nltk_data...\n",
            "[nltk_data]    |   Unzipping corpora/kimmo.zip.\n",
            "[nltk_data]    | Downloading package knbc to /root/nltk_data...\n",
            "[nltk_data]    | Downloading package large_grammars to\n",
            "[nltk_data]    |     /root/nltk_data...\n",
            "[nltk_data]    |   Unzipping grammars/large_grammars.zip.\n",
            "[nltk_data]    | Downloading package lin_thesaurus to\n",
            "[nltk_data]    |     /root/nltk_data...\n",
            "[nltk_data]    |   Unzipping corpora/lin_thesaurus.zip.\n",
            "[nltk_data]    | Downloading package mac_morpho to /root/nltk_data...\n",
            "[nltk_data]    |   Unzipping corpora/mac_morpho.zip.\n",
            "[nltk_data]    | Downloading package machado to /root/nltk_data...\n",
            "[nltk_data]    | Downloading package masc_tagged to /root/nltk_data...\n",
            "[nltk_data]    | Downloading package maxent_ne_chunker to\n",
            "[nltk_data]    |     /root/nltk_data...\n",
            "[nltk_data]    |   Unzipping chunkers/maxent_ne_chunker.zip.\n",
            "[nltk_data]    | Downloading package maxent_treebank_pos_tagger to\n",
            "[nltk_data]    |     /root/nltk_data...\n",
            "[nltk_data]    |   Unzipping taggers/maxent_treebank_pos_tagger.zip.\n",
            "[nltk_data]    | Downloading package moses_sample to\n",
            "[nltk_data]    |     /root/nltk_data...\n",
            "[nltk_data]    |   Unzipping models/moses_sample.zip.\n",
            "[nltk_data]    | Downloading package movie_reviews to\n",
            "[nltk_data]    |     /root/nltk_data...\n",
            "[nltk_data]    |   Unzipping corpora/movie_reviews.zip.\n",
            "[nltk_data]    | Downloading package mte_teip5 to /root/nltk_data...\n",
            "[nltk_data]    |   Unzipping corpora/mte_teip5.zip.\n",
            "[nltk_data]    | Downloading package mwa_ppdb to /root/nltk_data...\n",
            "[nltk_data]    |   Unzipping misc/mwa_ppdb.zip.\n",
            "[nltk_data]    | Downloading package names to /root/nltk_data...\n",
            "[nltk_data]    |   Unzipping corpora/names.zip.\n",
            "[nltk_data]    | Downloading package nombank.1.0 to /root/nltk_data...\n",
            "[nltk_data]    | Downloading package nonbreaking_prefixes to\n",
            "[nltk_data]    |     /root/nltk_data...\n",
            "[nltk_data]    |   Unzipping corpora/nonbreaking_prefixes.zip.\n",
            "[nltk_data]    | Downloading package nps_chat to /root/nltk_data...\n",
            "[nltk_data]    |   Unzipping corpora/nps_chat.zip.\n",
            "[nltk_data]    | Downloading package omw to /root/nltk_data...\n",
            "[nltk_data]    | Downloading package omw-1.4 to /root/nltk_data...\n",
            "[nltk_data]    | Downloading package opinion_lexicon to\n",
            "[nltk_data]    |     /root/nltk_data...\n",
            "[nltk_data]    |   Unzipping corpora/opinion_lexicon.zip.\n",
            "[nltk_data]    | Downloading package panlex_swadesh to\n",
            "[nltk_data]    |     /root/nltk_data...\n",
            "[nltk_data]    | Downloading package paradigms to /root/nltk_data...\n",
            "[nltk_data]    |   Unzipping corpora/paradigms.zip.\n",
            "[nltk_data]    | Downloading package pe08 to /root/nltk_data...\n",
            "[nltk_data]    |   Unzipping corpora/pe08.zip.\n",
            "[nltk_data]    | Downloading package perluniprops to\n",
            "[nltk_data]    |     /root/nltk_data...\n",
            "[nltk_data]    |   Unzipping misc/perluniprops.zip.\n",
            "[nltk_data]    | Downloading package pil to /root/nltk_data...\n",
            "[nltk_data]    |   Unzipping corpora/pil.zip.\n",
            "[nltk_data]    | Downloading package pl196x to /root/nltk_data...\n",
            "[nltk_data]    |   Unzipping corpora/pl196x.zip.\n",
            "[nltk_data]    | Downloading package porter_test to /root/nltk_data...\n",
            "[nltk_data]    |   Unzipping stemmers/porter_test.zip.\n",
            "[nltk_data]    | Downloading package ppattach to /root/nltk_data...\n",
            "[nltk_data]    |   Unzipping corpora/ppattach.zip.\n",
            "[nltk_data]    | Downloading package problem_reports to\n",
            "[nltk_data]    |     /root/nltk_data...\n",
            "[nltk_data]    |   Unzipping corpora/problem_reports.zip.\n",
            "[nltk_data]    | Downloading package product_reviews_1 to\n",
            "[nltk_data]    |     /root/nltk_data...\n",
            "[nltk_data]    |   Unzipping corpora/product_reviews_1.zip.\n",
            "[nltk_data]    | Downloading package product_reviews_2 to\n",
            "[nltk_data]    |     /root/nltk_data...\n",
            "[nltk_data]    |   Unzipping corpora/product_reviews_2.zip.\n",
            "[nltk_data]    | Downloading package propbank to /root/nltk_data...\n",
            "[nltk_data]    | Downloading package pros_cons to /root/nltk_data...\n",
            "[nltk_data]    |   Unzipping corpora/pros_cons.zip.\n",
            "[nltk_data]    | Downloading package ptb to /root/nltk_data...\n",
            "[nltk_data]    |   Unzipping corpora/ptb.zip.\n",
            "[nltk_data]    | Downloading package punkt to /root/nltk_data...\n",
            "[nltk_data]    |   Unzipping tokenizers/punkt.zip.\n",
            "[nltk_data]    | Downloading package qc to /root/nltk_data...\n",
            "[nltk_data]    |   Unzipping corpora/qc.zip.\n",
            "[nltk_data]    | Downloading package reuters to /root/nltk_data...\n",
            "[nltk_data]    | Downloading package rslp to /root/nltk_data...\n",
            "[nltk_data]    |   Unzipping stemmers/rslp.zip.\n",
            "[nltk_data]    | Downloading package rte to /root/nltk_data...\n",
            "[nltk_data]    |   Unzipping corpora/rte.zip.\n",
            "[nltk_data]    | Downloading package sample_grammars to\n",
            "[nltk_data]    |     /root/nltk_data...\n",
            "[nltk_data]    |   Unzipping grammars/sample_grammars.zip.\n",
            "[nltk_data]    | Downloading package semcor to /root/nltk_data...\n",
            "[nltk_data]    | Downloading package senseval to /root/nltk_data...\n",
            "[nltk_data]    |   Unzipping corpora/senseval.zip.\n",
            "[nltk_data]    | Downloading package sentence_polarity to\n",
            "[nltk_data]    |     /root/nltk_data...\n",
            "[nltk_data]    |   Unzipping corpora/sentence_polarity.zip.\n",
            "[nltk_data]    | Downloading package sentiwordnet to\n",
            "[nltk_data]    |     /root/nltk_data...\n",
            "[nltk_data]    |   Unzipping corpora/sentiwordnet.zip.\n",
            "[nltk_data]    | Downloading package shakespeare to /root/nltk_data...\n",
            "[nltk_data]    |   Unzipping corpora/shakespeare.zip.\n",
            "[nltk_data]    | Downloading package sinica_treebank to\n",
            "[nltk_data]    |     /root/nltk_data...\n",
            "[nltk_data]    |   Unzipping corpora/sinica_treebank.zip.\n",
            "[nltk_data]    | Downloading package smultron to /root/nltk_data...\n",
            "[nltk_data]    |   Unzipping corpora/smultron.zip.\n",
            "[nltk_data]    | Downloading package snowball_data to\n",
            "[nltk_data]    |     /root/nltk_data...\n",
            "[nltk_data]    | Downloading package spanish_grammars to\n",
            "[nltk_data]    |     /root/nltk_data...\n",
            "[nltk_data]    |   Unzipping grammars/spanish_grammars.zip.\n",
            "[nltk_data]    | Downloading package state_union to /root/nltk_data...\n",
            "[nltk_data]    |   Unzipping corpora/state_union.zip.\n",
            "[nltk_data]    | Downloading package stopwords to /root/nltk_data...\n",
            "[nltk_data]    |   Unzipping corpora/stopwords.zip.\n",
            "[nltk_data]    | Downloading package subjectivity to\n",
            "[nltk_data]    |     /root/nltk_data...\n",
            "[nltk_data]    |   Unzipping corpora/subjectivity.zip.\n",
            "[nltk_data]    | Downloading package swadesh to /root/nltk_data...\n",
            "[nltk_data]    |   Unzipping corpora/swadesh.zip.\n",
            "[nltk_data]    | Downloading package switchboard to /root/nltk_data...\n",
            "[nltk_data]    |   Unzipping corpora/switchboard.zip.\n",
            "[nltk_data]    | Downloading package tagsets to /root/nltk_data...\n",
            "[nltk_data]    |   Unzipping help/tagsets.zip.\n",
            "[nltk_data]    | Downloading package timit to /root/nltk_data...\n",
            "[nltk_data]    |   Unzipping corpora/timit.zip.\n",
            "[nltk_data]    | Downloading package toolbox to /root/nltk_data...\n",
            "[nltk_data]    |   Unzipping corpora/toolbox.zip.\n",
            "[nltk_data]    | Downloading package treebank to /root/nltk_data...\n",
            "[nltk_data]    |   Unzipping corpora/treebank.zip.\n",
            "[nltk_data]    | Downloading package twitter_samples to\n",
            "[nltk_data]    |     /root/nltk_data...\n",
            "[nltk_data]    |   Unzipping corpora/twitter_samples.zip.\n",
            "[nltk_data]    | Downloading package udhr to /root/nltk_data...\n",
            "[nltk_data]    |   Unzipping corpora/udhr.zip.\n",
            "[nltk_data]    | Downloading package udhr2 to /root/nltk_data...\n",
            "[nltk_data]    |   Unzipping corpora/udhr2.zip.\n",
            "[nltk_data]    | Downloading package unicode_samples to\n",
            "[nltk_data]    |     /root/nltk_data...\n",
            "[nltk_data]    |   Unzipping corpora/unicode_samples.zip.\n",
            "[nltk_data]    | Downloading package universal_tagset to\n",
            "[nltk_data]    |     /root/nltk_data...\n",
            "[nltk_data]    |   Unzipping taggers/universal_tagset.zip.\n",
            "[nltk_data]    | Downloading package universal_treebanks_v20 to\n",
            "[nltk_data]    |     /root/nltk_data...\n",
            "[nltk_data]    | Downloading package vader_lexicon to\n",
            "[nltk_data]    |     /root/nltk_data...\n",
            "[nltk_data]    | Downloading package verbnet to /root/nltk_data...\n",
            "[nltk_data]    |   Unzipping corpora/verbnet.zip.\n",
            "[nltk_data]    | Downloading package verbnet3 to /root/nltk_data...\n",
            "[nltk_data]    |   Unzipping corpora/verbnet3.zip.\n",
            "[nltk_data]    | Downloading package webtext to /root/nltk_data...\n",
            "[nltk_data]    |   Unzipping corpora/webtext.zip.\n",
            "[nltk_data]    | Downloading package wmt15_eval to /root/nltk_data...\n",
            "[nltk_data]    |   Unzipping models/wmt15_eval.zip.\n",
            "[nltk_data]    | Downloading package word2vec_sample to\n",
            "[nltk_data]    |     /root/nltk_data...\n",
            "[nltk_data]    |   Unzipping models/word2vec_sample.zip.\n",
            "[nltk_data]    | Downloading package wordnet to /root/nltk_data...\n",
            "[nltk_data]    | Downloading package wordnet2021 to /root/nltk_data...\n",
            "[nltk_data]    | Downloading package wordnet2022 to /root/nltk_data...\n",
            "[nltk_data]    |   Unzipping corpora/wordnet2022.zip.\n",
            "[nltk_data]    | Downloading package wordnet31 to /root/nltk_data...\n",
            "[nltk_data]    | Downloading package wordnet_ic to /root/nltk_data...\n",
            "[nltk_data]    |   Unzipping corpora/wordnet_ic.zip.\n",
            "[nltk_data]    | Downloading package words to /root/nltk_data...\n",
            "[nltk_data]    |   Unzipping corpora/words.zip.\n",
            "[nltk_data]    | Downloading package ycoe to /root/nltk_data...\n",
            "[nltk_data]    |   Unzipping corpora/ycoe.zip.\n",
            "[nltk_data]    | \n",
            "[nltk_data]  Done downloading collection all\n"
          ]
        },
        {
          "output_type": "execute_result",
          "data": {
            "text/plain": [
              "True"
            ]
          },
          "metadata": {},
          "execution_count": 3
        }
      ]
    },
    {
      "cell_type": "code",
      "execution_count": 4,
      "metadata": {
        "colab": {
          "base_uri": "https://localhost:8080/"
        },
        "id": "iTcyCvLz_I59",
        "outputId": "135c5154-e43a-4213-a95d-8ce7262e8278"
      },
      "outputs": [
        {
          "output_type": "stream",
          "name": "stdout",
          "text": [
            "Mounted at /content/drive\n"
          ]
        }
      ],
      "source": [
        "from google.colab import drive\n",
        "drive.mount('/content/drive')"
      ]
    },
    {
      "cell_type": "markdown",
      "source": [
        "# Loading the dataset\n",
        "\n",
        "We have used the peS2o dataset and extracted the research papers that belong to the 'cse' domain only. This was done as a part of assignment 1. The following dataframe df contains the research papers that belongs to cse domain."
      ],
      "metadata": {
        "id": "_FvhuIOP_twG"
      }
    },
    {
      "cell_type": "code",
      "source": [
        "df = pd.read_pickle('/content/drive/MyDrive/NLP_Project/cse_domain_papers.pkl')"
      ],
      "metadata": {
        "id": "VzYmKWcj_eeZ"
      },
      "execution_count": 5,
      "outputs": []
    },
    {
      "cell_type": "markdown",
      "source": [
        "# Train-Test split"
      ],
      "metadata": {
        "id": "TyVz8GCm_6qP"
      }
    },
    {
      "cell_type": "code",
      "source": [
        "train = df[:3000]\n",
        "test = df[3000:]"
      ],
      "metadata": {
        "id": "kU49IjQS_xtG"
      },
      "execution_count": 6,
      "outputs": []
    },
    {
      "cell_type": "markdown",
      "source": [
        "# Preprocessing the research paper dataset"
      ],
      "metadata": {
        "id": "4lRyw3WdAcpj"
      }
    },
    {
      "cell_type": "code",
      "source": [
        "stopwords = set(nltk.corpus.stopwords.words('english'))"
      ],
      "metadata": {
        "id": "R1PR4hO1AUbq"
      },
      "execution_count": 7,
      "outputs": []
    },
    {
      "cell_type": "code",
      "source": [
        "#Preprocessing function\n",
        "def preprocess_text(text):\n",
        "  #Remove URLs\n",
        "  text = re.sub(r'http\\S+|www\\S+', '', text)\n",
        "\n",
        "  #Remove bullets\n",
        "  text = re.sub(r'•', '', text)\n",
        "\n",
        "  # Remove apostrophes and hyphens\n",
        "  text = re.sub(r\"['’]\", '', text)\n",
        "  text = re.sub(r'-', ' ', text)\n",
        "\n",
        "  # Remove punctuation except full stop (period) so that we can know when sentences stop\n",
        "  text = re.sub(r'[^\\w\\s\\'.]', '', text)\n",
        "\n",
        "  #Removing leading and trailing whitespaces\n",
        "  text = text.strip()\n",
        "\n",
        "  #Remove stopwords\n",
        "  tokens = text.split()\n",
        "  tokens = [word.lower() for word in tokens if word.lower() not in stopwords]\n",
        "  text = ' '.join(tokens)\n",
        "\n",
        "  #Converting numbers to text\n",
        "  text = re.sub(r'\\d+', '', text)\n",
        "  tokens = word_tokenize(text)\n",
        "  converted_tokens = []\n",
        "  for token in tokens:\n",
        "    try:\n",
        "      num = int(token)\n",
        "      word = num2words(num)\n",
        "      converted_tokens.append(word)\n",
        "    except ValueError:\n",
        "      converted_tokens.append(token)\n",
        "  text = ' '.join(converted_tokens)\n",
        "\n",
        "  return text"
      ],
      "metadata": {
        "id": "rvGMhUdFA4OP"
      },
      "execution_count": 8,
      "outputs": []
    },
    {
      "cell_type": "code",
      "source": [
        "#Applying preprocessing function\n",
        "train['cleaned_text'] = train['text'].apply(preprocess_text)"
      ],
      "metadata": {
        "id": "HY2e2wdDBMr3",
        "colab": {
          "base_uri": "https://localhost:8080/"
        },
        "outputId": "2ad4ae6a-2c49-45c3-86f8-967a16ac0dc3"
      },
      "execution_count": 9,
      "outputs": [
        {
          "output_type": "stream",
          "name": "stderr",
          "text": [
            "<ipython-input-9-813a7ae8618a>:2: SettingWithCopyWarning: \n",
            "A value is trying to be set on a copy of a slice from a DataFrame.\n",
            "Try using .loc[row_indexer,col_indexer] = value instead\n",
            "\n",
            "See the caveats in the documentation: https://pandas.pydata.org/pandas-docs/stable/user_guide/indexing.html#returning-a-view-versus-a-copy\n",
            "  train['cleaned_text'] = train['text'].apply(preprocess_text)\n"
          ]
        }
      ]
    },
    {
      "cell_type": "code",
      "source": [
        "train.head()"
      ],
      "metadata": {
        "colab": {
          "base_uri": "https://localhost:8080/",
          "height": 573
        },
        "id": "GJWVHfMYBO-k",
        "outputId": "5815e629-15ba-49e8-da58-6f141094a756"
      },
      "execution_count": 10,
      "outputs": [
        {
          "output_type": "execute_result",
          "data": {
            "text/plain": [
              "           id      source version                     added  \\\n",
              "2   252643161  s2ag/valid      v1  2022-10-01T15:18:53.788Z   \n",
              "3   244852373  s2ag/valid      v1  2021-12-04T16:21:39.980Z   \n",
              "6   252033565  s2ag/valid      v1  2022-09-03T15:09:09.625Z   \n",
              "18  255290365  s2ag/valid      v1  2022-12-31T16:09:26.680Z   \n",
              "37  249073215  s2ag/valid      v1  2022-05-27T15:22:24.852Z   \n",
              "\n",
              "                     created  \\\n",
              "2   2022-12-01T00:00:00.000Z   \n",
              "3   2022-12-01T00:00:00.000Z   \n",
              "6   2023-01-01T00:00:00.000Z   \n",
              "18  2022-12-22T00:00:00.000Z   \n",
              "37  2023-04-01T00:00:00.000Z   \n",
              "\n",
              "                                                 text  \\\n",
              "2   Complete Targets Coverage in Energy Harvesting...   \n",
              "3   Nonorthogonal Multiple Access Enabled Two-Way ...   \n",
              "6   Event-Triggered Adaptive Output Feedback Contr...   \n",
              "18  From MMU to MPU: Adaptation of the Pip Kernel ...   \n",
              "37  Data-Driven Cyber-Attack Detection of Intellig...   \n",
              "\n",
              "                                    paper_id          fieldOfStudy  \\\n",
              "2   c0b6a8dfe459a17b885902f1415c5f0acfd72cc5  ['Computer Science']   \n",
              "3   6602075f1e6fd8966e98de07be4230ec72b1ed0b  ['Computer Science']   \n",
              "6   4767015228fb30be57a21b626c7867239255b3b6  ['Computer Science']   \n",
              "18  f72832c96c65f630e5fedcc932442d38ca1be760  ['Computer Science']   \n",
              "37  ab61f83262b23dc81f77f6dc3e80cb81e2889b7d  ['Computer Science']   \n",
              "\n",
              "                                         cleaned_text  \n",
              "2   complete targets coverage energy harvesting in...  \n",
              "3   nonorthogonal multiple access enabled two way ...  \n",
              "6   event triggered adaptive output feedback contr...  \n",
              "18  mmu mpu adaptation pip kernel constrained devi...  \n",
              "37  data driven cyber attack detection intelligent...  "
            ],
            "text/html": [
              "\n",
              "  <div id=\"df-820bcf2d-5486-47a7-9bb5-aee1f48cd0ae\" class=\"colab-df-container\">\n",
              "    <div>\n",
              "<style scoped>\n",
              "    .dataframe tbody tr th:only-of-type {\n",
              "        vertical-align: middle;\n",
              "    }\n",
              "\n",
              "    .dataframe tbody tr th {\n",
              "        vertical-align: top;\n",
              "    }\n",
              "\n",
              "    .dataframe thead th {\n",
              "        text-align: right;\n",
              "    }\n",
              "</style>\n",
              "<table border=\"1\" class=\"dataframe\">\n",
              "  <thead>\n",
              "    <tr style=\"text-align: right;\">\n",
              "      <th></th>\n",
              "      <th>id</th>\n",
              "      <th>source</th>\n",
              "      <th>version</th>\n",
              "      <th>added</th>\n",
              "      <th>created</th>\n",
              "      <th>text</th>\n",
              "      <th>paper_id</th>\n",
              "      <th>fieldOfStudy</th>\n",
              "      <th>cleaned_text</th>\n",
              "    </tr>\n",
              "  </thead>\n",
              "  <tbody>\n",
              "    <tr>\n",
              "      <th>2</th>\n",
              "      <td>252643161</td>\n",
              "      <td>s2ag/valid</td>\n",
              "      <td>v1</td>\n",
              "      <td>2022-10-01T15:18:53.788Z</td>\n",
              "      <td>2022-12-01T00:00:00.000Z</td>\n",
              "      <td>Complete Targets Coverage in Energy Harvesting...</td>\n",
              "      <td>c0b6a8dfe459a17b885902f1415c5f0acfd72cc5</td>\n",
              "      <td>['Computer Science']</td>\n",
              "      <td>complete targets coverage energy harvesting in...</td>\n",
              "    </tr>\n",
              "    <tr>\n",
              "      <th>3</th>\n",
              "      <td>244852373</td>\n",
              "      <td>s2ag/valid</td>\n",
              "      <td>v1</td>\n",
              "      <td>2021-12-04T16:21:39.980Z</td>\n",
              "      <td>2022-12-01T00:00:00.000Z</td>\n",
              "      <td>Nonorthogonal Multiple Access Enabled Two-Way ...</td>\n",
              "      <td>6602075f1e6fd8966e98de07be4230ec72b1ed0b</td>\n",
              "      <td>['Computer Science']</td>\n",
              "      <td>nonorthogonal multiple access enabled two way ...</td>\n",
              "    </tr>\n",
              "    <tr>\n",
              "      <th>6</th>\n",
              "      <td>252033565</td>\n",
              "      <td>s2ag/valid</td>\n",
              "      <td>v1</td>\n",
              "      <td>2022-09-03T15:09:09.625Z</td>\n",
              "      <td>2023-01-01T00:00:00.000Z</td>\n",
              "      <td>Event-Triggered Adaptive Output Feedback Contr...</td>\n",
              "      <td>4767015228fb30be57a21b626c7867239255b3b6</td>\n",
              "      <td>['Computer Science']</td>\n",
              "      <td>event triggered adaptive output feedback contr...</td>\n",
              "    </tr>\n",
              "    <tr>\n",
              "      <th>18</th>\n",
              "      <td>255290365</td>\n",
              "      <td>s2ag/valid</td>\n",
              "      <td>v1</td>\n",
              "      <td>2022-12-31T16:09:26.680Z</td>\n",
              "      <td>2022-12-22T00:00:00.000Z</td>\n",
              "      <td>From MMU to MPU: Adaptation of the Pip Kernel ...</td>\n",
              "      <td>f72832c96c65f630e5fedcc932442d38ca1be760</td>\n",
              "      <td>['Computer Science']</td>\n",
              "      <td>mmu mpu adaptation pip kernel constrained devi...</td>\n",
              "    </tr>\n",
              "    <tr>\n",
              "      <th>37</th>\n",
              "      <td>249073215</td>\n",
              "      <td>s2ag/valid</td>\n",
              "      <td>v1</td>\n",
              "      <td>2022-05-27T15:22:24.852Z</td>\n",
              "      <td>2023-04-01T00:00:00.000Z</td>\n",
              "      <td>Data-Driven Cyber-Attack Detection of Intellig...</td>\n",
              "      <td>ab61f83262b23dc81f77f6dc3e80cb81e2889b7d</td>\n",
              "      <td>['Computer Science']</td>\n",
              "      <td>data driven cyber attack detection intelligent...</td>\n",
              "    </tr>\n",
              "  </tbody>\n",
              "</table>\n",
              "</div>\n",
              "    <div class=\"colab-df-buttons\">\n",
              "\n",
              "  <div class=\"colab-df-container\">\n",
              "    <button class=\"colab-df-convert\" onclick=\"convertToInteractive('df-820bcf2d-5486-47a7-9bb5-aee1f48cd0ae')\"\n",
              "            title=\"Convert this dataframe to an interactive table.\"\n",
              "            style=\"display:none;\">\n",
              "\n",
              "  <svg xmlns=\"http://www.w3.org/2000/svg\" height=\"24px\" viewBox=\"0 -960 960 960\">\n",
              "    <path d=\"M120-120v-720h720v720H120Zm60-500h600v-160H180v160Zm220 220h160v-160H400v160Zm0 220h160v-160H400v160ZM180-400h160v-160H180v160Zm440 0h160v-160H620v160ZM180-180h160v-160H180v160Zm440 0h160v-160H620v160Z\"/>\n",
              "  </svg>\n",
              "    </button>\n",
              "\n",
              "  <style>\n",
              "    .colab-df-container {\n",
              "      display:flex;\n",
              "      gap: 12px;\n",
              "    }\n",
              "\n",
              "    .colab-df-convert {\n",
              "      background-color: #E8F0FE;\n",
              "      border: none;\n",
              "      border-radius: 50%;\n",
              "      cursor: pointer;\n",
              "      display: none;\n",
              "      fill: #1967D2;\n",
              "      height: 32px;\n",
              "      padding: 0 0 0 0;\n",
              "      width: 32px;\n",
              "    }\n",
              "\n",
              "    .colab-df-convert:hover {\n",
              "      background-color: #E2EBFA;\n",
              "      box-shadow: 0px 1px 2px rgba(60, 64, 67, 0.3), 0px 1px 3px 1px rgba(60, 64, 67, 0.15);\n",
              "      fill: #174EA6;\n",
              "    }\n",
              "\n",
              "    .colab-df-buttons div {\n",
              "      margin-bottom: 4px;\n",
              "    }\n",
              "\n",
              "    [theme=dark] .colab-df-convert {\n",
              "      background-color: #3B4455;\n",
              "      fill: #D2E3FC;\n",
              "    }\n",
              "\n",
              "    [theme=dark] .colab-df-convert:hover {\n",
              "      background-color: #434B5C;\n",
              "      box-shadow: 0px 1px 3px 1px rgba(0, 0, 0, 0.15);\n",
              "      filter: drop-shadow(0px 1px 2px rgba(0, 0, 0, 0.3));\n",
              "      fill: #FFFFFF;\n",
              "    }\n",
              "  </style>\n",
              "\n",
              "    <script>\n",
              "      const buttonEl =\n",
              "        document.querySelector('#df-820bcf2d-5486-47a7-9bb5-aee1f48cd0ae button.colab-df-convert');\n",
              "      buttonEl.style.display =\n",
              "        google.colab.kernel.accessAllowed ? 'block' : 'none';\n",
              "\n",
              "      async function convertToInteractive(key) {\n",
              "        const element = document.querySelector('#df-820bcf2d-5486-47a7-9bb5-aee1f48cd0ae');\n",
              "        const dataTable =\n",
              "          await google.colab.kernel.invokeFunction('convertToInteractive',\n",
              "                                                    [key], {});\n",
              "        if (!dataTable) return;\n",
              "\n",
              "        const docLinkHtml = 'Like what you see? Visit the ' +\n",
              "          '<a target=\"_blank\" href=https://colab.research.google.com/notebooks/data_table.ipynb>data table notebook</a>'\n",
              "          + ' to learn more about interactive tables.';\n",
              "        element.innerHTML = '';\n",
              "        dataTable['output_type'] = 'display_data';\n",
              "        await google.colab.output.renderOutput(dataTable, element);\n",
              "        const docLink = document.createElement('div');\n",
              "        docLink.innerHTML = docLinkHtml;\n",
              "        element.appendChild(docLink);\n",
              "      }\n",
              "    </script>\n",
              "  </div>\n",
              "\n",
              "\n",
              "<div id=\"df-a3d218da-9c25-4dfc-9126-bec1e55b5e87\">\n",
              "  <button class=\"colab-df-quickchart\" onclick=\"quickchart('df-a3d218da-9c25-4dfc-9126-bec1e55b5e87')\"\n",
              "            title=\"Suggest charts\"\n",
              "            style=\"display:none;\">\n",
              "\n",
              "<svg xmlns=\"http://www.w3.org/2000/svg\" height=\"24px\"viewBox=\"0 0 24 24\"\n",
              "     width=\"24px\">\n",
              "    <g>\n",
              "        <path d=\"M19 3H5c-1.1 0-2 .9-2 2v14c0 1.1.9 2 2 2h14c1.1 0 2-.9 2-2V5c0-1.1-.9-2-2-2zM9 17H7v-7h2v7zm4 0h-2V7h2v10zm4 0h-2v-4h2v4z\"/>\n",
              "    </g>\n",
              "</svg>\n",
              "  </button>\n",
              "\n",
              "<style>\n",
              "  .colab-df-quickchart {\n",
              "      --bg-color: #E8F0FE;\n",
              "      --fill-color: #1967D2;\n",
              "      --hover-bg-color: #E2EBFA;\n",
              "      --hover-fill-color: #174EA6;\n",
              "      --disabled-fill-color: #AAA;\n",
              "      --disabled-bg-color: #DDD;\n",
              "  }\n",
              "\n",
              "  [theme=dark] .colab-df-quickchart {\n",
              "      --bg-color: #3B4455;\n",
              "      --fill-color: #D2E3FC;\n",
              "      --hover-bg-color: #434B5C;\n",
              "      --hover-fill-color: #FFFFFF;\n",
              "      --disabled-bg-color: #3B4455;\n",
              "      --disabled-fill-color: #666;\n",
              "  }\n",
              "\n",
              "  .colab-df-quickchart {\n",
              "    background-color: var(--bg-color);\n",
              "    border: none;\n",
              "    border-radius: 50%;\n",
              "    cursor: pointer;\n",
              "    display: none;\n",
              "    fill: var(--fill-color);\n",
              "    height: 32px;\n",
              "    padding: 0;\n",
              "    width: 32px;\n",
              "  }\n",
              "\n",
              "  .colab-df-quickchart:hover {\n",
              "    background-color: var(--hover-bg-color);\n",
              "    box-shadow: 0 1px 2px rgba(60, 64, 67, 0.3), 0 1px 3px 1px rgba(60, 64, 67, 0.15);\n",
              "    fill: var(--button-hover-fill-color);\n",
              "  }\n",
              "\n",
              "  .colab-df-quickchart-complete:disabled,\n",
              "  .colab-df-quickchart-complete:disabled:hover {\n",
              "    background-color: var(--disabled-bg-color);\n",
              "    fill: var(--disabled-fill-color);\n",
              "    box-shadow: none;\n",
              "  }\n",
              "\n",
              "  .colab-df-spinner {\n",
              "    border: 2px solid var(--fill-color);\n",
              "    border-color: transparent;\n",
              "    border-bottom-color: var(--fill-color);\n",
              "    animation:\n",
              "      spin 1s steps(1) infinite;\n",
              "  }\n",
              "\n",
              "  @keyframes spin {\n",
              "    0% {\n",
              "      border-color: transparent;\n",
              "      border-bottom-color: var(--fill-color);\n",
              "      border-left-color: var(--fill-color);\n",
              "    }\n",
              "    20% {\n",
              "      border-color: transparent;\n",
              "      border-left-color: var(--fill-color);\n",
              "      border-top-color: var(--fill-color);\n",
              "    }\n",
              "    30% {\n",
              "      border-color: transparent;\n",
              "      border-left-color: var(--fill-color);\n",
              "      border-top-color: var(--fill-color);\n",
              "      border-right-color: var(--fill-color);\n",
              "    }\n",
              "    40% {\n",
              "      border-color: transparent;\n",
              "      border-right-color: var(--fill-color);\n",
              "      border-top-color: var(--fill-color);\n",
              "    }\n",
              "    60% {\n",
              "      border-color: transparent;\n",
              "      border-right-color: var(--fill-color);\n",
              "    }\n",
              "    80% {\n",
              "      border-color: transparent;\n",
              "      border-right-color: var(--fill-color);\n",
              "      border-bottom-color: var(--fill-color);\n",
              "    }\n",
              "    90% {\n",
              "      border-color: transparent;\n",
              "      border-bottom-color: var(--fill-color);\n",
              "    }\n",
              "  }\n",
              "</style>\n",
              "\n",
              "  <script>\n",
              "    async function quickchart(key) {\n",
              "      const quickchartButtonEl =\n",
              "        document.querySelector('#' + key + ' button');\n",
              "      quickchartButtonEl.disabled = true;  // To prevent multiple clicks.\n",
              "      quickchartButtonEl.classList.add('colab-df-spinner');\n",
              "      try {\n",
              "        const charts = await google.colab.kernel.invokeFunction(\n",
              "            'suggestCharts', [key], {});\n",
              "      } catch (error) {\n",
              "        console.error('Error during call to suggestCharts:', error);\n",
              "      }\n",
              "      quickchartButtonEl.classList.remove('colab-df-spinner');\n",
              "      quickchartButtonEl.classList.add('colab-df-quickchart-complete');\n",
              "    }\n",
              "    (() => {\n",
              "      let quickchartButtonEl =\n",
              "        document.querySelector('#df-a3d218da-9c25-4dfc-9126-bec1e55b5e87 button');\n",
              "      quickchartButtonEl.style.display =\n",
              "        google.colab.kernel.accessAllowed ? 'block' : 'none';\n",
              "    })();\n",
              "  </script>\n",
              "</div>\n",
              "\n",
              "    </div>\n",
              "  </div>\n"
            ]
          },
          "metadata": {},
          "execution_count": 10
        }
      ]
    },
    {
      "cell_type": "code",
      "source": [
        "train['cleaned_text'].iloc[0]"
      ],
      "metadata": {
        "colab": {
          "base_uri": "https://localhost:8080/",
          "height": 122
        },
        "id": "ItLAAFF8BYfh",
        "outputId": "2041093c-1f1c-4593-cca1-298ba7734420"
      },
      "execution_count": 11,
      "outputs": [
        {
          "output_type": "execute_result",
          "data": {
            "text/plain": [
              "'complete targets coverage energy harvesting internet things ambient backscatter article considers deriving set covers set active nodes responsible monitoring targets internet things iot network . key distinction prior works article considers sensor nodes aided backscatter communications allow communicate negligible energy cost using ambient radio frequency rf signals . article contains three main novelties . first presents mixed integer linear program milp used compute global optimal solution . second also outlines centralized greedy scheduling cgs algorithm selects nodes based energy number covered targets . third presents distributed greedy scheduling dgs algorithm selects nodes according energy level . simulation results show equipping nodes ambient backscattering capability increases ratio complete targets coverage compared existing techniques .'"
            ],
            "application/vnd.google.colaboratory.intrinsic+json": {
              "type": "string"
            }
          },
          "metadata": {},
          "execution_count": 11
        }
      ]
    },
    {
      "cell_type": "markdown",
      "source": [
        "# Model Building"
      ],
      "metadata": {
        "id": "K-bZp653Ad-c"
      }
    },
    {
      "cell_type": "markdown",
      "source": [
        "## 1. Complex Word Identification model\n",
        "\n",
        "Select the words that need to be simplified. So, we need to train a model to detect complex words in a sentence. This model is called CWI: Complex Word Identification model.\n",
        "\n"
      ],
      "metadata": {
        "id": "v9WIT6svWZ1-"
      }
    },
    {
      "cell_type": "code",
      "source": [
        "#Importing required libraries\n",
        "from collections import namedtuple\n",
        "from nltk import word_tokenize\n",
        "from functools import lru_cache\n",
        "import re\n",
        "import unicodedata\n",
        "import sys\n",
        "from collections import Counter\n",
        "import nltk\n",
        "from nltk.corpus import brown\n",
        "from nltk import word_tokenize\n",
        "from nltk.corpus import stopwords\n",
        "from nltk import pos_tag"
      ],
      "metadata": {
        "id": "2P_6VcAXAfUl"
      },
      "execution_count": 12,
      "outputs": []
    },
    {
      "cell_type": "code",
      "source": [
        "#Creating named tuples\n",
        "Dataset = namedtuple('Dataset', 'name, train, test')\n",
        "Model = namedtuple('Model', 'type, name, dimension, corpus, model')"
      ],
      "metadata": {
        "id": "UNlqidsWhIGr"
      },
      "execution_count": 13,
      "outputs": []
    },
    {
      "cell_type": "markdown",
      "source": [
        "**Getting the dataset to train complex words identification model**"
      ],
      "metadata": {
        "id": "-J7tDP-Uhb2O"
      }
    },
    {
      "cell_type": "code",
      "source": [
        "!wget https://www.inf.uni-hamburg.de/en/inst/ab/lt/resources/data/complex-word-identification-dataset/cwishareddataset.zip"
      ],
      "metadata": {
        "colab": {
          "base_uri": "https://localhost:8080/"
        },
        "id": "cuziMPCdhY3T",
        "outputId": "9dc8d42f-f743-4942-a4ff-39e6454a14f5"
      },
      "execution_count": 14,
      "outputs": [
        {
          "output_type": "stream",
          "name": "stdout",
          "text": [
            "--2023-12-14 15:35:32--  https://www.inf.uni-hamburg.de/en/inst/ab/lt/resources/data/complex-word-identification-dataset/cwishareddataset.zip\n",
            "Resolving www.inf.uni-hamburg.de (www.inf.uni-hamburg.de)... 134.100.36.5\n",
            "Connecting to www.inf.uni-hamburg.de (www.inf.uni-hamburg.de)|134.100.36.5|:443... connected.\n",
            "HTTP request sent, awaiting response... 200 OK\n",
            "Length: unspecified [application/zip]\n",
            "Saving to: ‘cwishareddataset.zip’\n",
            "\n",
            "cwishareddataset.zi     [     <=>            ]   1.03M  1.05MB/s    in 1.0s    \n",
            "\n",
            "2023-12-14 15:35:33 (1.05 MB/s) - ‘cwishareddataset.zip’ saved [1075894]\n",
            "\n"
          ]
        }
      ]
    },
    {
      "cell_type": "code",
      "source": [
        "!unzip cwishareddataset.zip"
      ],
      "metadata": {
        "colab": {
          "base_uri": "https://localhost:8080/"
        },
        "id": "UnvEvS0vhfDd",
        "outputId": "1bc6fce8-0b1f-4def-f203-3ee2f745e43c"
      },
      "execution_count": 15,
      "outputs": [
        {
          "output_type": "stream",
          "name": "stdout",
          "text": [
            "Archive:  cwishareddataset.zip\n",
            "   creating: traindevset/\n",
            "   creating: traindevset/german/\n",
            "  inflating: traindevset/german/German_Train.tsv  \n",
            "  inflating: traindevset/german/German_Dev.tsv  \n",
            "  inflating: traindevset/README.md   \n",
            "   creating: traindevset/english/\n",
            "  inflating: traindevset/english/WikiNews_Train.tsv  \n",
            "  inflating: traindevset/english/Wikipedia_Train.tsv  \n",
            "  inflating: traindevset/english/Wikipedia_Dev.tsv  \n",
            "  inflating: traindevset/english/News_Dev.tsv  \n",
            "  inflating: traindevset/english/News_Train.tsv  \n",
            "  inflating: traindevset/english/WikiNews_Dev.tsv  \n",
            "   creating: traindevset/spanish/\n",
            "  inflating: traindevset/spanish/Spanish_Train.tsv  \n",
            "  inflating: traindevset/spanish/Spanish_Dev.tsv  \n",
            "  inflating: README.md               \n",
            "   creating: testset/\n",
            "   creating: testset/german/\n",
            "  inflating: testset/german/German_Test.tsv  \n",
            "  inflating: testset/README.md       \n",
            "   creating: testset/english/\n",
            "  inflating: testset/english/Wikipedia_Test.tsv  \n",
            "   creating: __MACOSX/\n",
            "   creating: __MACOSX/testset/\n",
            "   creating: __MACOSX/testset/english/\n",
            "  inflating: __MACOSX/testset/english/._Wikipedia_Test.tsv  \n",
            "  inflating: testset/english/WikiNews_Test.tsv  \n",
            "  inflating: testset/english/News_Test.tsv  \n",
            "   creating: testset/french/\n",
            "  inflating: testset/french/French_Test.tsv  \n",
            "   creating: testset/spanish/\n",
            "  inflating: testset/spanish/Spanish_Test.tsv  \n"
          ]
        }
      ]
    },
    {
      "cell_type": "code",
      "source": [
        "MAIN_PATH_DATASET = \"traindevset/english/\"\n",
        "genres = ['Wikipedia', 'WikiNews', 'News']\n",
        "datasets = ['Train', 'Dev']\n",
        "columns = ['id', 'sentence', \"start\", \"end\", \"target\",\n",
        "           \"nat\", \"non_nat\", \"nat_marked\", \"non_nat_marked\", \"binary\", \"prob\"]\n",
        "\n",
        "\n",
        "datasets = [Dataset('Wikipedia', 'Train', 'Dev'),\n",
        "            Dataset('WikiNews', 'Train', 'Dev'),\n",
        "            Dataset('News', 'Train', 'Dev')]\n",
        "\n",
        "feature_categories = []\n",
        "\n",
        "#This function is used to load the dataframe from tsv file (tab separated values)\n",
        "def load_df(path):\n",
        "    df = pd.read_csv(path, header=None, sep = \"\\t\")\n",
        "    df.columns = columns\n",
        "    return df\n",
        "\n",
        "datasets = [Dataset(d.name, load_df(MAIN_PATH_DATASET + d.name + '_' + d.train + '.tsv'),\n",
        "                            load_df(MAIN_PATH_DATASET + d.name + '_' + d.test + '.tsv'))\n",
        "                            for d in datasets]"
      ],
      "metadata": {
        "id": "8AyIM3P5hChy"
      },
      "execution_count": 16,
      "outputs": []
    },
    {
      "cell_type": "markdown",
      "source": [
        "**Getting the glove embeddings**"
      ],
      "metadata": {
        "id": "Ft6e6kethrc9"
      }
    },
    {
      "cell_type": "code",
      "source": [
        "!wget http://nlp.stanford.edu/data/glove.6B.zip"
      ],
      "metadata": {
        "colab": {
          "base_uri": "https://localhost:8080/"
        },
        "id": "fiKEz62nhCen",
        "outputId": "6db927a4-3957-43ec-aebe-5c11ceeae4ae"
      },
      "execution_count": 17,
      "outputs": [
        {
          "output_type": "stream",
          "name": "stdout",
          "text": [
            "--2023-12-14 15:35:39--  http://nlp.stanford.edu/data/glove.6B.zip\n",
            "Resolving nlp.stanford.edu (nlp.stanford.edu)... 171.64.67.140\n",
            "Connecting to nlp.stanford.edu (nlp.stanford.edu)|171.64.67.140|:80... connected.\n",
            "HTTP request sent, awaiting response... 302 Found\n",
            "Location: https://nlp.stanford.edu/data/glove.6B.zip [following]\n",
            "--2023-12-14 15:35:40--  https://nlp.stanford.edu/data/glove.6B.zip\n",
            "Connecting to nlp.stanford.edu (nlp.stanford.edu)|171.64.67.140|:443... connected.\n",
            "HTTP request sent, awaiting response... 301 Moved Permanently\n",
            "Location: https://downloads.cs.stanford.edu/nlp/data/glove.6B.zip [following]\n",
            "--2023-12-14 15:35:40--  https://downloads.cs.stanford.edu/nlp/data/glove.6B.zip\n",
            "Resolving downloads.cs.stanford.edu (downloads.cs.stanford.edu)... 171.64.64.22\n",
            "Connecting to downloads.cs.stanford.edu (downloads.cs.stanford.edu)|171.64.64.22|:443... connected.\n",
            "HTTP request sent, awaiting response... 200 OK\n",
            "Length: 862182613 (822M) [application/zip]\n",
            "Saving to: ‘glove.6B.zip’\n",
            "\n",
            "glove.6B.zip        100%[===================>] 822.24M  5.02MB/s    in 2m 39s  \n",
            "\n",
            "2023-12-14 15:38:19 (5.19 MB/s) - ‘glove.6B.zip’ saved [862182613/862182613]\n",
            "\n"
          ]
        }
      ]
    },
    {
      "cell_type": "code",
      "source": [
        "!unzip glove.6B.zip -d embeddings"
      ],
      "metadata": {
        "colab": {
          "base_uri": "https://localhost:8080/"
        },
        "id": "jPmHd3roh7A0",
        "outputId": "bed05032-839b-4759-a205-81509d3e5c2b"
      },
      "execution_count": 18,
      "outputs": [
        {
          "output_type": "stream",
          "name": "stdout",
          "text": [
            "Archive:  glove.6B.zip\n",
            "  inflating: embeddings/glove.6B.50d.txt  \n",
            "  inflating: embeddings/glove.6B.100d.txt  \n",
            "  inflating: embeddings/glove.6B.200d.txt  \n",
            "  inflating: embeddings/glove.6B.300d.txt  \n"
          ]
        }
      ]
    },
    {
      "cell_type": "code",
      "source": [
        "from gensim.test.utils import datapath, get_tmpfile\n",
        "from gensim.models import KeyedVectors\n",
        "from gensim.scripts.glove2word2vec import glove2word2vec\n",
        "\n",
        "MAIN_PATH = 'embeddings/'\n",
        "\n",
        "\n",
        "glove_models = []\n",
        "\n",
        "glove_d = [ Model('glove', 'glove.6B.300d.txt', 300, 'wikipedia+gigaword5', None)]\n",
        "\n",
        "for model in glove_d:\n",
        "    glove_file = MAIN_PATH + model.name\n",
        "    temp = get_tmpfile(model.name + '-temp')\n",
        "    glove2word2vec(glove_file, temp)\n",
        "    vecs = KeyedVectors.load_word2vec_format(temp)\n",
        "    glove_models.append(Model(model.type, model.name, model.dimension, model.corpus, vecs))"
      ],
      "metadata": {
        "id": "AhRVIptzh9Q9"
      },
      "execution_count": 19,
      "outputs": []
    },
    {
      "cell_type": "code",
      "source": [
        "print(glove_models)"
      ],
      "metadata": {
        "colab": {
          "base_uri": "https://localhost:8080/"
        },
        "id": "-xwys9mshCbY",
        "outputId": "d80365e7-b976-49dd-c932-b5c55ed56271"
      },
      "execution_count": 20,
      "outputs": [
        {
          "output_type": "stream",
          "name": "stdout",
          "text": [
            "[Model(type='glove', name='glove.6B.300d.txt', dimension=300, corpus='wikipedia+gigaword5', model=<gensim.models.keyedvectors.KeyedVectors object at 0x7b5d9d2a68c0>)]\n"
          ]
        }
      ]
    },
    {
      "cell_type": "code",
      "source": [
        "dataframe = datasets[0].train[0:30]\n",
        "\n",
        "def overlaps(start1, end1, start2, end2):\n",
        "    return bool(range(max(start1, start2), min(end1, end2)+1))\n",
        "\n",
        "def extract_ngrams_group(group):\n",
        "    targets = zip(group['target'].values.tolist(), group['start'].values.tolist(),\n",
        "                 group['end'].values.tolist(), group['binary'].values.tolist())\n",
        "    for word, start, end, binary in targets:\n",
        "        tokens = word.split()\n",
        "        if len(tokens)>1:\n",
        "            olap_words = [(w, b) for w, s, e, b in targets if overlaps(start, end, s, e)]\n",
        "\n",
        "\n",
        "grouped = dataframe.groupby('sentence').apply(lambda group : extract_ngrams_group(group))"
      ],
      "metadata": {
        "id": "83RGW-YJiRJT"
      },
      "execution_count": 21,
      "outputs": []
    },
    {
      "cell_type": "code",
      "source": [
        "wordlist_lowercased = set(i.lower() for i in brown.words())\n",
        "print (len(wordlist_lowercased))"
      ],
      "metadata": {
        "colab": {
          "base_uri": "https://localhost:8080/"
        },
        "id": "DLkCs5f1iSnt",
        "outputId": "1b1400d1-6852-473c-8fea-e5e061e7030e"
      },
      "execution_count": 22,
      "outputs": [
        {
          "output_type": "stream",
          "name": "stdout",
          "text": [
            "49815\n"
          ]
        }
      ]
    },
    {
      "cell_type": "code",
      "source": [
        "tbl = dict.fromkeys(i for i in range(sys.maxunicode)\n",
        "                      if unicodedata.category(chr(i)).startswith('P'))"
      ],
      "metadata": {
        "id": "-WseVLdhhCX9"
      },
      "execution_count": 23,
      "outputs": []
    },
    {
      "cell_type": "code",
      "source": [
        "def punctuation_removal(text):\n",
        "    return text.translate(tbl)"
      ],
      "metadata": {
        "id": "ZkxOT7rPi1n6"
      },
      "execution_count": 24,
      "outputs": []
    },
    {
      "cell_type": "code",
      "source": [
        "@lru_cache(maxsize=None)\n",
        "def get_all_tokens_with_index(context):\n",
        "    curr_pos = 0\n",
        "    targets = []\n",
        "    j = 0\n",
        "    w = 0\n",
        "    curr_split = ''\n",
        "    ctx_split = context.split()\n",
        "    whitespaces = re.findall('\\s+', context)\n",
        "    num_whitespaces = [len(token) for token in whitespaces]\n",
        "    num_whitespaces.append(1)\n",
        "    tokens = word_tokenize(context)\n",
        "    tokens = ['\"' if token not in context else token for token in tokens]\n",
        "    for index, token in enumerate(tokens, 1):\n",
        "        targets.append((token, index, curr_pos, (curr_pos + len(token))))\n",
        "        curr_pos += len(token)\n",
        "        curr_split += token\n",
        "        if ctx_split[j] == curr_split:\n",
        "            curr_pos += num_whitespaces[w]\n",
        "            j += 1\n",
        "            w += 1\n",
        "            curr_split = ''\n",
        "    return [val for val in targets if val[0] != '\"']"
      ],
      "metadata": {
        "id": "2hCzC01w-Nqp"
      },
      "execution_count": 25,
      "outputs": []
    },
    {
      "cell_type": "code",
      "source": [
        "def create_vocabulary(sentences, embedding_model, dimension):\n",
        "    all_words = [tpl[0] for sentence in sentences for tpl in sentence['seq']] + list(wordlist_lowercased)\n",
        "    print('# Words : {}'.format(len(all_words)))\n",
        "    counter = Counter(all_words)\n",
        "    vocab_size = len(counter) + 1\n",
        "    print('# Vocab : {}'.format(vocab_size))\n",
        "    print('# embeding model  : {}'.format(len(embedding_model.key_to_index)))\n",
        "    word2index = {word : index for index, (word, count) in enumerate(counter.most_common(), 1)}\n",
        "    index2word = {index : word for word, index in word2index.items()}\n",
        "    # +1 required for pad token\n",
        "    embedding_matrix = np.zeros(((vocab_size), dimension))\n",
        "    missing_embed_words = []\n",
        "    i_ = 0\n",
        "    for word, index in word2index.items():\n",
        "        if word in embedding_model.key_to_index:\n",
        "            embedding = embedding_model[word]\n",
        "        else:\n",
        "             i_ +=1\n",
        "             continue\n",
        "        embedding_matrix[index] = embedding\n",
        "    missing_embed_count = len(missing_embed_words)\n",
        "    print('# Words missing embedding : {}'.format(missing_embed_count))\n",
        "    print('Embedding shape : {}'.format(embedding_matrix.shape))\n",
        "    print(\"i: \", i_ )\n",
        "    return word2index, index2word, embedding_matrix"
      ],
      "metadata": {
        "id": "-r3yu3O3i1lF"
      },
      "execution_count": 26,
      "outputs": []
    },
    {
      "cell_type": "code",
      "source": [
        "def forward_transformation(dataframe, lowercase = True, filter_punc = True, filtering = \"a132\"):\n",
        "    grouped = dataframe.groupby('sentence').apply(lambda row :\n",
        "                        {'sent_id' : list(set(row['sent_id']))[0],\n",
        "                         'sentence' : list(set(row['sentence']))[0],\n",
        "                         'tags': [tag for tag in zip(row['target'],\n",
        "                            row['start'], row['end'], row['binary'], row['prob'])]})\n",
        "    sentences = []\n",
        "    for vals in grouped:\n",
        "        sent_id = vals['sent_id']\n",
        "        sentence = vals['sentence']\n",
        "        tags = vals['tags']\n",
        "        tags_without_labels = [(word, start, end) for word, start, end, binary, prob in tags]\n",
        "        all_tokens = get_all_tokens_with_index(sentence)\n",
        "        sent_repr = [(word, start, end, tags[tags_without_labels.index((word, start, end))][3],\n",
        "                     tags[tags_without_labels.index((word, start, end))][4])\n",
        "           if (word, start, end) in tags_without_labels\n",
        "          else (word, start, end, 0, 0.0) for word, index, start, end in all_tokens]\n",
        "        if lowercase:\n",
        "            sent_repr = [(word.lower(), start, end, binary, prob)\n",
        "                         for word, start, end, binary, prob in sent_repr]\n",
        "        if filter_punc:\n",
        "            sent_repr = list(filter(lambda vals : punctuation_removal(vals[0]), sent_repr))\n",
        "        if filtering:\n",
        "            sent_repr = list(filter(lambda vals : vals[0] != \"'s\", sent_repr))\n",
        "            sent_repr = list(filter(lambda vals : vals[0] != \"``\", sent_repr))\n",
        "        sentences.append({'sent_id' : sent_id, 'sentence' : sentence, 'seq' : sent_repr})\n",
        "    return sentences"
      ],
      "metadata": {
        "id": "BGtJw5h6i1iO"
      },
      "execution_count": 33,
      "outputs": []
    },
    {
      "cell_type": "code",
      "source": [
        "def split_sentence_sequences(sentences):\n",
        "    words, start_end, binary, prob = [], [], [] ,[]\n",
        "    for sent in sentences:\n",
        "        sequence = sent['seq']\n",
        "        curr_w, curr_se, curr_b, curr_p = map(list, zip(*[(vals[0],\n",
        "            (vals[1], vals[2]), vals[3], vals[4]) for vals in sequence]))\n",
        "        words.append(curr_w)\n",
        "        start_end.append(curr_se)\n",
        "        binary.append(curr_b)\n",
        "        prob.append(curr_p)\n",
        "    return words, start_end, binary, prob"
      ],
      "metadata": {
        "id": "4qO9KtZ1i1e_"
      },
      "execution_count": 28,
      "outputs": []
    },
    {
      "cell_type": "code",
      "source": [
        "datasets.append(Dataset('train_all_test_wiki',\n",
        "        datasets[0].train.append(datasets[1].train).append(datasets[2].train), datasets[0].test))"
      ],
      "metadata": {
        "colab": {
          "base_uri": "https://localhost:8080/"
        },
        "id": "vAyu6V9Fi1b9",
        "outputId": "33bf5188-1e4d-47c7-b7fc-a1c5673f27d4"
      },
      "execution_count": 29,
      "outputs": [
        {
          "output_type": "stream",
          "name": "stderr",
          "text": [
            "<ipython-input-29-995e8cdc830f>:2: FutureWarning: The frame.append method is deprecated and will be removed from pandas in a future version. Use pandas.concat instead.\n",
            "  datasets[0].train.append(datasets[1].train).append(datasets[2].train), datasets[0].test))\n"
          ]
        }
      ]
    },
    {
      "cell_type": "code",
      "source": [
        "# Append train and test set\n",
        "dataset_sel = datasets[3]\n",
        "train_num_rows = dataset_sel.train.shape[0]\n",
        "train_num_sents = len(list(set(dataset_sel.train.sentence.values.tolist())))\n",
        "\n",
        "test_num_rows = dataset_sel.test.shape[0]\n",
        "test_num_sents = len(list(set(dataset_sel.test.sentence.values.tolist())))\n",
        "\n",
        "dataset = dataset_sel.train.append(dataset_sel.test)\n",
        "dataset['sent_id'] = dataset.groupby('sentence').ngroup()\n",
        "dataset_num_rows = dataset.shape[0]\n",
        "dataset_num_sents = len(list(set(dataset.sentence.values.tolist())))\n",
        "\n",
        "print('# Rows train : {}'.format(train_num_rows))\n",
        "print('# Rows test : {}'.format(test_num_rows))\n",
        "print('# Rows dataset : {}'.format(dataset_num_rows))\n",
        "\n",
        "print('# Sents train : {}'.format(train_num_sents))\n",
        "print('# Sents test : {}'.format(test_num_sents))\n",
        "print('# Sents dataset : {}'.format(dataset_num_sents))"
      ],
      "metadata": {
        "colab": {
          "base_uri": "https://localhost:8080/"
        },
        "id": "eCW6AizYjEpF",
        "outputId": "766d75c7-c545-4a30-d750-3e41b8cbf3d8"
      },
      "execution_count": 30,
      "outputs": [
        {
          "output_type": "stream",
          "name": "stdout",
          "text": [
            "# Rows train : 27299\n",
            "# Rows test : 694\n",
            "# Rows dataset : 27993\n",
            "# Sents train : 1988\n",
            "# Sents test : 53\n",
            "# Sents dataset : 2041\n"
          ]
        },
        {
          "output_type": "stream",
          "name": "stderr",
          "text": [
            "<ipython-input-30-fa260ecfaaf6>:9: FutureWarning: The frame.append method is deprecated and will be removed from pandas in a future version. Use pandas.concat instead.\n",
            "  dataset = dataset_sel.train.append(dataset_sel.test)\n"
          ]
        }
      ]
    },
    {
      "cell_type": "markdown",
      "source": [
        "### The training dataset:"
      ],
      "metadata": {
        "id": "MFiraLObjFi-"
      }
    },
    {
      "cell_type": "code",
      "source": [
        "dataset.head(2)"
      ],
      "metadata": {
        "colab": {
          "base_uri": "https://localhost:8080/",
          "height": 216
        },
        "id": "o9nB-cWtjJ_f",
        "outputId": "54777423-e0f8-41c1-d9a7-b8043472b5cc"
      },
      "execution_count": 31,
      "outputs": [
        {
          "output_type": "execute_result",
          "data": {
            "text/plain": [
              "                               id  \\\n",
              "0  3XU9MCX6VODXPI3L8I02CM94TFB2R7   \n",
              "1  3XU9MCX6VODXPI3L8I02CM94TFB2R7   \n",
              "\n",
              "                                            sentence  start  end    target  \\\n",
              "0  Normally , the land will be passed down to fut...      0    8  Normally   \n",
              "1  Normally , the land will be passed down to fut...     28   34    passed   \n",
              "\n",
              "   nat  non_nat  nat_marked  non_nat_marked  binary  prob  sent_id  \n",
              "0   10       10           0               1       1  0.05     1347  \n",
              "1   10       10           0               1       1  0.05     1347  "
            ],
            "text/html": [
              "\n",
              "  <div id=\"df-ef581996-0f97-412c-9911-7638d2b029ea\" class=\"colab-df-container\">\n",
              "    <div>\n",
              "<style scoped>\n",
              "    .dataframe tbody tr th:only-of-type {\n",
              "        vertical-align: middle;\n",
              "    }\n",
              "\n",
              "    .dataframe tbody tr th {\n",
              "        vertical-align: top;\n",
              "    }\n",
              "\n",
              "    .dataframe thead th {\n",
              "        text-align: right;\n",
              "    }\n",
              "</style>\n",
              "<table border=\"1\" class=\"dataframe\">\n",
              "  <thead>\n",
              "    <tr style=\"text-align: right;\">\n",
              "      <th></th>\n",
              "      <th>id</th>\n",
              "      <th>sentence</th>\n",
              "      <th>start</th>\n",
              "      <th>end</th>\n",
              "      <th>target</th>\n",
              "      <th>nat</th>\n",
              "      <th>non_nat</th>\n",
              "      <th>nat_marked</th>\n",
              "      <th>non_nat_marked</th>\n",
              "      <th>binary</th>\n",
              "      <th>prob</th>\n",
              "      <th>sent_id</th>\n",
              "    </tr>\n",
              "  </thead>\n",
              "  <tbody>\n",
              "    <tr>\n",
              "      <th>0</th>\n",
              "      <td>3XU9MCX6VODXPI3L8I02CM94TFB2R7</td>\n",
              "      <td>Normally , the land will be passed down to fut...</td>\n",
              "      <td>0</td>\n",
              "      <td>8</td>\n",
              "      <td>Normally</td>\n",
              "      <td>10</td>\n",
              "      <td>10</td>\n",
              "      <td>0</td>\n",
              "      <td>1</td>\n",
              "      <td>1</td>\n",
              "      <td>0.05</td>\n",
              "      <td>1347</td>\n",
              "    </tr>\n",
              "    <tr>\n",
              "      <th>1</th>\n",
              "      <td>3XU9MCX6VODXPI3L8I02CM94TFB2R7</td>\n",
              "      <td>Normally , the land will be passed down to fut...</td>\n",
              "      <td>28</td>\n",
              "      <td>34</td>\n",
              "      <td>passed</td>\n",
              "      <td>10</td>\n",
              "      <td>10</td>\n",
              "      <td>0</td>\n",
              "      <td>1</td>\n",
              "      <td>1</td>\n",
              "      <td>0.05</td>\n",
              "      <td>1347</td>\n",
              "    </tr>\n",
              "  </tbody>\n",
              "</table>\n",
              "</div>\n",
              "    <div class=\"colab-df-buttons\">\n",
              "\n",
              "  <div class=\"colab-df-container\">\n",
              "    <button class=\"colab-df-convert\" onclick=\"convertToInteractive('df-ef581996-0f97-412c-9911-7638d2b029ea')\"\n",
              "            title=\"Convert this dataframe to an interactive table.\"\n",
              "            style=\"display:none;\">\n",
              "\n",
              "  <svg xmlns=\"http://www.w3.org/2000/svg\" height=\"24px\" viewBox=\"0 -960 960 960\">\n",
              "    <path d=\"M120-120v-720h720v720H120Zm60-500h600v-160H180v160Zm220 220h160v-160H400v160Zm0 220h160v-160H400v160ZM180-400h160v-160H180v160Zm440 0h160v-160H620v160ZM180-180h160v-160H180v160Zm440 0h160v-160H620v160Z\"/>\n",
              "  </svg>\n",
              "    </button>\n",
              "\n",
              "  <style>\n",
              "    .colab-df-container {\n",
              "      display:flex;\n",
              "      gap: 12px;\n",
              "    }\n",
              "\n",
              "    .colab-df-convert {\n",
              "      background-color: #E8F0FE;\n",
              "      border: none;\n",
              "      border-radius: 50%;\n",
              "      cursor: pointer;\n",
              "      display: none;\n",
              "      fill: #1967D2;\n",
              "      height: 32px;\n",
              "      padding: 0 0 0 0;\n",
              "      width: 32px;\n",
              "    }\n",
              "\n",
              "    .colab-df-convert:hover {\n",
              "      background-color: #E2EBFA;\n",
              "      box-shadow: 0px 1px 2px rgba(60, 64, 67, 0.3), 0px 1px 3px 1px rgba(60, 64, 67, 0.15);\n",
              "      fill: #174EA6;\n",
              "    }\n",
              "\n",
              "    .colab-df-buttons div {\n",
              "      margin-bottom: 4px;\n",
              "    }\n",
              "\n",
              "    [theme=dark] .colab-df-convert {\n",
              "      background-color: #3B4455;\n",
              "      fill: #D2E3FC;\n",
              "    }\n",
              "\n",
              "    [theme=dark] .colab-df-convert:hover {\n",
              "      background-color: #434B5C;\n",
              "      box-shadow: 0px 1px 3px 1px rgba(0, 0, 0, 0.15);\n",
              "      filter: drop-shadow(0px 1px 2px rgba(0, 0, 0, 0.3));\n",
              "      fill: #FFFFFF;\n",
              "    }\n",
              "  </style>\n",
              "\n",
              "    <script>\n",
              "      const buttonEl =\n",
              "        document.querySelector('#df-ef581996-0f97-412c-9911-7638d2b029ea button.colab-df-convert');\n",
              "      buttonEl.style.display =\n",
              "        google.colab.kernel.accessAllowed ? 'block' : 'none';\n",
              "\n",
              "      async function convertToInteractive(key) {\n",
              "        const element = document.querySelector('#df-ef581996-0f97-412c-9911-7638d2b029ea');\n",
              "        const dataTable =\n",
              "          await google.colab.kernel.invokeFunction('convertToInteractive',\n",
              "                                                    [key], {});\n",
              "        if (!dataTable) return;\n",
              "\n",
              "        const docLinkHtml = 'Like what you see? Visit the ' +\n",
              "          '<a target=\"_blank\" href=https://colab.research.google.com/notebooks/data_table.ipynb>data table notebook</a>'\n",
              "          + ' to learn more about interactive tables.';\n",
              "        element.innerHTML = '';\n",
              "        dataTable['output_type'] = 'display_data';\n",
              "        await google.colab.output.renderOutput(dataTable, element);\n",
              "        const docLink = document.createElement('div');\n",
              "        docLink.innerHTML = docLinkHtml;\n",
              "        element.appendChild(docLink);\n",
              "      }\n",
              "    </script>\n",
              "  </div>\n",
              "\n",
              "\n",
              "<div id=\"df-b2247fc0-ddc6-4fba-89c6-8df09316eb5c\">\n",
              "  <button class=\"colab-df-quickchart\" onclick=\"quickchart('df-b2247fc0-ddc6-4fba-89c6-8df09316eb5c')\"\n",
              "            title=\"Suggest charts\"\n",
              "            style=\"display:none;\">\n",
              "\n",
              "<svg xmlns=\"http://www.w3.org/2000/svg\" height=\"24px\"viewBox=\"0 0 24 24\"\n",
              "     width=\"24px\">\n",
              "    <g>\n",
              "        <path d=\"M19 3H5c-1.1 0-2 .9-2 2v14c0 1.1.9 2 2 2h14c1.1 0 2-.9 2-2V5c0-1.1-.9-2-2-2zM9 17H7v-7h2v7zm4 0h-2V7h2v10zm4 0h-2v-4h2v4z\"/>\n",
              "    </g>\n",
              "</svg>\n",
              "  </button>\n",
              "\n",
              "<style>\n",
              "  .colab-df-quickchart {\n",
              "      --bg-color: #E8F0FE;\n",
              "      --fill-color: #1967D2;\n",
              "      --hover-bg-color: #E2EBFA;\n",
              "      --hover-fill-color: #174EA6;\n",
              "      --disabled-fill-color: #AAA;\n",
              "      --disabled-bg-color: #DDD;\n",
              "  }\n",
              "\n",
              "  [theme=dark] .colab-df-quickchart {\n",
              "      --bg-color: #3B4455;\n",
              "      --fill-color: #D2E3FC;\n",
              "      --hover-bg-color: #434B5C;\n",
              "      --hover-fill-color: #FFFFFF;\n",
              "      --disabled-bg-color: #3B4455;\n",
              "      --disabled-fill-color: #666;\n",
              "  }\n",
              "\n",
              "  .colab-df-quickchart {\n",
              "    background-color: var(--bg-color);\n",
              "    border: none;\n",
              "    border-radius: 50%;\n",
              "    cursor: pointer;\n",
              "    display: none;\n",
              "    fill: var(--fill-color);\n",
              "    height: 32px;\n",
              "    padding: 0;\n",
              "    width: 32px;\n",
              "  }\n",
              "\n",
              "  .colab-df-quickchart:hover {\n",
              "    background-color: var(--hover-bg-color);\n",
              "    box-shadow: 0 1px 2px rgba(60, 64, 67, 0.3), 0 1px 3px 1px rgba(60, 64, 67, 0.15);\n",
              "    fill: var(--button-hover-fill-color);\n",
              "  }\n",
              "\n",
              "  .colab-df-quickchart-complete:disabled,\n",
              "  .colab-df-quickchart-complete:disabled:hover {\n",
              "    background-color: var(--disabled-bg-color);\n",
              "    fill: var(--disabled-fill-color);\n",
              "    box-shadow: none;\n",
              "  }\n",
              "\n",
              "  .colab-df-spinner {\n",
              "    border: 2px solid var(--fill-color);\n",
              "    border-color: transparent;\n",
              "    border-bottom-color: var(--fill-color);\n",
              "    animation:\n",
              "      spin 1s steps(1) infinite;\n",
              "  }\n",
              "\n",
              "  @keyframes spin {\n",
              "    0% {\n",
              "      border-color: transparent;\n",
              "      border-bottom-color: var(--fill-color);\n",
              "      border-left-color: var(--fill-color);\n",
              "    }\n",
              "    20% {\n",
              "      border-color: transparent;\n",
              "      border-left-color: var(--fill-color);\n",
              "      border-top-color: var(--fill-color);\n",
              "    }\n",
              "    30% {\n",
              "      border-color: transparent;\n",
              "      border-left-color: var(--fill-color);\n",
              "      border-top-color: var(--fill-color);\n",
              "      border-right-color: var(--fill-color);\n",
              "    }\n",
              "    40% {\n",
              "      border-color: transparent;\n",
              "      border-right-color: var(--fill-color);\n",
              "      border-top-color: var(--fill-color);\n",
              "    }\n",
              "    60% {\n",
              "      border-color: transparent;\n",
              "      border-right-color: var(--fill-color);\n",
              "    }\n",
              "    80% {\n",
              "      border-color: transparent;\n",
              "      border-right-color: var(--fill-color);\n",
              "      border-bottom-color: var(--fill-color);\n",
              "    }\n",
              "    90% {\n",
              "      border-color: transparent;\n",
              "      border-bottom-color: var(--fill-color);\n",
              "    }\n",
              "  }\n",
              "</style>\n",
              "\n",
              "  <script>\n",
              "    async function quickchart(key) {\n",
              "      const quickchartButtonEl =\n",
              "        document.querySelector('#' + key + ' button');\n",
              "      quickchartButtonEl.disabled = true;  // To prevent multiple clicks.\n",
              "      quickchartButtonEl.classList.add('colab-df-spinner');\n",
              "      try {\n",
              "        const charts = await google.colab.kernel.invokeFunction(\n",
              "            'suggestCharts', [key], {});\n",
              "      } catch (error) {\n",
              "        console.error('Error during call to suggestCharts:', error);\n",
              "      }\n",
              "      quickchartButtonEl.classList.remove('colab-df-spinner');\n",
              "      quickchartButtonEl.classList.add('colab-df-quickchart-complete');\n",
              "    }\n",
              "    (() => {\n",
              "      let quickchartButtonEl =\n",
              "        document.querySelector('#df-b2247fc0-ddc6-4fba-89c6-8df09316eb5c button');\n",
              "      quickchartButtonEl.style.display =\n",
              "        google.colab.kernel.accessAllowed ? 'block' : 'none';\n",
              "    })();\n",
              "  </script>\n",
              "</div>\n",
              "\n",
              "    </div>\n",
              "  </div>\n"
            ]
          },
          "metadata": {},
          "execution_count": 31
        }
      ]
    },
    {
      "cell_type": "code",
      "source": [
        "sentences = forward_transformation(dataset)\n",
        "train_sentences = sentences[:train_num_sents]\n",
        "test_sentences = sentences[train_num_sents:]"
      ],
      "metadata": {
        "id": "sJKGA-25kMp9"
      },
      "execution_count": 34,
      "outputs": []
    },
    {
      "cell_type": "code",
      "source": [
        "words, start_end, binary, prob = split_sentence_sequences(sentences)"
      ],
      "metadata": {
        "id": "NHGMPxdGkSrF"
      },
      "execution_count": 35,
      "outputs": []
    },
    {
      "cell_type": "code",
      "source": [
        "sentence_lens = [len(sent) for sent in words]"
      ],
      "metadata": {
        "id": "wXCzqs4SkUL7"
      },
      "execution_count": 36,
      "outputs": []
    },
    {
      "cell_type": "code",
      "source": [
        "print(\"The dimensions of embedding vectors are:\")\n",
        "embedding_model = glove_models[0].model\n",
        "dimension = embedding_model.vector_size\n",
        "word2index, index2word, embedding = create_vocabulary(sentences, embedding_model, dimension)"
      ],
      "metadata": {
        "colab": {
          "base_uri": "https://localhost:8080/"
        },
        "id": "RhoEFYbqkVvK",
        "outputId": "167969ad-31f2-4838-eb58-af1fd1f5b2de"
      },
      "execution_count": 37,
      "outputs": [
        {
          "output_type": "stream",
          "name": "stdout",
          "text": [
            "The dimensions of embedding vectors are:\n",
            "# Words : 96437\n",
            "# Vocab : 52455\n",
            "# embeding model  : 400000\n",
            "# Words missing embedding : 0\n",
            "Embedding shape : (52455, 300)\n",
            "i:  9834\n"
          ]
        }
      ]
    },
    {
      "cell_type": "code",
      "source": [
        "glove_models[0].model"
      ],
      "metadata": {
        "colab": {
          "base_uri": "https://localhost:8080/"
        },
        "id": "SjDRhO6mIoXH",
        "outputId": "9067630e-fe94-45a1-8a2b-09b4dc6e7dfa"
      },
      "execution_count": 38,
      "outputs": [
        {
          "output_type": "execute_result",
          "data": {
            "text/plain": [
              "<gensim.models.keyedvectors.KeyedVectors at 0x7b5d9d2a68c0>"
            ]
          },
          "metadata": {},
          "execution_count": 38
        }
      ]
    },
    {
      "cell_type": "markdown",
      "source": [
        "### Padding input sequences and getting the binary labels"
      ],
      "metadata": {
        "id": "1XCb-simlUOq"
      }
    },
    {
      "cell_type": "code",
      "source": [
        "words_with_indices = [[word2index[word] for word in sent] for sent in words]\n",
        "sent_lens = [len(sentence['seq']) for sentence in sentences]\n",
        "sent_max_length = np.max(sent_lens)\n",
        "print('Max length sentence : {}'.format(sent_max_length))\n",
        "\n",
        "from keras.preprocessing.sequence import pad_sequences\n",
        "from keras.utils import to_categorical\n",
        "\n",
        "words_padded = pad_sequences(maxlen=sent_max_length, sequences=words_with_indices, padding=\"post\", value=0)\n",
        "binary_padded = pad_sequences(maxlen=sent_max_length, sequences=binary, padding=\"post\", value=0)\n",
        "prob_padded = pad_sequences(maxlen=sent_max_length, sequences=prob, padding=\"post\", value=0, dtype=\"float\")\n",
        "\n",
        "binary_padded_categorical = [to_categorical(clazz, num_classes=2) for clazz in binary_padded]"
      ],
      "metadata": {
        "colab": {
          "base_uri": "https://localhost:8080/"
        },
        "id": "scomDjCGkZAz",
        "outputId": "5c6d87cb-e4f2-4809-bceb-80e23a660168"
      },
      "execution_count": 39,
      "outputs": [
        {
          "output_type": "stream",
          "name": "stdout",
          "text": [
            "Max length sentence : 103\n"
          ]
        }
      ]
    },
    {
      "cell_type": "markdown",
      "source": [
        "### Train-Test split"
      ],
      "metadata": {
        "id": "nfG14dEFlXob"
      }
    },
    {
      "cell_type": "code",
      "source": [
        "#Training set\n",
        "train_words_padded = words_padded[:train_num_sents]\n",
        "train_binary_padded = binary_padded[:train_num_sents]\n",
        "train_binary_padded_categorical = binary_padded_categorical[:train_num_sents]\n",
        "train_prob_padded = prob_padded[:train_num_sents]\n",
        "train_start_end = start_end[:train_num_sents]\n",
        "\n",
        "#Test set\n",
        "test_words_padded = words_padded[train_num_sents:]\n",
        "test_binary_padded = binary_padded[train_num_sents:]\n",
        "test_binary_padded_categorical = binary_padded_categorical[train_num_sents:]\n",
        "test_prob_padded = prob_padded[train_num_sents:]\n",
        "test_start_end = start_end[train_num_sents:]\n",
        "\n",
        "print('Training set length : {}'.format(len(train_words_padded)))\n",
        "print('Test set length : {}'.format(len(test_words_padded)))"
      ],
      "metadata": {
        "colab": {
          "base_uri": "https://localhost:8080/"
        },
        "id": "pjAOaXB3lRz7",
        "outputId": "34372d1d-f733-4e4a-c5f6-b089d1044c59"
      },
      "execution_count": 40,
      "outputs": [
        {
          "output_type": "stream",
          "name": "stdout",
          "text": [
            "Training set length : 1988\n",
            "Test set length : 53\n"
          ]
        }
      ]
    },
    {
      "cell_type": "markdown",
      "source": [
        "### Keras callback to perform model validation during training using f1_score."
      ],
      "metadata": {
        "id": "_50wcTgulhxk"
      }
    },
    {
      "cell_type": "code",
      "source": [
        "from sklearn.metrics import f1_score\n",
        "import keras.callbacks\n",
        "from keras import backend as K\n",
        "class Metrics(keras.callbacks.Callback):\n",
        "    def __init__(self, validation_data):\n",
        "        self.f1_scores = []\n",
        "        self.validation_data = validation_data\n",
        "\n",
        "    def on_epoch_end(self, batch, logs={}):\n",
        "        predict = np.asarray(self.model.predict(self.validation_data[0]))\n",
        "        targ = self.validation_data[1]\n",
        "        targ = np.array(targ)\n",
        "        shape = targ.shape\n",
        "        targ = targ.reshape((shape[0]*shape[1], shape[2]))\n",
        "        targ = np.argmax(targ, axis = 1)\n",
        "        predict = predict.reshape((shape[0]*shape[1]), shape[2])\n",
        "        predict = np.argmax(predict, axis = 1)\n",
        "        self.f1s=f1_score(targ, predict)\n",
        "        print(\"\\nF1 Score:\")\n",
        "        print(f1_score(targ, np.ones(shape[0]*shape[1])))\n",
        "        self.f1_scores.append(self.f1s)\n",
        "        return"
      ],
      "metadata": {
        "id": "dklmTW5DlZl2"
      },
      "execution_count": 41,
      "outputs": []
    },
    {
      "cell_type": "markdown",
      "source": [
        "### Model for complex word identification"
      ],
      "metadata": {
        "id": "90vIJ8U0lnXV"
      }
    },
    {
      "cell_type": "code",
      "source": [
        "from keras.models import Model\n",
        "from keras import backend as K\n",
        "from keras.layers import LSTM, Embedding, Dense, TimeDistributed, Dropout, Bidirectional, Input\n",
        "\n",
        "vocab_size = embedding.shape[0]\n",
        "dimension = embedding.shape[1]\n",
        "\n",
        "np.set_printoptions(threshold=np.inf)\n",
        "\n",
        "in_seq = Input(shape=(sent_max_length,))\n",
        "embed = Embedding(input_dim=vocab_size, output_dim=dimension, \\\n",
        "                  weights=[embedding], input_length=sent_max_length)(in_seq)\n",
        "drop = Dropout(0.1)(embed)\n",
        "lstm = Bidirectional(LSTM(units=150, return_sequences=True, recurrent_dropout=0.1))(drop)\n",
        "out = TimeDistributed(Dense(2, activation=\"softmax\"))(lstm)\n",
        "\n",
        "model = Model(in_seq, out)\n",
        "\n",
        "model.compile(optimizer=\"adam\", loss='categorical_crossentropy', metrics=[\"accuracy\"])\n",
        "model.summary()\n",
        "\n",
        "metrics = Metrics((test_words_padded, np.array(test_binary_padded_categorical)))"
      ],
      "metadata": {
        "colab": {
          "base_uri": "https://localhost:8080/"
        },
        "id": "xSMdgMLWlkav",
        "outputId": "3934cd42-42b5-44ae-ea50-bc0ef4bb74e8"
      },
      "execution_count": 42,
      "outputs": [
        {
          "output_type": "stream",
          "name": "stdout",
          "text": [
            "Model: \"model\"\n",
            "_________________________________________________________________\n",
            " Layer (type)                Output Shape              Param #   \n",
            "=================================================================\n",
            " input_1 (InputLayer)        [(None, 103)]             0         \n",
            "                                                                 \n",
            " embedding (Embedding)       (None, 103, 300)          15736500  \n",
            "                                                                 \n",
            " dropout (Dropout)           (None, 103, 300)          0         \n",
            "                                                                 \n",
            " bidirectional (Bidirection  (None, 103, 300)          541200    \n",
            " al)                                                             \n",
            "                                                                 \n",
            " time_distributed (TimeDist  (None, 103, 2)            602       \n",
            " ributed)                                                        \n",
            "                                                                 \n",
            "=================================================================\n",
            "Total params: 16278302 (62.10 MB)\n",
            "Trainable params: 16278302 (62.10 MB)\n",
            "Non-trainable params: 0 (0.00 Byte)\n",
            "_________________________________________________________________\n"
          ]
        }
      ]
    },
    {
      "cell_type": "code",
      "source": [
        "history = model.fit(train_words_padded, np.array(train_binary_padded_categorical), batch_size=10,\n",
        "                    epochs=5, validation_data = (test_words_padded, np.array(test_binary_padded_categorical)),\n",
        "                    verbose=1, callbacks=[metrics])"
      ],
      "metadata": {
        "colab": {
          "base_uri": "https://localhost:8080/"
        },
        "id": "p_xpNT0QlwmO",
        "outputId": "eb07aaa3-e31b-45be-e363-317210eb5332"
      },
      "execution_count": null,
      "outputs": [
        {
          "output_type": "stream",
          "name": "stdout",
          "text": [
            "Epoch 1/5\n",
            "2/2 [==============================] - 1s 105ms/step\n",
            "\n",
            "F1 Score:\n",
            "0.05660377358490566\n",
            "199/199 [==============================] - 232s 1s/step - loss: 0.0867 - accuracy: 0.9673 - val_loss: 0.0448 - val_accuracy: 0.9793\n",
            "Epoch 2/5\n",
            "2/2 [==============================] - 0s 122ms/step\n",
            "\n",
            "F1 Score:\n",
            "0.05660377358490566\n",
            "199/199 [==============================] - 199s 1s/step - loss: 0.0406 - accuracy: 0.9827 - val_loss: 0.0429 - val_accuracy: 0.9808\n",
            "Epoch 3/5\n",
            "2/2 [==============================] - 1s 292ms/step\n",
            "\n",
            "F1 Score:\n",
            "0.05660377358490566\n",
            "199/199 [==============================] - 240s 1s/step - loss: 0.0306 - accuracy: 0.9872 - val_loss: 0.0440 - val_accuracy: 0.9815\n",
            "Epoch 4/5\n",
            "2/2 [==============================] - 0s 106ms/step\n",
            "\n",
            "F1 Score:\n",
            "0.05660377358490566\n",
            "199/199 [==============================] - 295s 1s/step - loss: 0.0251 - accuracy: 0.9895 - val_loss: 0.0460 - val_accuracy: 0.9809\n",
            "Epoch 5/5\n",
            "2/2 [==============================] - 0s 110ms/step\n",
            "\n",
            "F1 Score:\n",
            "0.05660377358490566\n",
            "199/199 [==============================] - 201s 1s/step - loss: 0.0211 - accuracy: 0.9911 - val_loss: 0.0489 - val_accuracy: 0.9811\n"
          ]
        }
      ]
    },
    {
      "cell_type": "code",
      "source": [
        "#Plotting the loss\n",
        "import matplotlib.pyplot as plt\n",
        "epochs = range(1, 6)\n",
        "\n",
        "plt.plot(epochs, history.history['loss'], color='red', label='training loss')\n",
        "plt.plot(epochs, history.history['val_loss'], color='black', label='validation loss')\n",
        "plt.title('Training and Validation Loss for CWI model')\n",
        "plt.ylabel(\"Loss\")\n",
        "plt.xlabel(\"Epochs\")\n",
        "plt.legend()\n",
        "plt.show()"
      ],
      "metadata": {
        "id": "rDKaBkpnkMs6",
        "colab": {
          "base_uri": "https://localhost:8080/",
          "height": 472
        },
        "outputId": "6de67d0e-1681-435d-a05a-7965f56fdbef"
      },
      "execution_count": null,
      "outputs": [
        {
          "output_type": "display_data",
          "data": {
            "text/plain": [
              "<Figure size 640x480 with 1 Axes>"
            ],
            "image/png": "[encoded data removed]"
          },
          "metadata": {}
        }
      ]
    },
    {
      "cell_type": "code",
      "source": [
        "#Saving the trained model\n",
        "model_name = 'cwi_trained.h5'\n",
        "path = f'/content/drive/MyDrive/NLP_Project/{model_name}'"
      ],
      "metadata": {
        "id": "eIWrH47nJysz"
      },
      "execution_count": 43,
      "outputs": []
    },
    {
      "cell_type": "code",
      "source": [
        "from keras.models import load_model\n",
        "\n",
        "model.save(path)"
      ],
      "metadata": {
        "colab": {
          "base_uri": "https://localhost:8080/"
        },
        "id": "MVjQRTwsLwDC",
        "outputId": "ef3bdccb-6359-4002-b59a-654fd256618e"
      },
      "execution_count": null,
      "outputs": [
        {
          "output_type": "stream",
          "name": "stderr",
          "text": [
            "/usr/local/lib/python3.10/dist-packages/keras/src/engine/training.py:3079: UserWarning: You are saving your model as an HDF5 file via `model.save()`. This file format is considered legacy. We recommend using instead the native Keras format, e.g. `model.save('my_model.keras')`.\n",
            "  saving_api.save_model(\n"
          ]
        }
      ]
    },
    {
      "cell_type": "code",
      "source": [
        "#Loading the trained model\n",
        "from keras.models import load_model\n",
        "\n",
        "model_cwi = load_model(path)"
      ],
      "metadata": {
        "id": "VuwAFM0fL1CJ"
      },
      "execution_count": 44,
      "outputs": []
    },
    {
      "cell_type": "markdown",
      "source": [
        "**Helper functions for data cleaning**"
      ],
      "metadata": {
        "id": "ntwDh8_YMMV6"
      }
    },
    {
      "cell_type": "code",
      "source": [
        "stop_words_ = set(stopwords.words('english'))\n",
        "def cleaner(word):\n",
        "  #Remove links\n",
        "  word = re.sub(r'((http|https)\\:\\/\\/)?[a-zA-Z0-9\\.\\/\\?\\:@\\-_=#]+\\.([a-zA-Z]){2,6}([a-zA-Z0-9\\.\\&\\/\\?\\:@\\-_=#])*',\n",
        "                '', word, flags=re.MULTILINE)\n",
        "  word = re.sub('[\\W]', ' ', word)\n",
        "  word = re.sub('[^a-zA-Z]', ' ', word)\n",
        "  return word.lower().strip()\n",
        "\n",
        "def process_input(input_text):\n",
        "  input_text = cleaner(input_text)\n",
        "  clean_text = []\n",
        "  index_list =[]\n",
        "  input_token = []\n",
        "  index_list_zipf = []\n",
        "  for i, word in enumerate(input_text.split()):\n",
        "    if word in word2index:\n",
        "      clean_text.append(word)\n",
        "      input_token.append(word2index[word])\n",
        "    else:\n",
        "      index_list.append(i)\n",
        "  input_padded = pad_sequences(maxlen=sent_max_length, sequences=[input_token], padding=\"post\", value=0)\n",
        "  return input_padded, index_list, len(clean_text)\n",
        "\n",
        "def complete_missing_word(pred_binary, index_list, len_list):\n",
        "  list_cwi_predictions = list(pred_binary[0][:len_list])\n",
        "  for i in index_list:\n",
        "    list_cwi_predictions.insert(i, 0)\n",
        "  return list_cwi_predictions"
      ],
      "metadata": {
        "id": "Py_ZjsooMOgR"
      },
      "execution_count": 45,
      "outputs": []
    },
    {
      "cell_type": "markdown",
      "source": [
        "## 2. Generate candidates (simpler words for these complex words)\n",
        "\n",
        "**Using BERT for now**"
      ],
      "metadata": {
        "id": "X367K7pMWeeE"
      }
    },
    {
      "cell_type": "code",
      "source": [
        "!pip install transformers\n",
        "!pip install torch"
      ],
      "metadata": {
        "id": "qmX11rO4WifT",
        "colab": {
          "base_uri": "https://localhost:8080/"
        },
        "outputId": "109ca8c3-a08c-437b-b8c6-704b019ad709"
      },
      "execution_count": 46,
      "outputs": [
        {
          "output_type": "stream",
          "name": "stdout",
          "text": [
            "Requirement already satisfied: transformers in /usr/local/lib/python3.10/dist-packages (4.35.2)\n",
            "Requirement already satisfied: filelock in /usr/local/lib/python3.10/dist-packages (from transformers) (3.13.1)\n",
            "Requirement already satisfied: huggingface-hub<1.0,>=0.16.4 in /usr/local/lib/python3.10/dist-packages (from transformers) (0.19.4)\n",
            "Requirement already satisfied: numpy>=1.17 in /usr/local/lib/python3.10/dist-packages (from transformers) (1.23.5)\n",
            "Requirement already satisfied: packaging>=20.0 in /usr/local/lib/python3.10/dist-packages (from transformers) (23.2)\n",
            "Requirement already satisfied: pyyaml>=5.1 in /usr/local/lib/python3.10/dist-packages (from transformers) (6.0.1)\n",
            "Requirement already satisfied: regex!=2019.12.17 in /usr/local/lib/python3.10/dist-packages (from transformers) (2023.6.3)\n",
            "Requirement already satisfied: requests in /usr/local/lib/python3.10/dist-packages (from transformers) (2.31.0)\n",
            "Requirement already satisfied: tokenizers<0.19,>=0.14 in /usr/local/lib/python3.10/dist-packages (from transformers) (0.15.0)\n",
            "Requirement already satisfied: safetensors>=0.3.1 in /usr/local/lib/python3.10/dist-packages (from transformers) (0.4.1)\n",
            "Requirement already satisfied: tqdm>=4.27 in /usr/local/lib/python3.10/dist-packages (from transformers) (4.66.1)\n",
            "Requirement already satisfied: fsspec>=2023.5.0 in /usr/local/lib/python3.10/dist-packages (from huggingface-hub<1.0,>=0.16.4->transformers) (2023.6.0)\n",
            "Requirement already satisfied: typing-extensions>=3.7.4.3 in /usr/local/lib/python3.10/dist-packages (from huggingface-hub<1.0,>=0.16.4->transformers) (4.5.0)\n",
            "Requirement already satisfied: charset-normalizer<4,>=2 in /usr/local/lib/python3.10/dist-packages (from requests->transformers) (3.3.2)\n",
            "Requirement already satisfied: idna<4,>=2.5 in /usr/local/lib/python3.10/dist-packages (from requests->transformers) (3.6)\n",
            "Requirement already satisfied: urllib3<3,>=1.21.1 in /usr/local/lib/python3.10/dist-packages (from requests->transformers) (2.0.7)\n",
            "Requirement already satisfied: certifi>=2017.4.17 in /usr/local/lib/python3.10/dist-packages (from requests->transformers) (2023.11.17)\n",
            "Requirement already satisfied: torch in /usr/local/lib/python3.10/dist-packages (2.1.0+cu118)\n",
            "Requirement already satisfied: filelock in /usr/local/lib/python3.10/dist-packages (from torch) (3.13.1)\n",
            "Requirement already satisfied: typing-extensions in /usr/local/lib/python3.10/dist-packages (from torch) (4.5.0)\n",
            "Requirement already satisfied: sympy in /usr/local/lib/python3.10/dist-packages (from torch) (1.12)\n",
            "Requirement already satisfied: networkx in /usr/local/lib/python3.10/dist-packages (from torch) (3.2.1)\n",
            "Requirement already satisfied: jinja2 in /usr/local/lib/python3.10/dist-packages (from torch) (3.1.2)\n",
            "Requirement already satisfied: fsspec in /usr/local/lib/python3.10/dist-packages (from torch) (2023.6.0)\n",
            "Requirement already satisfied: triton==2.1.0 in /usr/local/lib/python3.10/dist-packages (from torch) (2.1.0)\n",
            "Requirement already satisfied: MarkupSafe>=2.0 in /usr/local/lib/python3.10/dist-packages (from jinja2->torch) (2.1.3)\n",
            "Requirement already satisfied: mpmath>=0.19 in /usr/local/lib/python3.10/dist-packages (from sympy->torch) (1.3.0)\n"
          ]
        }
      ]
    },
    {
      "cell_type": "code",
      "source": [
        "import torch\n",
        "from transformers import BertTokenizer, BertModel, BertForMaskedLM\n",
        "\n",
        "bert_model = 'bert-large-uncased'\n",
        "tokenizer = BertTokenizer.from_pretrained(bert_model)\n",
        "model = BertForMaskedLM.from_pretrained(bert_model)\n",
        "model.eval()"
      ],
      "metadata": {
        "colab": {
          "base_uri": "https://localhost:8080/",
          "height": 1000,
          "referenced_widgets": [
            "9c8e1da383314179b574ee609c6212eb",
            "20b79ca2691d4617b731161f42147665",
            "dfa397943f764151ae5d06a4453737fd",
            "cb95a14df2ab47049d17b334d0f6a462",
            "7b72b74562af4f16bd59b1ffba4b5113",
            "b408630d55494508b566f0fbc85f8507",
            "e8d7993a11be4f40a4d9cd672a14f5ba",
            "c4ec282d0c8346c699573cefb08a8ef1",
            "8a811a572aed47879fe74044028871f6",
            "cb2feffd227a4b1d845f48a503b30098",
            "99fb54d01cfa483ea91fa33ba10d4b71",
            "ca4c80b94c7143ec9512fa879a14cad2",
            "77acda22d7e14256abf7b34763f944a0",
            "58f08769440d4d2d8e13055355b8b83c",
            "cee4ead31b3c46eaa62379ffaf3be00d",
            "53e5de3950f1485a9ac7bc390bf437aa",
            "1024cd05bdcc4015947a29c35d6c199e",
            "7f6ac5874a4d46ba846eb19314ff5d4e",
            "fde4f6c064e64d66bd292ec989f035af",
            "0a4a2c25b2f64b479afc8faa8fd674a3",
            "b62fc0b3b1024315b721df1f260bc620",
            "ecd42ea07c4a416f8f461ca6c2be0b47",
            "fe8e2be050874a07836645fa792aedf2",
            "f692a3a555c747769caffdd59e62af40",
            "1d3238ec98c5467ba4997f3fd35cf59c",
            "759de13deb134255a06b2b7f93f2fb05",
            "d6974059c9eb4068950b8a2cfae686a2",
            "253cbc60d2bd41978c707e924e80bdfc",
            "cf5b979f3e3c4ab5a787b5dcd55eba55",
            "266be88655824212bba92d13914ff2d1",
            "66f53d18797f44df8943da026d509950",
            "d31f3f1db1fb4813be792bde7410a1c9",
            "2b03c2754962466ab26dde51dba3e11b",
            "37a1096fa2b44ee98787280da96bdab7",
            "0454234aabd741a9a339b0dfbf14fbcc",
            "9e8618cf24044cf6bc2737204f3715b8",
            "331068e6434c410784f83ee67a011301",
            "58553d5d45a4434495e9be0e6b42b088",
            "1d6658c51138461e897c9a005cb6b440",
            "724e048270eb4820b94cf0294e37667e",
            "19cf9e6829394994afabb9270d35fcf5",
            "68304cb90dd440f4bf8158d97d285e36",
            "47357bcaa82d4c53843ea327abc5b93f",
            "3e0152f523b340cb9eb039846b74884e",
            "0bfb892117264b97ab91ead350d220b7",
            "06edf260cd714a9485d4f45325b1e8ae",
            "c6491a81cc3241d7862858089b65d9f2",
            "45ecef053aee465f8870e8d1e8c894c3",
            "476f5912a924483f9def0a29637ed15f",
            "5f60304372bc459ead0e41f70da5aa81",
            "8d858b2beb5341c8894a7de9d1699167",
            "335596042f154373a8655f87eeb99a2d",
            "1676b0145a994501acb30dbc3887be88",
            "4e495c82d8a84d18b132c573fc3efa20",
            "2efea058b66747ab8151d9a64730d752"
          ]
        },
        "id": "mBHCTkeCMWfz",
        "outputId": "5c4239b1-870e-4f59-89d8-e2d8f850a982"
      },
      "execution_count": 47,
      "outputs": [
        {
          "output_type": "display_data",
          "data": {
            "text/plain": [
              "tokenizer_config.json:   0%|          | 0.00/28.0 [00:00<?, ?B/s]"
            ],
            "application/vnd.jupyter.widget-view+json": {
              "version_major": 2,
              "version_minor": 0,
              "model_id": "9c8e1da383314179b574ee609c6212eb"
            }
          },
          "metadata": {}
        },
        {
          "output_type": "display_data",
          "data": {
            "text/plain": [
              "vocab.txt:   0%|          | 0.00/232k [00:00<?, ?B/s]"
            ],
            "application/vnd.jupyter.widget-view+json": {
              "version_major": 2,
              "version_minor": 0,
              "model_id": "ca4c80b94c7143ec9512fa879a14cad2"
            }
          },
          "metadata": {}
        },
        {
          "output_type": "display_data",
          "data": {
            "text/plain": [
              "tokenizer.json:   0%|          | 0.00/466k [00:00<?, ?B/s]"
            ],
            "application/vnd.jupyter.widget-view+json": {
              "version_major": 2,
              "version_minor": 0,
              "model_id": "fe8e2be050874a07836645fa792aedf2"
            }
          },
          "metadata": {}
        },
        {
          "output_type": "display_data",
          "data": {
            "text/plain": [
              "config.json:   0%|          | 0.00/571 [00:00<?, ?B/s]"
            ],
            "application/vnd.jupyter.widget-view+json": {
              "version_major": 2,
              "version_minor": 0,
              "model_id": "37a1096fa2b44ee98787280da96bdab7"
            }
          },
          "metadata": {}
        },
        {
          "output_type": "display_data",
          "data": {
            "text/plain": [
              "model.safetensors:   0%|          | 0.00/1.34G [00:00<?, ?B/s]"
            ],
            "application/vnd.jupyter.widget-view+json": {
              "version_major": 2,
              "version_minor": 0,
              "model_id": "0bfb892117264b97ab91ead350d220b7"
            }
          },
          "metadata": {}
        },
        {
          "output_type": "stream",
          "name": "stderr",
          "text": [
            "Some weights of the model checkpoint at bert-large-uncased were not used when initializing BertForMaskedLM: ['bert.pooler.dense.bias', 'cls.seq_relationship.weight', 'bert.pooler.dense.weight', 'cls.seq_relationship.bias']\n",
            "- This IS expected if you are initializing BertForMaskedLM from the checkpoint of a model trained on another task or with another architecture (e.g. initializing a BertForSequenceClassification model from a BertForPreTraining model).\n",
            "- This IS NOT expected if you are initializing BertForMaskedLM from the checkpoint of a model that you expect to be exactly identical (initializing a BertForSequenceClassification model from a BertForSequenceClassification model).\n"
          ]
        },
        {
          "output_type": "execute_result",
          "data": {
            "text/plain": [
              "BertForMaskedLM(\n",
              "  (bert): BertModel(\n",
              "    (embeddings): BertEmbeddings(\n",
              "      (word_embeddings): Embedding(30522, 1024, padding_idx=0)\n",
              "      (position_embeddings): Embedding(512, 1024)\n",
              "      (token_type_embeddings): Embedding(2, 1024)\n",
              "      (LayerNorm): LayerNorm((1024,), eps=1e-12, elementwise_affine=True)\n",
              "      (dropout): Dropout(p=0.1, inplace=False)\n",
              "    )\n",
              "    (encoder): BertEncoder(\n",
              "      (layer): ModuleList(\n",
              "        (0-23): 24 x BertLayer(\n",
              "          (attention): BertAttention(\n",
              "            (self): BertSelfAttention(\n",
              "              (query): Linear(in_features=1024, out_features=1024, bias=True)\n",
              "              (key): Linear(in_features=1024, out_features=1024, bias=True)\n",
              "              (value): Linear(in_features=1024, out_features=1024, bias=True)\n",
              "              (dropout): Dropout(p=0.1, inplace=False)\n",
              "            )\n",
              "            (output): BertSelfOutput(\n",
              "              (dense): Linear(in_features=1024, out_features=1024, bias=True)\n",
              "              (LayerNorm): LayerNorm((1024,), eps=1e-12, elementwise_affine=True)\n",
              "              (dropout): Dropout(p=0.1, inplace=False)\n",
              "            )\n",
              "          )\n",
              "          (intermediate): BertIntermediate(\n",
              "            (dense): Linear(in_features=1024, out_features=4096, bias=True)\n",
              "            (intermediate_act_fn): GELUActivation()\n",
              "          )\n",
              "          (output): BertOutput(\n",
              "            (dense): Linear(in_features=4096, out_features=1024, bias=True)\n",
              "            (LayerNorm): LayerNorm((1024,), eps=1e-12, elementwise_affine=True)\n",
              "            (dropout): Dropout(p=0.1, inplace=False)\n",
              "          )\n",
              "        )\n",
              "      )\n",
              "    )\n",
              "  )\n",
              "  (cls): BertOnlyMLMHead(\n",
              "    (predictions): BertLMPredictionHead(\n",
              "      (transform): BertPredictionHeadTransform(\n",
              "        (dense): Linear(in_features=1024, out_features=1024, bias=True)\n",
              "        (transform_act_fn): GELUActivation()\n",
              "        (LayerNorm): LayerNorm((1024,), eps=1e-12, elementwise_affine=True)\n",
              "      )\n",
              "      (decoder): Linear(in_features=1024, out_features=30522, bias=True)\n",
              "    )\n",
              "  )\n",
              ")"
            ]
          },
          "metadata": {},
          "execution_count": 47
        }
      ]
    },
    {
      "cell_type": "code",
      "source": [
        "!pip install wordfreq"
      ],
      "metadata": {
        "colab": {
          "base_uri": "https://localhost:8080/",
          "height": 460
        },
        "id": "I1_vjS1nMWcK",
        "outputId": "9d358eab-969f-43cc-cd7b-c96eb1fb9c54"
      },
      "execution_count": 48,
      "outputs": [
        {
          "output_type": "stream",
          "name": "stdout",
          "text": [
            "Collecting wordfreq\n",
            "  Downloading wordfreq-3.1.1-py3-none-any.whl (56.8 MB)\n",
            "\u001b[2K     \u001b[90m━━━━━━━━━━━━━━━━━━━━━━━━━━━━━━━━━━━━━━━━\u001b[0m \u001b[32m56.8/56.8 MB\u001b[0m \u001b[31m11.6 MB/s\u001b[0m eta \u001b[36m0:00:00\u001b[0m\n",
            "\u001b[?25hCollecting ftfy>=6.1 (from wordfreq)\n",
            "  Downloading ftfy-6.1.3-py3-none-any.whl (53 kB)\n",
            "\u001b[2K     \u001b[90m━━━━━━━━━━━━━━━━━━━━━━━━━━━━━━━━━━━━━━━━\u001b[0m \u001b[32m53.4/53.4 kB\u001b[0m \u001b[31m6.4 MB/s\u001b[0m eta \u001b[36m0:00:00\u001b[0m\n",
            "\u001b[?25hRequirement already satisfied: langcodes>=3.0 in /usr/local/lib/python3.10/dist-packages (from wordfreq) (3.3.0)\n",
            "Collecting locate<2.0.0,>=1.1.1 (from wordfreq)\n",
            "  Downloading locate-1.1.1-py3-none-any.whl (5.4 kB)\n",
            "Requirement already satisfied: msgpack<2.0.0,>=1.0.7 in /usr/local/lib/python3.10/dist-packages (from wordfreq) (1.0.7)\n",
            "Collecting regex>=2023.10.3 (from wordfreq)\n",
            "  Downloading regex-2023.10.3-cp310-cp310-manylinux_2_17_x86_64.manylinux2014_x86_64.whl (773 kB)\n",
            "\u001b[2K     \u001b[90m━━━━━━━━━━━━━━━━━━━━━━━━━━━━━━━━━━━━━━━━\u001b[0m \u001b[32m773.9/773.9 kB\u001b[0m \u001b[31m32.8 MB/s\u001b[0m eta \u001b[36m0:00:00\u001b[0m\n",
            "\u001b[?25hRequirement already satisfied: wcwidth<0.3.0,>=0.2.12 in /usr/local/lib/python3.10/dist-packages (from ftfy>=6.1->wordfreq) (0.2.12)\n",
            "Installing collected packages: regex, locate, ftfy, wordfreq\n",
            "  Attempting uninstall: regex\n",
            "    Found existing installation: regex 2023.6.3\n",
            "    Uninstalling regex-2023.6.3:\n",
            "      Successfully uninstalled regex-2023.6.3\n",
            "Successfully installed ftfy-6.1.3 locate-1.1.1 regex-2023.10.3 wordfreq-3.1.1\n"
          ]
        },
        {
          "output_type": "display_data",
          "data": {
            "application/vnd.colab-display-data+json": {
              "pip_warning": {
                "packages": [
                  "regex"
                ]
              }
            }
          },
          "metadata": {}
        }
      ]
    },
    {
      "cell_type": "markdown",
      "source": [
        "## 3. Select the best candidates"
      ],
      "metadata": {
        "id": "kyxdNYIvWi9Y"
      }
    },
    {
      "cell_type": "code",
      "source": [
        "from wordfreq import zipf_frequency\n",
        "zipf_frequency('stop', 'en')"
      ],
      "metadata": {
        "colab": {
          "base_uri": "https://localhost:8080/"
        },
        "id": "QEdqyf3iMWZp",
        "outputId": "b3ec8ff7-2498-470d-f488-b7cfe974d57d"
      },
      "execution_count": 49,
      "outputs": [
        {
          "output_type": "execute_result",
          "data": {
            "text/plain": [
              "5.52"
            ]
          },
          "metadata": {},
          "execution_count": 49
        }
      ]
    },
    {
      "cell_type": "code",
      "source": [
        "from wordfreq import zipf_frequency\n",
        "zipf_frequency('compensation', 'en')"
      ],
      "metadata": {
        "colab": {
          "base_uri": "https://localhost:8080/"
        },
        "id": "Hqk4oISvMlcN",
        "outputId": "3416f8ca-874c-4509-b8a8-17f804d7ced9"
      },
      "execution_count": 50,
      "outputs": [
        {
          "output_type": "execute_result",
          "data": {
            "text/plain": [
              "4.33"
            ]
          },
          "metadata": {},
          "execution_count": 50
        }
      ]
    },
    {
      "cell_type": "markdown",
      "source": [
        "**Function to get the candidates using BERT**"
      ],
      "metadata": {
        "id": "w5TtJjozMoOz"
      }
    },
    {
      "cell_type": "code",
      "source": [
        "def get_bert_candidates(input_text, list_cwi_predictions, numb_predictions_displayed = 10):\n",
        "  list_candidates_bert = []\n",
        "  #iterating over the word and its corresponding cwi prediction\n",
        "  for word,pred  in zip(input_text.split(), list_cwi_predictions):\n",
        "    #checking if the word should be considered for replacement\n",
        "    if (pred and (pos_tag([word])[0][1] in ['NNS', 'NN', 'VBP', 'RB', 'VBG','VBD' ]))  or (zipf_frequency(word, 'en')) <3.1:\n",
        "\n",
        "      #if the word is chosen for replacement, then apply ['MASK'] to it.\n",
        "      replace_word_mask = input_text.replace(word, '[MASK]')\n",
        "\n",
        "      #creating input text for BERT\n",
        "      text = f'[CLS]{replace_word_mask} [SEP] {input_text} [SEP] '\n",
        "\n",
        "      #tokenize the input text\n",
        "      tokenized_text = tokenizer.tokenize(text)\n",
        "\n",
        "      #finding the index of the ['MASK'] token\n",
        "      masked_index = [i for i, x in enumerate(tokenized_text) if x == '[MASK]'][0]\n",
        "\n",
        "      #convert tokens to their corresponding indices\n",
        "      indexed_tokens = tokenizer.convert_tokens_to_ids(tokenized_text)\n",
        "      segments_ids = [0]*len(tokenized_text)\n",
        "\n",
        "      #converting indices to pytorch tensors\n",
        "      tokens_tensor = torch.tensor([indexed_tokens])\n",
        "      segments_tensors = torch.tensor([segments_ids])\n",
        "\n",
        "      # Predict probabilities for all tokens\n",
        "      with torch.no_grad():\n",
        "          outputs = model(tokens_tensor, token_type_ids=segments_tensors)\n",
        "          predictions = outputs[0][0][masked_index]\n",
        "\n",
        "      #selecting the top predicted tokens\n",
        "      predicted_ids = torch.argsort(predictions, descending=True)[:numb_predictions_displayed]\n",
        "      predicted_tokens = tokenizer.convert_ids_to_tokens(list(predicted_ids))\n",
        "\n",
        "      #append the original word and its predicted replacements to the list\n",
        "      list_candidates_bert.append((word, predicted_tokens))\n",
        "  return list_candidates_bert"
      ],
      "metadata": {
        "id": "7dUqzNlJMnt5"
      },
      "execution_count": 51,
      "outputs": []
    },
    {
      "cell_type": "markdown",
      "source": [
        "# Testing the model"
      ],
      "metadata": {
        "id": "tg71uq1DF72h"
      }
    },
    {
      "cell_type": "code",
      "source": [
        "train = train.reset_index().drop('index', axis=1)"
      ],
      "metadata": {
        "id": "oDqiMQp5G0NF"
      },
      "execution_count": 53,
      "outputs": []
    },
    {
      "cell_type": "code",
      "source": [
        "train"
      ],
      "metadata": {
        "colab": {
          "base_uri": "https://localhost:8080/",
          "height": 1000
        },
        "id": "zFhw39TGA7u5",
        "outputId": "dda772bf-66e5-49ff-9eae-dc300f893542"
      },
      "execution_count": 56,
      "outputs": [
        {
          "output_type": "execute_result",
          "data": {
            "text/plain": [
              "             id      source version                     added  \\\n",
              "0     252643161  s2ag/valid      v1  2022-10-01T15:18:53.788Z   \n",
              "1     244852373  s2ag/valid      v1  2021-12-04T16:21:39.980Z   \n",
              "2     252033565  s2ag/valid      v1  2022-09-03T15:09:09.625Z   \n",
              "3     255290365  s2ag/valid      v1  2022-12-31T16:09:26.680Z   \n",
              "4     249073215  s2ag/valid      v1  2022-05-27T15:22:24.852Z   \n",
              "...         ...         ...     ...                       ...   \n",
              "2995  254994030  s2ag/valid      v1  2022-12-23T16:02:38.402Z   \n",
              "2996  254954581  s2ag/valid      v1  2022-12-22T16:22:01.021Z   \n",
              "2997  255018692  s2ag/valid      v1  2022-12-24T16:09:05.658Z   \n",
              "2998  255327044  s2ag/valid      v1  2023-01-01T16:01:53.316Z   \n",
              "2999  254176091  s2ag/valid      v1  2022-12-03T16:13:44.560Z   \n",
              "\n",
              "                       created  \\\n",
              "0     2022-12-01T00:00:00.000Z   \n",
              "1     2022-12-01T00:00:00.000Z   \n",
              "2     2023-01-01T00:00:00.000Z   \n",
              "3     2022-12-22T00:00:00.000Z   \n",
              "4     2023-04-01T00:00:00.000Z   \n",
              "...                        ...   \n",
              "2995  2022-12-20T00:00:00.000Z   \n",
              "2996  2022-12-15T00:00:00.000Z   \n",
              "2997  2022-12-22T00:00:00.000Z   \n",
              "2998  2022-12-29T00:00:00.000Z   \n",
              "2999  2022-12-05T00:00:00.000Z   \n",
              "\n",
              "                                                   text  \\\n",
              "0     Complete Targets Coverage in Energy Harvesting...   \n",
              "1     Nonorthogonal Multiple Access Enabled Two-Way ...   \n",
              "2     Event-Triggered Adaptive Output Feedback Contr...   \n",
              "3     From MMU to MPU: Adaptation of the Pip Kernel ...   \n",
              "4     Data-Driven Cyber-Attack Detection of Intellig...   \n",
              "...                                                 ...   \n",
              "2995  Multiple Existence Results of Nontrivial Solut...   \n",
              "2996  Controlling Bifurcation and Birhythmicity in a...   \n",
              "2997  Research on a New Control System Based on L1 A...   \n",
              "2998  Blending Sea Surface Winds from the HY-2 Satel...   \n",
              "2999  A novel dual-stage shape memory alloy actuated...   \n",
              "\n",
              "                                      paper_id          fieldOfStudy  \\\n",
              "0     c0b6a8dfe459a17b885902f1415c5f0acfd72cc5  ['Computer Science']   \n",
              "1     6602075f1e6fd8966e98de07be4230ec72b1ed0b  ['Computer Science']   \n",
              "2     4767015228fb30be57a21b626c7867239255b3b6  ['Computer Science']   \n",
              "3     f72832c96c65f630e5fedcc932442d38ca1be760  ['Computer Science']   \n",
              "4     ab61f83262b23dc81f77f6dc3e80cb81e2889b7d  ['Computer Science']   \n",
              "...                                        ...                   ...   \n",
              "2995  872aace5b49044baded4e01b2145bc078a4a8050  ['Computer Science']   \n",
              "2996  a2c26a725faceeec1a942bc5b9778950802d2831  ['Computer Science']   \n",
              "2997  8278adfe91e39607b9538310e7f3cfeecd299935  ['Computer Science']   \n",
              "2998  10f458d2e39a57fb309797c6f4aa03f6e929ac7b  ['Computer Science']   \n",
              "2999  f1608b65dc5fda5c78abbd9149eca6ed547cfdab  ['Computer Science']   \n",
              "\n",
              "                                           cleaned_text  \n",
              "0     complete targets coverage energy harvesting in...  \n",
              "1     nonorthogonal multiple access enabled two way ...  \n",
              "2     event triggered adaptive output feedback contr...  \n",
              "3     mmu mpu adaptation pip kernel constrained devi...  \n",
              "4     data driven cyber attack detection intelligent...  \n",
              "...                                                 ...  \n",
              "2995  multiple existence results nontrivial solution...  \n",
              "2996  controlling bifurcation birhythmicity birhythm...  \n",
              "2997  research new control system based l adaptive c...  \n",
              "2998  blending sea surface winds hy satellite scatte...  \n",
              "2999  novel dual stage shape memory alloy actuated g...  \n",
              "\n",
              "[3000 rows x 9 columns]"
            ],
            "text/html": [
              "\n",
              "  <div id=\"df-b09b8aa8-e2ef-4252-b6b1-19cc6938ea93\" class=\"colab-df-container\">\n",
              "    <div>\n",
              "<style scoped>\n",
              "    .dataframe tbody tr th:only-of-type {\n",
              "        vertical-align: middle;\n",
              "    }\n",
              "\n",
              "    .dataframe tbody tr th {\n",
              "        vertical-align: top;\n",
              "    }\n",
              "\n",
              "    .dataframe thead th {\n",
              "        text-align: right;\n",
              "    }\n",
              "</style>\n",
              "<table border=\"1\" class=\"dataframe\">\n",
              "  <thead>\n",
              "    <tr style=\"text-align: right;\">\n",
              "      <th></th>\n",
              "      <th>id</th>\n",
              "      <th>source</th>\n",
              "      <th>version</th>\n",
              "      <th>added</th>\n",
              "      <th>created</th>\n",
              "      <th>text</th>\n",
              "      <th>paper_id</th>\n",
              "      <th>fieldOfStudy</th>\n",
              "      <th>cleaned_text</th>\n",
              "    </tr>\n",
              "  </thead>\n",
              "  <tbody>\n",
              "    <tr>\n",
              "      <th>0</th>\n",
              "      <td>252643161</td>\n",
              "      <td>s2ag/valid</td>\n",
              "      <td>v1</td>\n",
              "      <td>2022-10-01T15:18:53.788Z</td>\n",
              "      <td>2022-12-01T00:00:00.000Z</td>\n",
              "      <td>Complete Targets Coverage in Energy Harvesting...</td>\n",
              "      <td>c0b6a8dfe459a17b885902f1415c5f0acfd72cc5</td>\n",
              "      <td>['Computer Science']</td>\n",
              "      <td>complete targets coverage energy harvesting in...</td>\n",
              "    </tr>\n",
              "    <tr>\n",
              "      <th>1</th>\n",
              "      <td>244852373</td>\n",
              "      <td>s2ag/valid</td>\n",
              "      <td>v1</td>\n",
              "      <td>2021-12-04T16:21:39.980Z</td>\n",
              "      <td>2022-12-01T00:00:00.000Z</td>\n",
              "      <td>Nonorthogonal Multiple Access Enabled Two-Way ...</td>\n",
              "      <td>6602075f1e6fd8966e98de07be4230ec72b1ed0b</td>\n",
              "      <td>['Computer Science']</td>\n",
              "      <td>nonorthogonal multiple access enabled two way ...</td>\n",
              "    </tr>\n",
              "    <tr>\n",
              "      <th>2</th>\n",
              "      <td>252033565</td>\n",
              "      <td>s2ag/valid</td>\n",
              "      <td>v1</td>\n",
              "      <td>2022-09-03T15:09:09.625Z</td>\n",
              "      <td>2023-01-01T00:00:00.000Z</td>\n",
              "      <td>Event-Triggered Adaptive Output Feedback Contr...</td>\n",
              "      <td>4767015228fb30be57a21b626c7867239255b3b6</td>\n",
              "      <td>['Computer Science']</td>\n",
              "      <td>event triggered adaptive output feedback contr...</td>\n",
              "    </tr>\n",
              "    <tr>\n",
              "      <th>3</th>\n",
              "      <td>255290365</td>\n",
              "      <td>s2ag/valid</td>\n",
              "      <td>v1</td>\n",
              "      <td>2022-12-31T16:09:26.680Z</td>\n",
              "      <td>2022-12-22T00:00:00.000Z</td>\n",
              "      <td>From MMU to MPU: Adaptation of the Pip Kernel ...</td>\n",
              "      <td>f72832c96c65f630e5fedcc932442d38ca1be760</td>\n",
              "      <td>['Computer Science']</td>\n",
              "      <td>mmu mpu adaptation pip kernel constrained devi...</td>\n",
              "    </tr>\n",
              "    <tr>\n",
              "      <th>4</th>\n",
              "      <td>249073215</td>\n",
              "      <td>s2ag/valid</td>\n",
              "      <td>v1</td>\n",
              "      <td>2022-05-27T15:22:24.852Z</td>\n",
              "      <td>2023-04-01T00:00:00.000Z</td>\n",
              "      <td>Data-Driven Cyber-Attack Detection of Intellig...</td>\n",
              "      <td>ab61f83262b23dc81f77f6dc3e80cb81e2889b7d</td>\n",
              "      <td>['Computer Science']</td>\n",
              "      <td>data driven cyber attack detection intelligent...</td>\n",
              "    </tr>\n",
              "    <tr>\n",
              "      <th>...</th>\n",
              "      <td>...</td>\n",
              "      <td>...</td>\n",
              "      <td>...</td>\n",
              "      <td>...</td>\n",
              "      <td>...</td>\n",
              "      <td>...</td>\n",
              "      <td>...</td>\n",
              "      <td>...</td>\n",
              "      <td>...</td>\n",
              "    </tr>\n",
              "    <tr>\n",
              "      <th>2995</th>\n",
              "      <td>254994030</td>\n",
              "      <td>s2ag/valid</td>\n",
              "      <td>v1</td>\n",
              "      <td>2022-12-23T16:02:38.402Z</td>\n",
              "      <td>2022-12-20T00:00:00.000Z</td>\n",
              "      <td>Multiple Existence Results of Nontrivial Solut...</td>\n",
              "      <td>872aace5b49044baded4e01b2145bc078a4a8050</td>\n",
              "      <td>['Computer Science']</td>\n",
              "      <td>multiple existence results nontrivial solution...</td>\n",
              "    </tr>\n",
              "    <tr>\n",
              "      <th>2996</th>\n",
              "      <td>254954581</td>\n",
              "      <td>s2ag/valid</td>\n",
              "      <td>v1</td>\n",
              "      <td>2022-12-22T16:22:01.021Z</td>\n",
              "      <td>2022-12-15T00:00:00.000Z</td>\n",
              "      <td>Controlling Bifurcation and Birhythmicity in a...</td>\n",
              "      <td>a2c26a725faceeec1a942bc5b9778950802d2831</td>\n",
              "      <td>['Computer Science']</td>\n",
              "      <td>controlling bifurcation birhythmicity birhythm...</td>\n",
              "    </tr>\n",
              "    <tr>\n",
              "      <th>2997</th>\n",
              "      <td>255018692</td>\n",
              "      <td>s2ag/valid</td>\n",
              "      <td>v1</td>\n",
              "      <td>2022-12-24T16:09:05.658Z</td>\n",
              "      <td>2022-12-22T00:00:00.000Z</td>\n",
              "      <td>Research on a New Control System Based on L1 A...</td>\n",
              "      <td>8278adfe91e39607b9538310e7f3cfeecd299935</td>\n",
              "      <td>['Computer Science']</td>\n",
              "      <td>research new control system based l adaptive c...</td>\n",
              "    </tr>\n",
              "    <tr>\n",
              "      <th>2998</th>\n",
              "      <td>255327044</td>\n",
              "      <td>s2ag/valid</td>\n",
              "      <td>v1</td>\n",
              "      <td>2023-01-01T16:01:53.316Z</td>\n",
              "      <td>2022-12-29T00:00:00.000Z</td>\n",
              "      <td>Blending Sea Surface Winds from the HY-2 Satel...</td>\n",
              "      <td>10f458d2e39a57fb309797c6f4aa03f6e929ac7b</td>\n",
              "      <td>['Computer Science']</td>\n",
              "      <td>blending sea surface winds hy satellite scatte...</td>\n",
              "    </tr>\n",
              "    <tr>\n",
              "      <th>2999</th>\n",
              "      <td>254176091</td>\n",
              "      <td>s2ag/valid</td>\n",
              "      <td>v1</td>\n",
              "      <td>2022-12-03T16:13:44.560Z</td>\n",
              "      <td>2022-12-05T00:00:00.000Z</td>\n",
              "      <td>A novel dual-stage shape memory alloy actuated...</td>\n",
              "      <td>f1608b65dc5fda5c78abbd9149eca6ed547cfdab</td>\n",
              "      <td>['Computer Science']</td>\n",
              "      <td>novel dual stage shape memory alloy actuated g...</td>\n",
              "    </tr>\n",
              "  </tbody>\n",
              "</table>\n",
              "<p>3000 rows × 9 columns</p>\n",
              "</div>\n",
              "    <div class=\"colab-df-buttons\">\n",
              "\n",
              "  <div class=\"colab-df-container\">\n",
              "    <button class=\"colab-df-convert\" onclick=\"convertToInteractive('df-b09b8aa8-e2ef-4252-b6b1-19cc6938ea93')\"\n",
              "            title=\"Convert this dataframe to an interactive table.\"\n",
              "            style=\"display:none;\">\n",
              "\n",
              "  <svg xmlns=\"http://www.w3.org/2000/svg\" height=\"24px\" viewBox=\"0 -960 960 960\">\n",
              "    <path d=\"M120-120v-720h720v720H120Zm60-500h600v-160H180v160Zm220 220h160v-160H400v160Zm0 220h160v-160H400v160ZM180-400h160v-160H180v160Zm440 0h160v-160H620v160ZM180-180h160v-160H180v160Zm440 0h160v-160H620v160Z\"/>\n",
              "  </svg>\n",
              "    </button>\n",
              "\n",
              "  <style>\n",
              "    .colab-df-container {\n",
              "      display:flex;\n",
              "      gap: 12px;\n",
              "    }\n",
              "\n",
              "    .colab-df-convert {\n",
              "      background-color: #E8F0FE;\n",
              "      border: none;\n",
              "      border-radius: 50%;\n",
              "      cursor: pointer;\n",
              "      display: none;\n",
              "      fill: #1967D2;\n",
              "      height: 32px;\n",
              "      padding: 0 0 0 0;\n",
              "      width: 32px;\n",
              "    }\n",
              "\n",
              "    .colab-df-convert:hover {\n",
              "      background-color: #E2EBFA;\n",
              "      box-shadow: 0px 1px 2px rgba(60, 64, 67, 0.3), 0px 1px 3px 1px rgba(60, 64, 67, 0.15);\n",
              "      fill: #174EA6;\n",
              "    }\n",
              "\n",
              "    .colab-df-buttons div {\n",
              "      margin-bottom: 4px;\n",
              "    }\n",
              "\n",
              "    [theme=dark] .colab-df-convert {\n",
              "      background-color: #3B4455;\n",
              "      fill: #D2E3FC;\n",
              "    }\n",
              "\n",
              "    [theme=dark] .colab-df-convert:hover {\n",
              "      background-color: #434B5C;\n",
              "      box-shadow: 0px 1px 3px 1px rgba(0, 0, 0, 0.15);\n",
              "      filter: drop-shadow(0px 1px 2px rgba(0, 0, 0, 0.3));\n",
              "      fill: #FFFFFF;\n",
              "    }\n",
              "  </style>\n",
              "\n",
              "    <script>\n",
              "      const buttonEl =\n",
              "        document.querySelector('#df-b09b8aa8-e2ef-4252-b6b1-19cc6938ea93 button.colab-df-convert');\n",
              "      buttonEl.style.display =\n",
              "        google.colab.kernel.accessAllowed ? 'block' : 'none';\n",
              "\n",
              "      async function convertToInteractive(key) {\n",
              "        const element = document.querySelector('#df-b09b8aa8-e2ef-4252-b6b1-19cc6938ea93');\n",
              "        const dataTable =\n",
              "          await google.colab.kernel.invokeFunction('convertToInteractive',\n",
              "                                                    [key], {});\n",
              "        if (!dataTable) return;\n",
              "\n",
              "        const docLinkHtml = 'Like what you see? Visit the ' +\n",
              "          '<a target=\"_blank\" href=https://colab.research.google.com/notebooks/data_table.ipynb>data table notebook</a>'\n",
              "          + ' to learn more about interactive tables.';\n",
              "        element.innerHTML = '';\n",
              "        dataTable['output_type'] = 'display_data';\n",
              "        await google.colab.output.renderOutput(dataTable, element);\n",
              "        const docLink = document.createElement('div');\n",
              "        docLink.innerHTML = docLinkHtml;\n",
              "        element.appendChild(docLink);\n",
              "      }\n",
              "    </script>\n",
              "  </div>\n",
              "\n",
              "\n",
              "<div id=\"df-d4473df7-a8a9-4e06-baa1-d92334d7ea0f\">\n",
              "  <button class=\"colab-df-quickchart\" onclick=\"quickchart('df-d4473df7-a8a9-4e06-baa1-d92334d7ea0f')\"\n",
              "            title=\"Suggest charts\"\n",
              "            style=\"display:none;\">\n",
              "\n",
              "<svg xmlns=\"http://www.w3.org/2000/svg\" height=\"24px\"viewBox=\"0 0 24 24\"\n",
              "     width=\"24px\">\n",
              "    <g>\n",
              "        <path d=\"M19 3H5c-1.1 0-2 .9-2 2v14c0 1.1.9 2 2 2h14c1.1 0 2-.9 2-2V5c0-1.1-.9-2-2-2zM9 17H7v-7h2v7zm4 0h-2V7h2v10zm4 0h-2v-4h2v4z\"/>\n",
              "    </g>\n",
              "</svg>\n",
              "  </button>\n",
              "\n",
              "<style>\n",
              "  .colab-df-quickchart {\n",
              "      --bg-color: #E8F0FE;\n",
              "      --fill-color: #1967D2;\n",
              "      --hover-bg-color: #E2EBFA;\n",
              "      --hover-fill-color: #174EA6;\n",
              "      --disabled-fill-color: #AAA;\n",
              "      --disabled-bg-color: #DDD;\n",
              "  }\n",
              "\n",
              "  [theme=dark] .colab-df-quickchart {\n",
              "      --bg-color: #3B4455;\n",
              "      --fill-color: #D2E3FC;\n",
              "      --hover-bg-color: #434B5C;\n",
              "      --hover-fill-color: #FFFFFF;\n",
              "      --disabled-bg-color: #3B4455;\n",
              "      --disabled-fill-color: #666;\n",
              "  }\n",
              "\n",
              "  .colab-df-quickchart {\n",
              "    background-color: var(--bg-color);\n",
              "    border: none;\n",
              "    border-radius: 50%;\n",
              "    cursor: pointer;\n",
              "    display: none;\n",
              "    fill: var(--fill-color);\n",
              "    height: 32px;\n",
              "    padding: 0;\n",
              "    width: 32px;\n",
              "  }\n",
              "\n",
              "  .colab-df-quickchart:hover {\n",
              "    background-color: var(--hover-bg-color);\n",
              "    box-shadow: 0 1px 2px rgba(60, 64, 67, 0.3), 0 1px 3px 1px rgba(60, 64, 67, 0.15);\n",
              "    fill: var(--button-hover-fill-color);\n",
              "  }\n",
              "\n",
              "  .colab-df-quickchart-complete:disabled,\n",
              "  .colab-df-quickchart-complete:disabled:hover {\n",
              "    background-color: var(--disabled-bg-color);\n",
              "    fill: var(--disabled-fill-color);\n",
              "    box-shadow: none;\n",
              "  }\n",
              "\n",
              "  .colab-df-spinner {\n",
              "    border: 2px solid var(--fill-color);\n",
              "    border-color: transparent;\n",
              "    border-bottom-color: var(--fill-color);\n",
              "    animation:\n",
              "      spin 1s steps(1) infinite;\n",
              "  }\n",
              "\n",
              "  @keyframes spin {\n",
              "    0% {\n",
              "      border-color: transparent;\n",
              "      border-bottom-color: var(--fill-color);\n",
              "      border-left-color: var(--fill-color);\n",
              "    }\n",
              "    20% {\n",
              "      border-color: transparent;\n",
              "      border-left-color: var(--fill-color);\n",
              "      border-top-color: var(--fill-color);\n",
              "    }\n",
              "    30% {\n",
              "      border-color: transparent;\n",
              "      border-left-color: var(--fill-color);\n",
              "      border-top-color: var(--fill-color);\n",
              "      border-right-color: var(--fill-color);\n",
              "    }\n",
              "    40% {\n",
              "      border-color: transparent;\n",
              "      border-right-color: var(--fill-color);\n",
              "      border-top-color: var(--fill-color);\n",
              "    }\n",
              "    60% {\n",
              "      border-color: transparent;\n",
              "      border-right-color: var(--fill-color);\n",
              "    }\n",
              "    80% {\n",
              "      border-color: transparent;\n",
              "      border-right-color: var(--fill-color);\n",
              "      border-bottom-color: var(--fill-color);\n",
              "    }\n",
              "    90% {\n",
              "      border-color: transparent;\n",
              "      border-bottom-color: var(--fill-color);\n",
              "    }\n",
              "  }\n",
              "</style>\n",
              "\n",
              "  <script>\n",
              "    async function quickchart(key) {\n",
              "      const quickchartButtonEl =\n",
              "        document.querySelector('#' + key + ' button');\n",
              "      quickchartButtonEl.disabled = true;  // To prevent multiple clicks.\n",
              "      quickchartButtonEl.classList.add('colab-df-spinner');\n",
              "      try {\n",
              "        const charts = await google.colab.kernel.invokeFunction(\n",
              "            'suggestCharts', [key], {});\n",
              "      } catch (error) {\n",
              "        console.error('Error during call to suggestCharts:', error);\n",
              "      }\n",
              "      quickchartButtonEl.classList.remove('colab-df-spinner');\n",
              "      quickchartButtonEl.classList.add('colab-df-quickchart-complete');\n",
              "    }\n",
              "    (() => {\n",
              "      let quickchartButtonEl =\n",
              "        document.querySelector('#df-d4473df7-a8a9-4e06-baa1-d92334d7ea0f button');\n",
              "      quickchartButtonEl.style.display =\n",
              "        google.colab.kernel.accessAllowed ? 'block' : 'none';\n",
              "    })();\n",
              "  </script>\n",
              "</div>\n",
              "\n",
              "  <div id=\"id_eb1d13a2-95f9-4b0a-8bf4-bc283ed3354b\">\n",
              "    <style>\n",
              "      .colab-df-generate {\n",
              "        background-color: #E8F0FE;\n",
              "        border: none;\n",
              "        border-radius: 50%;\n",
              "        cursor: pointer;\n",
              "        display: none;\n",
              "        fill: #1967D2;\n",
              "        height: 32px;\n",
              "        padding: 0 0 0 0;\n",
              "        width: 32px;\n",
              "      }\n",
              "\n",
              "      .colab-df-generate:hover {\n",
              "        background-color: #E2EBFA;\n",
              "        box-shadow: 0px 1px 2px rgba(60, 64, 67, 0.3), 0px 1px 3px 1px rgba(60, 64, 67, 0.15);\n",
              "        fill: #174EA6;\n",
              "      }\n",
              "\n",
              "      [theme=dark] .colab-df-generate {\n",
              "        background-color: #3B4455;\n",
              "        fill: #D2E3FC;\n",
              "      }\n",
              "\n",
              "      [theme=dark] .colab-df-generate:hover {\n",
              "        background-color: #434B5C;\n",
              "        box-shadow: 0px 1px 3px 1px rgba(0, 0, 0, 0.15);\n",
              "        filter: drop-shadow(0px 1px 2px rgba(0, 0, 0, 0.3));\n",
              "        fill: #FFFFFF;\n",
              "      }\n",
              "    </style>\n",
              "    <button class=\"colab-df-generate\" onclick=\"generateWithVariable('train')\"\n",
              "            title=\"Generate code using this dataframe.\"\n",
              "            style=\"display:none;\">\n",
              "\n",
              "  <svg xmlns=\"http://www.w3.org/2000/svg\" height=\"24px\"viewBox=\"0 0 24 24\"\n",
              "       width=\"24px\">\n",
              "    <path d=\"M7,19H8.4L18.45,9,17,7.55,7,17.6ZM5,21V16.75L18.45,3.32a2,2,0,0,1,2.83,0l1.4,1.43a1.91,1.91,0,0,1,.58,1.4,1.91,1.91,0,0,1-.58,1.4L9.25,21ZM18.45,9,17,7.55Zm-12,3A5.31,5.31,0,0,0,4.9,8.1,5.31,5.31,0,0,0,1,6.5,5.31,5.31,0,0,0,4.9,4.9,5.31,5.31,0,0,0,6.5,1,5.31,5.31,0,0,0,8.1,4.9,5.31,5.31,0,0,0,12,6.5,5.46,5.46,0,0,0,6.5,12Z\"/>\n",
              "  </svg>\n",
              "    </button>\n",
              "    <script>\n",
              "      (() => {\n",
              "      const buttonEl =\n",
              "        document.querySelector('#id_eb1d13a2-95f9-4b0a-8bf4-bc283ed3354b button.colab-df-generate');\n",
              "      buttonEl.style.display =\n",
              "        google.colab.kernel.accessAllowed ? 'block' : 'none';\n",
              "\n",
              "      buttonEl.onclick = () => {\n",
              "        google.colab.notebook.generateWithVariable('train');\n",
              "      }\n",
              "      })();\n",
              "    </script>\n",
              "  </div>\n",
              "\n",
              "    </div>\n",
              "  </div>\n"
            ]
          },
          "metadata": {},
          "execution_count": 56
        }
      ]
    },
    {
      "cell_type": "code",
      "source": [
        "text = train.iloc[5].text #Trying on original text without stopword removal"
      ],
      "metadata": {
        "id": "TXV0jRTVPGRC"
      },
      "execution_count": 62,
      "outputs": []
    },
    {
      "cell_type": "code",
      "source": [
        "sentences = text.split('.')"
      ],
      "metadata": {
        "id": "dK3beQZ5QLwc"
      },
      "execution_count": 64,
      "outputs": []
    },
    {
      "cell_type": "code",
      "source": [
        "#Simplifying research paper sentences\n",
        "\n",
        "def simplify_research_paper(text_data):\n",
        "  for input_text in sentences:\n",
        "    new_text = input_text\n",
        "    input_padded, index_list, len_list = process_input(input_text)\n",
        "    pred_cwi = model_cwi.predict(input_padded)\n",
        "    pred_cwi_binary = np.argmax(pred_cwi, axis = 2)\n",
        "    complete_cwi_predictions = complete_missing_word(pred_cwi_binary, index_list, len_list)\n",
        "    bert_candidates =   get_bert_candidates(input_text, complete_cwi_predictions)\n",
        "    for word_to_replace, l_candidates in bert_candidates:\n",
        "      tuples_word_zipf = []\n",
        "      for w in l_candidates:\n",
        "        if w.isalpha():\n",
        "          tuples_word_zipf.append((w, zipf_frequency(w, 'en')))\n",
        "      tuples_word_zipf = sorted(tuples_word_zipf, key = lambda x: x[1], reverse=True)\n",
        "      new_text = re.sub(word_to_replace, tuples_word_zipf[0][0], new_text)\n",
        "    print(\"Original text: \", input_text )\n",
        "    print(\"Simplified text:\", new_text, \"\\n\")"
      ],
      "metadata": {
        "id": "t1oV3lmOQM6Y"
      },
      "execution_count": 65,
      "outputs": []
    },
    {
      "cell_type": "code",
      "source": [
        "simplify_research_paper(sentences)"
      ],
      "metadata": {
        "colab": {
          "base_uri": "https://localhost:8080/"
        },
        "id": "p5hvJAaXHu4V",
        "outputId": "64b97cc5-a55c-4ba0-ebe9-580c16aba742"
      },
      "execution_count": 66,
      "outputs": [
        {
          "output_type": "stream",
          "name": "stdout",
          "text": [
            "1/1 [==============================] - 0s 162ms/step\n",
            "Original text:  Algorithm for Determining the Types of Inverse Kinematics Solutions for Sequential Planar Robots and Their Representation in the Configuration Space\n",
            "\n",
            "The work defines in a new way the different types of solutions of the inverse kinematics (IK) problem for planar robots with a serial topology and presents an algorithm for solving it\n",
            "Simplified text: problem for setting the Types of index functions Solutions for Sequential distributed systems and Their description in the state Space\n",
            "\n",
            "The work defined in a new way the different types of solutions of the associate control (IK) problem for the systems with a serial topology and present an idea for finding it \n",
            "\n",
            "1/1 [==============================] - 0s 106ms/step\n",
            "Original text:   The developed algorithm allows the finding of solutions for a wide range of robots by using a geometric approach, representing points in a polar coordinate system\n",
            "Simplified text:  The developed system allowed the finding of solutions for a wide family of problems by using a linear approach, representing points in a polar coordinate system \n",
            "\n",
            "1/1 [==============================] - 0s 183ms/step\n",
            "Original text:   Inverse kinematics, which is one of the most important, most studied and challenging problems in robotics, aims to calculate the values of the joint variables, given the desired position and orientation of the robot’s end effector\n",
            "Simplified text:  original analysis which is one of the most important, most studied and difficult problems in robotics, aims to determine the value of the joint variables, given the desired position and orientation of the human end state \n",
            "\n",
            "1/1 [==============================] - 0s 107ms/step\n",
            "Original text:   Configuration space is defined by joint angles and is the basis of most motion planning algorithms\n",
            "Simplified text:  Configuration space is defined by joint angles and is the source of most action planning algorithms \n",
            "\n",
            "1/1 [==============================] - 0s 218ms/step\n",
            "Original text:   Areas in the working and configuration space are generated that are reachable with different types of solutions\n",
            "Simplified text:  Areas in the working and control space are generated that are possible with different types of solutions \n",
            "\n",
            "1/1 [==============================] - 0s 224ms/step\n",
            "Original text:   Programs are created that use the proposed algorithm for robots with two and three rotational degrees of freedom, and graphically present the results in the workspace and configuration space\n",
            "Simplified text:  program are created that use the proposed model for models with two and three rotational states of freedom, and they present the results in the program and design space \n",
            "\n",
            "1/1 [==============================] - 0s 114ms/step\n",
            "Original text:   The possibility of transitioning from one type of solution to another by passing through a singular configuration is discussed\n",
            "Simplified text:  The problem of transitioning from one kind of state to another by passing through a single state is discussed \n",
            "\n",
            "1/1 [==============================] - 0s 218ms/step\n",
            "Original text:   The results are important for planning motions in the workspace and configuration space, as well as for the design and kinematic analysis of robots\n",
            "Simplified text:  The results are important for planning motions in the work and design space, as well as for the design and technical study of robots \n",
            "\n",
            "1/1 [==============================] - 0s 108ms/step\n",
            "Original text:  \n",
            "Simplified text:  \n",
            "\n"
          ]
        }
      ]
    },
    {
      "cell_type": "markdown",
      "source": [
        "# Evaluation"
      ],
      "metadata": {
        "id": "K1GgrI7gAgyv"
      }
    },
    {
      "cell_type": "code",
      "source": [
        "from nltk.translate.bleu_score import sentence_bleu\n",
        "\n",
        "original = [word_tokenize(\"Event-Triggered Adaptive Output Feedback Control for Stochastic Nonlinear Systems With Time-Varying Full-State Constraints\")]\n",
        "replaced = word_tokenize(\"Event-Triggered Adaptive Output Feedback system for Stochastic complex Systems With Time-Varying Full-State problems\")\n",
        "\n",
        "score = sentence_bleu(original, replaced)"
      ],
      "metadata": {
        "id": "zyPMktEHMRKY"
      },
      "execution_count": 87,
      "outputs": []
    },
    {
      "cell_type": "code",
      "source": [
        "score"
      ],
      "metadata": {
        "colab": {
          "base_uri": "https://localhost:8080/"
        },
        "id": "vYJaOmvxMgEw",
        "outputId": "1f7ca2b0-266d-437e-9bdb-51dd015155e5"
      },
      "execution_count": 88,
      "outputs": [
        {
          "output_type": "execute_result",
          "data": {
            "text/plain": [
              "0.4250281413416978"
            ]
          },
          "metadata": {},
          "execution_count": 88
        }
      ]
    },
    {
      "cell_type": "code",
      "source": [
        "from nltk.translate.bleu_score import sentence_bleu\n",
        "\n",
        "original = [word_tokenize(\"The developed algorithm allows the finding of solutions for a wide range of robots by using a geometric approach, representing points in a polar coordinate system\")]\n",
        "replaced = word_tokenize(\"The developed system allowed the finding of solutions for a wide family of problems by using a linear approach, representing points in a polar coordinate system \")\n",
        "\n",
        "score = sentence_bleu(original, replaced)\n",
        "score"
      ],
      "metadata": {
        "colab": {
          "base_uri": "https://localhost:8080/"
        },
        "id": "tyu63AuFCAnG",
        "outputId": "dbe2a8f1-27a6-416d-a9dd-dab00ae8fec3"
      },
      "execution_count": 68,
      "outputs": [
        {
          "output_type": "execute_result",
          "data": {
            "text/plain": [
              "0.5828833474188783"
            ]
          },
          "metadata": {},
          "execution_count": 68
        }
      ]
    }
  ]
}